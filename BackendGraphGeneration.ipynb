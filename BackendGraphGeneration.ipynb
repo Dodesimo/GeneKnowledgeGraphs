{
 "cells": [
  {
   "cell_type": "code",
   "id": "initial_id",
   "metadata": {
    "collapsed": true,
    "ExecuteTime": {
     "end_time": "2024-08-16T04:23:40.286836Z",
     "start_time": "2024-08-16T04:23:34.292150Z"
    }
   },
   "source": [
    "import pandas as pd\n",
    "!pip install openai\n",
    "!pip install pandas\n",
    "!pip install aiohttp\n",
    "!pip install lxml"
   ],
   "outputs": [
    {
     "name": "stdout",
     "output_type": "stream",
     "text": [
      "Requirement already satisfied: openai in ./.venv/lib/python3.9/site-packages (1.40.7)\r\n",
      "Requirement already satisfied: anyio<5,>=3.5.0 in ./.venv/lib/python3.9/site-packages (from openai) (4.4.0)\r\n",
      "Requirement already satisfied: distro<2,>=1.7.0 in ./.venv/lib/python3.9/site-packages (from openai) (1.9.0)\r\n",
      "Requirement already satisfied: httpx<1,>=0.23.0 in ./.venv/lib/python3.9/site-packages (from openai) (0.27.0)\r\n",
      "Requirement already satisfied: jiter<1,>=0.4.0 in ./.venv/lib/python3.9/site-packages (from openai) (0.5.0)\r\n",
      "Requirement already satisfied: pydantic<3,>=1.9.0 in ./.venv/lib/python3.9/site-packages (from openai) (2.8.2)\r\n",
      "Requirement already satisfied: sniffio in ./.venv/lib/python3.9/site-packages (from openai) (1.3.1)\r\n",
      "Requirement already satisfied: tqdm>4 in ./.venv/lib/python3.9/site-packages (from openai) (4.66.5)\r\n",
      "Requirement already satisfied: typing-extensions<5,>=4.11 in ./.venv/lib/python3.9/site-packages (from openai) (4.12.2)\r\n",
      "Requirement already satisfied: idna>=2.8 in ./.venv/lib/python3.9/site-packages (from anyio<5,>=3.5.0->openai) (3.7)\r\n",
      "Requirement already satisfied: exceptiongroup>=1.0.2 in ./.venv/lib/python3.9/site-packages (from anyio<5,>=3.5.0->openai) (1.2.2)\r\n",
      "Requirement already satisfied: certifi in ./.venv/lib/python3.9/site-packages (from httpx<1,>=0.23.0->openai) (2024.7.4)\r\n",
      "Requirement already satisfied: httpcore==1.* in ./.venv/lib/python3.9/site-packages (from httpx<1,>=0.23.0->openai) (1.0.5)\r\n",
      "Requirement already satisfied: h11<0.15,>=0.13 in ./.venv/lib/python3.9/site-packages (from httpcore==1.*->httpx<1,>=0.23.0->openai) (0.14.0)\r\n",
      "Requirement already satisfied: annotated-types>=0.4.0 in ./.venv/lib/python3.9/site-packages (from pydantic<3,>=1.9.0->openai) (0.7.0)\r\n",
      "Requirement already satisfied: pydantic-core==2.20.1 in ./.venv/lib/python3.9/site-packages (from pydantic<3,>=1.9.0->openai) (2.20.1)\r\n",
      "\r\n",
      "\u001B[1m[\u001B[0m\u001B[34;49mnotice\u001B[0m\u001B[1;39;49m]\u001B[0m\u001B[39;49m A new release of pip is available: \u001B[0m\u001B[31;49m23.2.1\u001B[0m\u001B[39;49m -> \u001B[0m\u001B[32;49m24.2\u001B[0m\r\n",
      "\u001B[1m[\u001B[0m\u001B[34;49mnotice\u001B[0m\u001B[1;39;49m]\u001B[0m\u001B[39;49m To update, run: \u001B[0m\u001B[32;49mpip install --upgrade pip\u001B[0m\r\n",
      "Requirement already satisfied: pandas in ./.venv/lib/python3.9/site-packages (2.2.2)\r\n",
      "Requirement already satisfied: numpy>=1.22.4 in ./.venv/lib/python3.9/site-packages (from pandas) (2.0.1)\r\n",
      "Requirement already satisfied: python-dateutil>=2.8.2 in ./.venv/lib/python3.9/site-packages (from pandas) (2.9.0.post0)\r\n",
      "Requirement already satisfied: pytz>=2020.1 in ./.venv/lib/python3.9/site-packages (from pandas) (2024.1)\r\n",
      "Requirement already satisfied: tzdata>=2022.7 in ./.venv/lib/python3.9/site-packages (from pandas) (2024.1)\r\n",
      "Requirement already satisfied: six>=1.5 in ./.venv/lib/python3.9/site-packages (from python-dateutil>=2.8.2->pandas) (1.16.0)\r\n",
      "\r\n",
      "\u001B[1m[\u001B[0m\u001B[34;49mnotice\u001B[0m\u001B[1;39;49m]\u001B[0m\u001B[39;49m A new release of pip is available: \u001B[0m\u001B[31;49m23.2.1\u001B[0m\u001B[39;49m -> \u001B[0m\u001B[32;49m24.2\u001B[0m\r\n",
      "\u001B[1m[\u001B[0m\u001B[34;49mnotice\u001B[0m\u001B[1;39;49m]\u001B[0m\u001B[39;49m To update, run: \u001B[0m\u001B[32;49mpip install --upgrade pip\u001B[0m\r\n",
      "Requirement already satisfied: aiohttp in ./.venv/lib/python3.9/site-packages (3.10.3)\r\n",
      "Requirement already satisfied: aiohappyeyeballs>=2.3.0 in ./.venv/lib/python3.9/site-packages (from aiohttp) (2.3.5)\r\n",
      "Requirement already satisfied: aiosignal>=1.1.2 in ./.venv/lib/python3.9/site-packages (from aiohttp) (1.3.1)\r\n",
      "Requirement already satisfied: attrs>=17.3.0 in ./.venv/lib/python3.9/site-packages (from aiohttp) (24.2.0)\r\n",
      "Requirement already satisfied: frozenlist>=1.1.1 in ./.venv/lib/python3.9/site-packages (from aiohttp) (1.4.1)\r\n",
      "Requirement already satisfied: multidict<7.0,>=4.5 in ./.venv/lib/python3.9/site-packages (from aiohttp) (6.0.5)\r\n",
      "Requirement already satisfied: yarl<2.0,>=1.0 in ./.venv/lib/python3.9/site-packages (from aiohttp) (1.9.4)\r\n",
      "Requirement already satisfied: async-timeout<5.0,>=4.0 in ./.venv/lib/python3.9/site-packages (from aiohttp) (4.0.3)\r\n",
      "Requirement already satisfied: idna>=2.0 in ./.venv/lib/python3.9/site-packages (from yarl<2.0,>=1.0->aiohttp) (3.7)\r\n",
      "\r\n",
      "\u001B[1m[\u001B[0m\u001B[34;49mnotice\u001B[0m\u001B[1;39;49m]\u001B[0m\u001B[39;49m A new release of pip is available: \u001B[0m\u001B[31;49m23.2.1\u001B[0m\u001B[39;49m -> \u001B[0m\u001B[32;49m24.2\u001B[0m\r\n",
      "\u001B[1m[\u001B[0m\u001B[34;49mnotice\u001B[0m\u001B[1;39;49m]\u001B[0m\u001B[39;49m To update, run: \u001B[0m\u001B[32;49mpip install --upgrade pip\u001B[0m\r\n",
      "Collecting lxml\r\n",
      "  Obtaining dependency information for lxml from https://files.pythonhosted.org/packages/89/a9/63af38c7f42baff8251d937be91c6decfe9e4725fe16283dcee428e08d5c/lxml-5.3.0-cp39-cp39-macosx_10_9_universal2.whl.metadata\r\n",
      "  Downloading lxml-5.3.0-cp39-cp39-macosx_10_9_universal2.whl.metadata (3.8 kB)\r\n",
      "Downloading lxml-5.3.0-cp39-cp39-macosx_10_9_universal2.whl (8.1 MB)\r\n",
      "\u001B[2K   \u001B[90m━━━━━━━━━━━━━━━━━━━━━━━━━━━━━━━━━━━━━━━━\u001B[0m \u001B[32m8.1/8.1 MB\u001B[0m \u001B[31m4.1 MB/s\u001B[0m eta \u001B[36m0:00:00\u001B[0m00:01\u001B[0m00:01\u001B[0m\r\n",
      "\u001B[?25hInstalling collected packages: lxml\r\n",
      "Successfully installed lxml-5.3.0\r\n",
      "\r\n",
      "\u001B[1m[\u001B[0m\u001B[34;49mnotice\u001B[0m\u001B[1;39;49m]\u001B[0m\u001B[39;49m A new release of pip is available: \u001B[0m\u001B[31;49m23.2.1\u001B[0m\u001B[39;49m -> \u001B[0m\u001B[32;49m24.2\u001B[0m\r\n",
      "\u001B[1m[\u001B[0m\u001B[34;49mnotice\u001B[0m\u001B[1;39;49m]\u001B[0m\u001B[39;49m To update, run: \u001B[0m\u001B[32;49mpip install --upgrade pip\u001B[0m\r\n"
     ]
    }
   ],
   "execution_count": 6
  },
  {
   "metadata": {},
   "cell_type": "markdown",
   "source": "First, create list of keywords necessary in the keyword.txt file.",
   "id": "24ee611ffddfe2a1"
  },
  {
   "metadata": {},
   "cell_type": "markdown",
   "source": "Then, run command with the following command that will give top ten article information from 2022 to 2024 and save data to article_data.csv",
   "id": "c17b47e5f7946f10"
  },
  {
   "metadata": {
    "ExecuteTime": {
     "end_time": "2024-08-16T04:28:19.319112Z",
     "start_time": "2024-08-16T04:28:16.193704Z"
    }
   },
   "cell_type": "code",
   "source": "!python async_pubmed_scraper.py --pages 1 --start 2018 --stop 2020 --output article_data",
   "id": "59158628ec38ef82",
   "outputs": [
    {
     "name": "stdout",
     "output_type": "stream",
     "text": [
      "/Users/devammondal/PycharmProjects/geneKnowledgeGraphs/.venv/lib/python3.9/site-packages/urllib3/__init__.py:35: NotOpenSSLWarning: urllib3 v2 only supports OpenSSL 1.1.1+, currently the 'ssl' module is compiled with 'LibreSSL 2.8.3'. See: https://github.com/urllib3/urllib3/issues/3020\r\n",
      "  warnings.warn(\r\n",
      "\r\n",
      "Finding PubMed article URLs for 5 keywords found in keywords.txt\r\n",
      "\r\n",
      "Scraping initiated for 50 article URLs found from 2018 to 2020\r\n",
      "\r\n",
      "Preview of scraped article data:\r\n",
      "\r\n",
      "      title     abstract  ...     keywords                                       url\r\n",
      "0  NO_TITLE  NO_ABSTRACT  ...  NO_KEYWORDS  https://pubmed.ncbi.nlm.nih.gov/31157963\r\n",
      "1  NO_TITLE  NO_ABSTRACT  ...  NO_KEYWORDS  https://pubmed.ncbi.nlm.nih.gov/31292550\r\n",
      "2  NO_TITLE  NO_ABSTRACT  ...  NO_KEYWORDS  https://pubmed.ncbi.nlm.nih.gov/31093808\r\n",
      "3  NO_TITLE  NO_ABSTRACT  ...  NO_KEYWORDS  https://pubmed.ncbi.nlm.nih.gov/29988080\r\n",
      "4  NO_TITLE  NO_ABSTRACT  ...  NO_KEYWORDS  https://pubmed.ncbi.nlm.nih.gov/28925400\r\n",
      "\r\n",
      "[5 rows x 8 columns]\r\n",
      "It took 2.4340598583221436 seconds to find 50 articles; 42 unique articles were saved to article_data.csv\r\n"
     ]
    }
   ],
   "execution_count": 8
  },
  {
   "metadata": {},
   "cell_type": "markdown",
   "source": "Load the first five entries of the results into a pandas dataframe.",
   "id": "afb5473d18925da1"
  },
  {
   "metadata": {
    "ExecuteTime": {
     "end_time": "2024-08-16T04:33:14.652202Z",
     "start_time": "2024-08-16T04:33:14.371531Z"
    }
   },
   "cell_type": "code",
   "source": [
    "import pandas as pd\n",
    "firstFive = pd.read_csv('/Users/devammondal/PycharmProjects/geneKnowledgeGraphs/article_data.csv')"
   ],
   "id": "7c049d281d443e49",
   "outputs": [],
   "execution_count": 10
  },
  {
   "metadata": {
    "ExecuteTime": {
     "end_time": "2024-08-17T05:09:35.260721Z",
     "start_time": "2024-08-17T05:09:35.257127Z"
    }
   },
   "cell_type": "code",
   "source": [
    "abstract = firstFive[35:42]['abstract'][36]\n",
    "abstract"
   ],
   "id": "8599847b06f8b767",
   "outputs": [
    {
     "data": {
      "text/plain": [
       "'B-cell lymphoma extra large (BCL-XL) is a well-validated cancer target. However, the on-target and dose-limiting thrombocytopenia limits the use of BCL-XL inhibitors, such as ABT263, as safe and effective anticancer agents. To reduce the toxicity of ABT263, we converted it into DT2216, a BCL-XL proteolysis-targeting chimera (PROTAC), that targets BCL-XL to the Von Hippel-Lindau (VHL) E3 ligase for degradation. We found that DT2216 was more potent against various BCL-XL-dependent leukemia and cancer cells but considerably less toxic to platelets than ABT263 in vitro because VHL is poorly expressed in platelets. In vivo, DT2216 effectively inhibits the growth of several xenograft tumors as a single agent or in combination with other chemotherapeutic agents, without causing appreciable thrombocytopenia. These findings demonstrate the potential to use PROTAC technology to reduce on-target drug toxicities and rescue the therapeutic potential of previously undruggable targets. Furthermore, DT2216 may be developed as a safe first-in-class anticancer agent targeting BCL-XL.'"
      ]
     },
     "execution_count": 50,
     "metadata": {},
     "output_type": "execute_result"
    }
   ],
   "execution_count": 50
  },
  {
   "metadata": {},
   "cell_type": "markdown",
   "source": "Goal: get RDF triples for all abstracts.",
   "id": "6ce762d036521525"
  },
  {
   "metadata": {
    "ExecuteTime": {
     "end_time": "2024-08-16T04:38:23.150778Z",
     "start_time": "2024-08-16T04:38:22.205803Z"
    }
   },
   "cell_type": "code",
   "source": "!pip install openai",
   "id": "bab4aaef13e70335",
   "outputs": [
    {
     "name": "stdout",
     "output_type": "stream",
     "text": [
      "Requirement already satisfied: openai in ./.venv/lib/python3.9/site-packages (1.40.7)\r\n",
      "Requirement already satisfied: anyio<5,>=3.5.0 in ./.venv/lib/python3.9/site-packages (from openai) (4.4.0)\r\n",
      "Requirement already satisfied: distro<2,>=1.7.0 in ./.venv/lib/python3.9/site-packages (from openai) (1.9.0)\r\n",
      "Requirement already satisfied: httpx<1,>=0.23.0 in ./.venv/lib/python3.9/site-packages (from openai) (0.27.0)\r\n",
      "Requirement already satisfied: jiter<1,>=0.4.0 in ./.venv/lib/python3.9/site-packages (from openai) (0.5.0)\r\n",
      "Requirement already satisfied: pydantic<3,>=1.9.0 in ./.venv/lib/python3.9/site-packages (from openai) (2.8.2)\r\n",
      "Requirement already satisfied: sniffio in ./.venv/lib/python3.9/site-packages (from openai) (1.3.1)\r\n",
      "Requirement already satisfied: tqdm>4 in ./.venv/lib/python3.9/site-packages (from openai) (4.66.5)\r\n",
      "Requirement already satisfied: typing-extensions<5,>=4.11 in ./.venv/lib/python3.9/site-packages (from openai) (4.12.2)\r\n",
      "Requirement already satisfied: idna>=2.8 in ./.venv/lib/python3.9/site-packages (from anyio<5,>=3.5.0->openai) (3.7)\r\n",
      "Requirement already satisfied: exceptiongroup>=1.0.2 in ./.venv/lib/python3.9/site-packages (from anyio<5,>=3.5.0->openai) (1.2.2)\r\n",
      "Requirement already satisfied: certifi in ./.venv/lib/python3.9/site-packages (from httpx<1,>=0.23.0->openai) (2024.7.4)\r\n",
      "Requirement already satisfied: httpcore==1.* in ./.venv/lib/python3.9/site-packages (from httpx<1,>=0.23.0->openai) (1.0.5)\r\n",
      "Requirement already satisfied: h11<0.15,>=0.13 in ./.venv/lib/python3.9/site-packages (from httpcore==1.*->httpx<1,>=0.23.0->openai) (0.14.0)\r\n",
      "Requirement already satisfied: annotated-types>=0.4.0 in ./.venv/lib/python3.9/site-packages (from pydantic<3,>=1.9.0->openai) (0.7.0)\r\n",
      "Requirement already satisfied: pydantic-core==2.20.1 in ./.venv/lib/python3.9/site-packages (from pydantic<3,>=1.9.0->openai) (2.20.1)\r\n",
      "\r\n",
      "\u001B[1m[\u001B[0m\u001B[34;49mnotice\u001B[0m\u001B[1;39;49m]\u001B[0m\u001B[39;49m A new release of pip is available: \u001B[0m\u001B[31;49m23.2.1\u001B[0m\u001B[39;49m -> \u001B[0m\u001B[32;49m24.2\u001B[0m\r\n",
      "\u001B[1m[\u001B[0m\u001B[34;49mnotice\u001B[0m\u001B[1;39;49m]\u001B[0m\u001B[39;49m To update, run: \u001B[0m\u001B[32;49mpip install --upgrade pip\u001B[0m\r\n"
     ]
    }
   ],
   "execution_count": 16
  },
  {
   "metadata": {
    "ExecuteTime": {
     "end_time": "2024-08-16T21:32:54.070291Z",
     "start_time": "2024-08-16T21:32:54.065770Z"
    }
   },
   "cell_type": "code",
   "source": "from openai import OpenAI",
   "id": "db9248d2ab46431a",
   "outputs": [],
   "execution_count": 20
  },
  {
   "metadata": {
    "ExecuteTime": {
     "end_time": "2024-08-17T05:24:15.445941Z",
     "start_time": "2024-08-17T05:24:15.443011Z"
    }
   },
   "cell_type": "code",
   "source": "prompt = \"Given a research abstract, derive all RDF triplets as possible. Return your answers in [OBJECT, RELATIONSHIP, OBJECT] format. RELATIONSHIPS MUST BE EITHER 'UPREGULATES' OR 'DOWNREGULATES.' EACH ENTITY MUST BE A SINGULAR ENTITY AND SHOULD NOT CONSIST OF MULTIPLE OBJECTS.\"",
   "id": "5efa071099760576",
   "outputs": [],
   "execution_count": 95
  },
  {
   "metadata": {
    "ExecuteTime": {
     "end_time": "2024-08-17T05:24:19.392926Z",
     "start_time": "2024-08-17T05:24:16.291156Z"
    }
   },
   "cell_type": "code",
   "source": [
    "client = OpenAI(api_key='')\n",
    "\n",
    "#Get continuation.\n",
    "response = client.chat.completions.create(\n",
    "        model=\"gpt-4o\",\n",
    "        temperature = 1,\n",
    "        top_p = 1,\n",
    "        frequency_penalty=0,\n",
    "        presence_penalty=0,\n",
    "        messages=[\n",
    "            {\"role\": \"user\", \"content\": f\"{prompt}, {abstract}\"}])"
   ],
   "id": "e54c06c27ea2e16e",
   "outputs": [],
   "execution_count": 96
  },
  {
   "metadata": {
    "ExecuteTime": {
     "end_time": "2024-08-17T05:24:19.913986Z",
     "start_time": "2024-08-17T05:24:19.908743Z"
    }
   },
   "cell_type": "code",
   "source": "response",
   "id": "f884728734ddd802",
   "outputs": [
    {
     "data": {
      "text/plain": [
       "ChatCompletion(id='chatcmpl-9x6DAzMwR8k8eteXGpxjBww3BRaL4', choices=[Choice(finish_reason='stop', index=0, logprobs=None, message=ChatCompletionMessage(content='Here are the RDF triplets derived from the given research abstract in the specified format:\\n\\n1. [BCL-XL, UPREGULATES, cancer]\\n2. [ABT263, UPREGULATES, thrombocytopenia]\\n3. [DT2216, DOWNREGULATES, BCL-XL]\\n4. [BCL-XL, DOWNREGULATES, degradation]\\n5. [VHL, DOWNREGULATES, platelets]\\n6. [DT2216, DOWNREGULATES, toxicity]\\n7. [VHL, DOWNREGULATES, BCL-XL]\\n8. [DT2216, DOWNREGULATES, tumor growth]\\n9. [DT2216, DOWNREGULATES, thrombocytopenia]\\n10. [PROTAC technology, DOWNREGULATES, drug toxicities]\\n11. [DT2216, UPREGULATES, anticancer potential]\\n\\nThese triplets capture the key relationships and entities mentioned in the abstract.', refusal=None, role='assistant', function_call=None, tool_calls=None))], created=1723872256, model='gpt-4o-2024-05-13', object='chat.completion', service_tier=None, system_fingerprint='fp_3aa7262c27', usage=CompletionUsage(completion_tokens=204, prompt_tokens=328, total_tokens=532))"
      ]
     },
     "execution_count": 97,
     "metadata": {},
     "output_type": "execute_result"
    }
   ],
   "execution_count": 97
  },
  {
   "metadata": {},
   "cell_type": "raw",
   "source": "Now, visualization through networkx.",
   "id": "6ea838a0ff44fe11"
  },
  {
   "metadata": {},
   "cell_type": "code",
   "outputs": [],
   "execution_count": null,
   "source": "",
   "id": "b54333544f83275b"
  }
 ],
 "metadata": {
  "kernelspec": {
   "display_name": "Python 3",
   "language": "python",
   "name": "python3"
  },
  "language_info": {
   "codemirror_mode": {
    "name": "ipython",
    "version": 2
   },
   "file_extension": ".py",
   "mimetype": "text/x-python",
   "name": "python",
   "nbconvert_exporter": "python",
   "pygments_lexer": "ipython2",
   "version": "2.7.6"
  }
 },
 "nbformat": 4,
 "nbformat_minor": 5
}
