{
 "cells": [
  {
   "cell_type": "code",
   "id": "initial_id",
   "metadata": {
    "collapsed": true,
    "ExecuteTime": {
     "end_time": "2024-09-02T04:14:26.237548Z",
     "start_time": "2024-09-02T04:14:24.622830Z"
    }
   },
   "source": "import pandas as pd",
   "outputs": [],
   "execution_count": 1
  },
  {
   "metadata": {
    "ExecuteTime": {
     "end_time": "2024-09-02T04:14:26.248972Z",
     "start_time": "2024-09-02T04:14:26.240346Z"
    }
   },
   "cell_type": "code",
   "source": "data = pd.read_csv(\"all_searched_entities_26_08_24.tsv\", sep='\\t')",
   "id": "8b0658b5a09a537d",
   "outputs": [],
   "execution_count": 2
  },
  {
   "metadata": {
    "ExecuteTime": {
     "end_time": "2024-09-02T04:14:29.431800Z",
     "start_time": "2024-09-02T04:14:29.415247Z"
    }
   },
   "cell_type": "code",
   "source": "data",
   "id": "92d4f754544fd2e",
   "outputs": [
    {
     "data": {
      "text/plain": [
       "         ENTITYA     TYPEA           IDA DATABASEA           ENTITYB    TYPEB  \\\n",
       "0           ITCH   protein        Q96J02   UNIPROT              EGFR  protein   \n",
       "1           EREG   protein        O14944   UNIPROT              EGFR  protein   \n",
       "2           EGFR   protein        P00533   UNIPROT              GRB2  protein   \n",
       "3        OSI-420  chemical  CID:18924996   PUBCHEM              EGFR  protein   \n",
       "4           EGFR   protein        P00533   UNIPROT  JAK1/STAT1/STAT3  complex   \n",
       "..           ...       ...           ...       ...               ...      ...   \n",
       "263     afatinib  chemical   CHEBI:61390     ChEBI              EGFR  protein   \n",
       "264         EGFR   protein        P00533   UNIPROT             ERBB3  protein   \n",
       "265         EGFR   protein        P00533   UNIPROT            STAT5B  protein   \n",
       "266         EGFR   protein        P00533   UNIPROT            CCDC50  protein   \n",
       "267  873837-23-1  chemical  CID:46930994   PUBCHEM              EGFR  protein   \n",
       "\n",
       "             IDB DATABASEB                                      EFFECT  \\\n",
       "0         P00533   UNIPROT  down-regulates quantity by destabilization   \n",
       "1         P00533   UNIPROT                                up-regulates   \n",
       "2         P62993   UNIPROT                       up-regulates activity   \n",
       "3         P00533   UNIPROT                              down-regulates   \n",
       "4    SIGNOR-C120    SIGNOR                       up-regulates activity   \n",
       "..           ...       ...                                         ...   \n",
       "263       P00533   UNIPROT                              down-regulates   \n",
       "264       P21860   UNIPROT                                up-regulates   \n",
       "265       P51692   UNIPROT                                up-regulates   \n",
       "266       Q8IVM0   UNIPROT                     down-regulates activity   \n",
       "267       P00533   UNIPROT                              down-regulates   \n",
       "\n",
       "               MECHANISM  ... MODASEQ MODIFICATIONB  MODBSEQ      PMID DIRECT  \\\n",
       "0     polyubiquitination  ...     NaN           NaN      NaN  12226085    YES   \n",
       "1                binding  ...     NaN           NaN      NaN   9419975    YES   \n",
       "2                binding  ...     NaN           NaN      NaN  16729043    YES   \n",
       "3    chemical inhibition  ...     NaN           NaN      NaN     Other    YES   \n",
       "4        phosphorylation  ...     NaN           NaN      NaN  15284024    YES   \n",
       "..                   ...  ...     ...           ...      ...       ...    ...   \n",
       "263  chemical inhibition  ...     NaN           NaN      NaN     Other    YES   \n",
       "264      phosphorylation  ...     NaN           NaN      NaN   7929151    YES   \n",
       "265      phosphorylation  ...     NaN           NaN      NaN  11751923    YES   \n",
       "266      phosphorylation  ...     NaN           NaN      NaN  19059208    YES   \n",
       "267  chemical inhibition  ...     NaN           NaN      NaN     Other    YES   \n",
       "\n",
       "                                                 NOTES  ANNOTATOR  \\\n",
       "0                                                  NaN     miannu   \n",
       "1    Epiregulin may be a mediator of localized cell...  gcesareni   \n",
       "2                                                  NaN  lperfetto   \n",
       "3                                              Selleck  gcesareni   \n",
       "4                                                  NaN        NaN   \n",
       "..                                                 ...        ...   \n",
       "263                                            Selleck  gcesareni   \n",
       "264                                                NaN  lperfetto   \n",
       "265                                                NaN    llicata   \n",
       "266                                                NaN     miannu   \n",
       "267                                            Selleck  gcesareni   \n",
       "\n",
       "                                              SENTENCE  SCORE      SIGNOR_ID  \n",
       "0    In summary, we have shown that CBLC and AIP4 c...  0.471  SIGNOR-272604  \n",
       "1    Chemical cross-linking experiments showed that...  0.889   SIGNOR-54351  \n",
       "2    We determined interaction partners to all cyto...  0.922  SIGNOR-236327  \n",
       "3                                                  NaN  0.800  SIGNOR-195248  \n",
       "4    Stimulation of EGFR induces Tyr701 phosphoryla...  0.615  SIGNOR-252088  \n",
       "..                                                 ...    ...            ...  \n",
       "263                                                NaN  0.800  SIGNOR-189356  \n",
       "264  The erbb3 protein which possesses little or no...  0.653   SIGNOR-34748  \n",
       "265  Novel activation of stat5b in response to epid...  0.827  SIGNOR-113397  \n",
       "266  We also detected tyrosine phosphorylation of Y...  0.424  SIGNOR-262850  \n",
       "267                                                NaN  0.800  SIGNOR-190467  \n",
       "\n",
       "[268 rows x 28 columns]"
      ],
      "text/html": [
       "<div>\n",
       "<style scoped>\n",
       "    .dataframe tbody tr th:only-of-type {\n",
       "        vertical-align: middle;\n",
       "    }\n",
       "\n",
       "    .dataframe tbody tr th {\n",
       "        vertical-align: top;\n",
       "    }\n",
       "\n",
       "    .dataframe thead th {\n",
       "        text-align: right;\n",
       "    }\n",
       "</style>\n",
       "<table border=\"1\" class=\"dataframe\">\n",
       "  <thead>\n",
       "    <tr style=\"text-align: right;\">\n",
       "      <th></th>\n",
       "      <th>ENTITYA</th>\n",
       "      <th>TYPEA</th>\n",
       "      <th>IDA</th>\n",
       "      <th>DATABASEA</th>\n",
       "      <th>ENTITYB</th>\n",
       "      <th>TYPEB</th>\n",
       "      <th>IDB</th>\n",
       "      <th>DATABASEB</th>\n",
       "      <th>EFFECT</th>\n",
       "      <th>MECHANISM</th>\n",
       "      <th>...</th>\n",
       "      <th>MODASEQ</th>\n",
       "      <th>MODIFICATIONB</th>\n",
       "      <th>MODBSEQ</th>\n",
       "      <th>PMID</th>\n",
       "      <th>DIRECT</th>\n",
       "      <th>NOTES</th>\n",
       "      <th>ANNOTATOR</th>\n",
       "      <th>SENTENCE</th>\n",
       "      <th>SCORE</th>\n",
       "      <th>SIGNOR_ID</th>\n",
       "    </tr>\n",
       "  </thead>\n",
       "  <tbody>\n",
       "    <tr>\n",
       "      <th>0</th>\n",
       "      <td>ITCH</td>\n",
       "      <td>protein</td>\n",
       "      <td>Q96J02</td>\n",
       "      <td>UNIPROT</td>\n",
       "      <td>EGFR</td>\n",
       "      <td>protein</td>\n",
       "      <td>P00533</td>\n",
       "      <td>UNIPROT</td>\n",
       "      <td>down-regulates quantity by destabilization</td>\n",
       "      <td>polyubiquitination</td>\n",
       "      <td>...</td>\n",
       "      <td>NaN</td>\n",
       "      <td>NaN</td>\n",
       "      <td>NaN</td>\n",
       "      <td>12226085</td>\n",
       "      <td>YES</td>\n",
       "      <td>NaN</td>\n",
       "      <td>miannu</td>\n",
       "      <td>In summary, we have shown that CBLC and AIP4 c...</td>\n",
       "      <td>0.471</td>\n",
       "      <td>SIGNOR-272604</td>\n",
       "    </tr>\n",
       "    <tr>\n",
       "      <th>1</th>\n",
       "      <td>EREG</td>\n",
       "      <td>protein</td>\n",
       "      <td>O14944</td>\n",
       "      <td>UNIPROT</td>\n",
       "      <td>EGFR</td>\n",
       "      <td>protein</td>\n",
       "      <td>P00533</td>\n",
       "      <td>UNIPROT</td>\n",
       "      <td>up-regulates</td>\n",
       "      <td>binding</td>\n",
       "      <td>...</td>\n",
       "      <td>NaN</td>\n",
       "      <td>NaN</td>\n",
       "      <td>NaN</td>\n",
       "      <td>9419975</td>\n",
       "      <td>YES</td>\n",
       "      <td>Epiregulin may be a mediator of localized cell...</td>\n",
       "      <td>gcesareni</td>\n",
       "      <td>Chemical cross-linking experiments showed that...</td>\n",
       "      <td>0.889</td>\n",
       "      <td>SIGNOR-54351</td>\n",
       "    </tr>\n",
       "    <tr>\n",
       "      <th>2</th>\n",
       "      <td>EGFR</td>\n",
       "      <td>protein</td>\n",
       "      <td>P00533</td>\n",
       "      <td>UNIPROT</td>\n",
       "      <td>GRB2</td>\n",
       "      <td>protein</td>\n",
       "      <td>P62993</td>\n",
       "      <td>UNIPROT</td>\n",
       "      <td>up-regulates activity</td>\n",
       "      <td>binding</td>\n",
       "      <td>...</td>\n",
       "      <td>NaN</td>\n",
       "      <td>NaN</td>\n",
       "      <td>NaN</td>\n",
       "      <td>16729043</td>\n",
       "      <td>YES</td>\n",
       "      <td>NaN</td>\n",
       "      <td>lperfetto</td>\n",
       "      <td>We determined interaction partners to all cyto...</td>\n",
       "      <td>0.922</td>\n",
       "      <td>SIGNOR-236327</td>\n",
       "    </tr>\n",
       "    <tr>\n",
       "      <th>3</th>\n",
       "      <td>OSI-420</td>\n",
       "      <td>chemical</td>\n",
       "      <td>CID:18924996</td>\n",
       "      <td>PUBCHEM</td>\n",
       "      <td>EGFR</td>\n",
       "      <td>protein</td>\n",
       "      <td>P00533</td>\n",
       "      <td>UNIPROT</td>\n",
       "      <td>down-regulates</td>\n",
       "      <td>chemical inhibition</td>\n",
       "      <td>...</td>\n",
       "      <td>NaN</td>\n",
       "      <td>NaN</td>\n",
       "      <td>NaN</td>\n",
       "      <td>Other</td>\n",
       "      <td>YES</td>\n",
       "      <td>Selleck</td>\n",
       "      <td>gcesareni</td>\n",
       "      <td>NaN</td>\n",
       "      <td>0.800</td>\n",
       "      <td>SIGNOR-195248</td>\n",
       "    </tr>\n",
       "    <tr>\n",
       "      <th>4</th>\n",
       "      <td>EGFR</td>\n",
       "      <td>protein</td>\n",
       "      <td>P00533</td>\n",
       "      <td>UNIPROT</td>\n",
       "      <td>JAK1/STAT1/STAT3</td>\n",
       "      <td>complex</td>\n",
       "      <td>SIGNOR-C120</td>\n",
       "      <td>SIGNOR</td>\n",
       "      <td>up-regulates activity</td>\n",
       "      <td>phosphorylation</td>\n",
       "      <td>...</td>\n",
       "      <td>NaN</td>\n",
       "      <td>NaN</td>\n",
       "      <td>NaN</td>\n",
       "      <td>15284024</td>\n",
       "      <td>YES</td>\n",
       "      <td>NaN</td>\n",
       "      <td>NaN</td>\n",
       "      <td>Stimulation of EGFR induces Tyr701 phosphoryla...</td>\n",
       "      <td>0.615</td>\n",
       "      <td>SIGNOR-252088</td>\n",
       "    </tr>\n",
       "    <tr>\n",
       "      <th>...</th>\n",
       "      <td>...</td>\n",
       "      <td>...</td>\n",
       "      <td>...</td>\n",
       "      <td>...</td>\n",
       "      <td>...</td>\n",
       "      <td>...</td>\n",
       "      <td>...</td>\n",
       "      <td>...</td>\n",
       "      <td>...</td>\n",
       "      <td>...</td>\n",
       "      <td>...</td>\n",
       "      <td>...</td>\n",
       "      <td>...</td>\n",
       "      <td>...</td>\n",
       "      <td>...</td>\n",
       "      <td>...</td>\n",
       "      <td>...</td>\n",
       "      <td>...</td>\n",
       "      <td>...</td>\n",
       "      <td>...</td>\n",
       "      <td>...</td>\n",
       "    </tr>\n",
       "    <tr>\n",
       "      <th>263</th>\n",
       "      <td>afatinib</td>\n",
       "      <td>chemical</td>\n",
       "      <td>CHEBI:61390</td>\n",
       "      <td>ChEBI</td>\n",
       "      <td>EGFR</td>\n",
       "      <td>protein</td>\n",
       "      <td>P00533</td>\n",
       "      <td>UNIPROT</td>\n",
       "      <td>down-regulates</td>\n",
       "      <td>chemical inhibition</td>\n",
       "      <td>...</td>\n",
       "      <td>NaN</td>\n",
       "      <td>NaN</td>\n",
       "      <td>NaN</td>\n",
       "      <td>Other</td>\n",
       "      <td>YES</td>\n",
       "      <td>Selleck</td>\n",
       "      <td>gcesareni</td>\n",
       "      <td>NaN</td>\n",
       "      <td>0.800</td>\n",
       "      <td>SIGNOR-189356</td>\n",
       "    </tr>\n",
       "    <tr>\n",
       "      <th>264</th>\n",
       "      <td>EGFR</td>\n",
       "      <td>protein</td>\n",
       "      <td>P00533</td>\n",
       "      <td>UNIPROT</td>\n",
       "      <td>ERBB3</td>\n",
       "      <td>protein</td>\n",
       "      <td>P21860</td>\n",
       "      <td>UNIPROT</td>\n",
       "      <td>up-regulates</td>\n",
       "      <td>phosphorylation</td>\n",
       "      <td>...</td>\n",
       "      <td>NaN</td>\n",
       "      <td>NaN</td>\n",
       "      <td>NaN</td>\n",
       "      <td>7929151</td>\n",
       "      <td>YES</td>\n",
       "      <td>NaN</td>\n",
       "      <td>lperfetto</td>\n",
       "      <td>The erbb3 protein which possesses little or no...</td>\n",
       "      <td>0.653</td>\n",
       "      <td>SIGNOR-34748</td>\n",
       "    </tr>\n",
       "    <tr>\n",
       "      <th>265</th>\n",
       "      <td>EGFR</td>\n",
       "      <td>protein</td>\n",
       "      <td>P00533</td>\n",
       "      <td>UNIPROT</td>\n",
       "      <td>STAT5B</td>\n",
       "      <td>protein</td>\n",
       "      <td>P51692</td>\n",
       "      <td>UNIPROT</td>\n",
       "      <td>up-regulates</td>\n",
       "      <td>phosphorylation</td>\n",
       "      <td>...</td>\n",
       "      <td>NaN</td>\n",
       "      <td>NaN</td>\n",
       "      <td>NaN</td>\n",
       "      <td>11751923</td>\n",
       "      <td>YES</td>\n",
       "      <td>NaN</td>\n",
       "      <td>llicata</td>\n",
       "      <td>Novel activation of stat5b in response to epid...</td>\n",
       "      <td>0.827</td>\n",
       "      <td>SIGNOR-113397</td>\n",
       "    </tr>\n",
       "    <tr>\n",
       "      <th>266</th>\n",
       "      <td>EGFR</td>\n",
       "      <td>protein</td>\n",
       "      <td>P00533</td>\n",
       "      <td>UNIPROT</td>\n",
       "      <td>CCDC50</td>\n",
       "      <td>protein</td>\n",
       "      <td>Q8IVM0</td>\n",
       "      <td>UNIPROT</td>\n",
       "      <td>down-regulates activity</td>\n",
       "      <td>phosphorylation</td>\n",
       "      <td>...</td>\n",
       "      <td>NaN</td>\n",
       "      <td>NaN</td>\n",
       "      <td>NaN</td>\n",
       "      <td>19059208</td>\n",
       "      <td>YES</td>\n",
       "      <td>NaN</td>\n",
       "      <td>miannu</td>\n",
       "      <td>We also detected tyrosine phosphorylation of Y...</td>\n",
       "      <td>0.424</td>\n",
       "      <td>SIGNOR-262850</td>\n",
       "    </tr>\n",
       "    <tr>\n",
       "      <th>267</th>\n",
       "      <td>873837-23-1</td>\n",
       "      <td>chemical</td>\n",
       "      <td>CID:46930994</td>\n",
       "      <td>PUBCHEM</td>\n",
       "      <td>EGFR</td>\n",
       "      <td>protein</td>\n",
       "      <td>P00533</td>\n",
       "      <td>UNIPROT</td>\n",
       "      <td>down-regulates</td>\n",
       "      <td>chemical inhibition</td>\n",
       "      <td>...</td>\n",
       "      <td>NaN</td>\n",
       "      <td>NaN</td>\n",
       "      <td>NaN</td>\n",
       "      <td>Other</td>\n",
       "      <td>YES</td>\n",
       "      <td>Selleck</td>\n",
       "      <td>gcesareni</td>\n",
       "      <td>NaN</td>\n",
       "      <td>0.800</td>\n",
       "      <td>SIGNOR-190467</td>\n",
       "    </tr>\n",
       "  </tbody>\n",
       "</table>\n",
       "<p>268 rows × 28 columns</p>\n",
       "</div>"
      ]
     },
     "execution_count": 3,
     "metadata": {},
     "output_type": "execute_result"
    }
   ],
   "execution_count": 3
  },
  {
   "metadata": {
    "ExecuteTime": {
     "end_time": "2024-09-02T04:14:34.206986Z",
     "start_time": "2024-09-02T04:14:34.189123Z"
    }
   },
   "cell_type": "code",
   "source": [
    "relationships = []\n",
    "for a, b, c in zip(data['ENTITYA'], data['EFFECT'], data['ENTITYB']):\n",
    "    relationships.append((a, b, c))"
   ],
   "id": "dde921052238d4a8",
   "outputs": [],
   "execution_count": 4
  },
  {
   "metadata": {
    "ExecuteTime": {
     "end_time": "2024-09-02T04:16:09.163401Z",
     "start_time": "2024-09-02T04:16:09.016131Z"
    }
   },
   "cell_type": "code",
   "source": [
    "import networkx as nx\n",
    "graph = nx.DiGraph();\n",
    "\n",
    "for relationship in relationships:\n",
    "    graph.add_edge(relationship[0], relationship[2], label=relationship[1])"
   ],
   "id": "47f013c53c39d3b",
   "outputs": [],
   "execution_count": 6
  },
  {
   "metadata": {
    "ExecuteTime": {
     "end_time": "2024-09-02T04:36:05.077378Z",
     "start_time": "2024-09-02T04:36:05.016370Z"
    }
   },
   "cell_type": "code",
   "source": "pos = nx.fruchterman_reingold_layout(graph, k=0.00001)",
   "id": "1107af01c5e3e6bf",
   "outputs": [],
   "execution_count": 17
  },
  {
   "metadata": {
    "ExecuteTime": {
     "end_time": "2024-09-02T04:23:25.586258Z",
     "start_time": "2024-09-02T04:23:10.961405Z"
    }
   },
   "cell_type": "code",
   "source": "!pip install plotly",
   "id": "6e81fa6d9bb5c212",
   "outputs": [
    {
     "name": "stdout",
     "output_type": "stream",
     "text": [
      "Collecting plotly\r\n",
      "  Obtaining dependency information for plotly from https://files.pythonhosted.org/packages/b3/f6/64fe388089588a0c364b03809443cd628fe0261d1364313fb7aec6bb0ebc/plotly-5.24.0-py3-none-any.whl.metadata\r\n",
      "  Downloading plotly-5.24.0-py3-none-any.whl.metadata (7.3 kB)\r\n",
      "Collecting tenacity>=6.2.0 (from plotly)\r\n",
      "  Obtaining dependency information for tenacity>=6.2.0 from https://files.pythonhosted.org/packages/b6/cb/b86984bed139586d01532a587464b5805f12e397594f19f931c4c2fbfa61/tenacity-9.0.0-py3-none-any.whl.metadata\r\n",
      "  Downloading tenacity-9.0.0-py3-none-any.whl.metadata (1.2 kB)\r\n",
      "Requirement already satisfied: packaging in ./.venv/lib/python3.9/site-packages (from plotly) (24.1)\r\n",
      "Downloading plotly-5.24.0-py3-none-any.whl (19.0 MB)\r\n",
      "\u001B[2K   \u001B[90m━━━━━━━━━━━━━━━━━━━━━━━━━━━━━━━━━━━━━━━━\u001B[0m \u001B[32m19.0/19.0 MB\u001B[0m \u001B[31m18.7 MB/s\u001B[0m eta \u001B[36m0:00:00\u001B[0m00:01\u001B[0m00:01\u001B[0m\r\n",
      "\u001B[?25hDownloading tenacity-9.0.0-py3-none-any.whl (28 kB)\r\n",
      "Installing collected packages: tenacity, plotly\r\n",
      "Successfully installed plotly-5.24.0 tenacity-9.0.0\r\n",
      "\r\n",
      "\u001B[1m[\u001B[0m\u001B[34;49mnotice\u001B[0m\u001B[1;39;49m]\u001B[0m\u001B[39;49m A new release of pip is available: \u001B[0m\u001B[31;49m23.2.1\u001B[0m\u001B[39;49m -> \u001B[0m\u001B[32;49m24.2\u001B[0m\r\n",
      "\u001B[1m[\u001B[0m\u001B[34;49mnotice\u001B[0m\u001B[1;39;49m]\u001B[0m\u001B[39;49m To update, run: \u001B[0m\u001B[32;49mpip install --upgrade pip\u001B[0m\r\n"
     ]
    }
   ],
   "execution_count": 12
  },
  {
   "metadata": {
    "ExecuteTime": {
     "end_time": "2024-09-02T04:36:07.583920Z",
     "start_time": "2024-09-02T04:36:07.511024Z"
    }
   },
   "cell_type": "code",
   "source": [
    "import plotly.graph_objects as go\n",
    "\n",
    "edge_traces = []\n",
    "for edge in graph.edges():\n",
    "    x0, y0 = pos[edge[0]]\n",
    "    x1, y1 = pos[edge[1]]\n",
    "    edge_trace = go.Scatter(\n",
    "        x = [x0, x1, None],\n",
    "        y = [y0, y1, None],\n",
    "        mode = 'lines',\n",
    "        line = dict(width = 0.5, color = 'gray'),\n",
    "        hoverinfo = 'none'\n",
    "    )\n",
    "    edge_traces.append(edge_trace)\n",
    "    \n",
    "node_trace = go.Scatter(\n",
    "    \n",
    "    x = [pos[node][0] for node in graph.nodes()],\n",
    "    y = [pos[node][1] for node in graph.nodes()],\n",
    "    mode='markers+text',\n",
    "    marker = dict(size = 10, color='lightblue'),\n",
    "    text = [node for node in graph.nodes()],\n",
    "    textposition = 'top center',\n",
    "    hoverinfo = 'text',\n",
    "    textfont=dict(size=7)\n",
    "    \n",
    ")\n",
    "\n",
    "edge_label_trace = go.Scatter(\n",
    "    \n",
    "    x = [(pos[edge[0]][0] + pos[edge[1]][0]) / 2 for edge in graph.edges()],\n",
    "    y = [(pos[edge[0]][0] + pos[edge[1]][0]) / 2 for edge in graph.edges()],\n",
    "    mode= 'text',\n",
    "    text=[graph[edge[0]][edge[1]]['label'] for edge in graph.edges()],\n",
    "    textposition='middle center',\n",
    "    hoverinfo='none',\n",
    "    textfont=dict(size=7)\n",
    "    \n",
    ")\n",
    "\n",
    "# Create layout\n",
    "layout = go.Layout(\n",
    "    title='Knowledge Graph',\n",
    "    titlefont_size=16,\n",
    "    title_x=0.5,\n",
    "    showlegend=False,\n",
    "    hovermode='closest',\n",
    "    margin=dict(b=20, l=5, r=5, t=40),\n",
    "    xaxis_visible=False,\n",
    "    yaxis_visible=False\n",
    ")\n",
    "\n",
    "# Create Plotly figure\n",
    "fig = go.Figure(data=edge_traces + [node_trace, edge_label_trace], layout=layout)\n",
    "\n",
    "# Show the interactive plot\n",
    "fig.show()"
   ],
   "id": "e8976d447c4e0e59",
   "outputs": [
    {
     "data": {
      "application/vnd.plotly.v1+json": {
       "data": [
        {
         "hoverinfo": "none",
         "line": {
          "color": "gray",
          "width": 0.5
         },
         "mode": "lines",
         "x": [
          -0.004048946290408079,
          -0.010138566464068752,
          null
         ],
         "y": [
          0.012333259671157448,
          0.012782384528852511,
          null
         ],
         "type": "scatter"
        },
        {
         "hoverinfo": "none",
         "line": {
          "color": "gray",
          "width": 0.5
         },
         "mode": "lines",
         "x": [
          -0.010138566464068752,
          -0.1722147999226248,
          null
         ],
         "y": [
          0.012782384528852511,
          1.0,
          null
         ],
         "type": "scatter"
        },
        {
         "hoverinfo": "none",
         "line": {
          "color": "gray",
          "width": 0.5
         },
         "mode": "lines",
         "x": [
          -0.010138566464068752,
          -0.18463612591413714,
          null
         ],
         "y": [
          0.012782384528852511,
          -0.16810125376847718,
          null
         ],
         "type": "scatter"
        },
        {
         "hoverinfo": "none",
         "line": {
          "color": "gray",
          "width": 0.5
         },
         "mode": "lines",
         "x": [
          -0.010138566464068752,
          -0.4563663207598042,
          null
         ],
         "y": [
          0.012782384528852511,
          -0.14172688385467597,
          null
         ],
         "type": "scatter"
        },
        {
         "hoverinfo": "none",
         "line": {
          "color": "gray",
          "width": 0.5
         },
         "mode": "lines",
         "x": [
          -0.010138566464068752,
          -0.011685247432064928,
          null
         ],
         "y": [
          0.012782384528852511,
          0.01285258491211779,
          null
         ],
         "type": "scatter"
        },
        {
         "hoverinfo": "none",
         "line": {
          "color": "gray",
          "width": 0.5
         },
         "mode": "lines",
         "x": [
          -0.010138566464068752,
          0.2714419726789587,
          null
         ],
         "y": [
          0.012782384528852511,
          -0.3341297146472925,
          null
         ],
         "type": "scatter"
        },
        {
         "hoverinfo": "none",
         "line": {
          "color": "gray",
          "width": 0.5
         },
         "mode": "lines",
         "x": [
          -0.010138566464068752,
          0.13194762653169975,
          null
         ],
         "y": [
          0.012782384528852511,
          -0.12298981238481324,
          null
         ],
         "type": "scatter"
        },
        {
         "hoverinfo": "none",
         "line": {
          "color": "gray",
          "width": 0.5
         },
         "mode": "lines",
         "x": [
          -0.010138566464068752,
          0.10570756339266364,
          null
         ],
         "y": [
          0.012782384528852511,
          -0.3407046071649324,
          null
         ],
         "type": "scatter"
        },
        {
         "hoverinfo": "none",
         "line": {
          "color": "gray",
          "width": 0.5
         },
         "mode": "lines",
         "x": [
          -0.010138566464068752,
          0.6789072849069733,
          null
         ],
         "y": [
          0.012782384528852511,
          -0.526911642300745,
          null
         ],
         "type": "scatter"
        },
        {
         "hoverinfo": "none",
         "line": {
          "color": "gray",
          "width": 0.5
         },
         "mode": "lines",
         "x": [
          -0.010138566464068752,
          0.6422145687381932,
          null
         ],
         "y": [
          0.012782384528852511,
          0.6202662960631036,
          null
         ],
         "type": "scatter"
        },
        {
         "hoverinfo": "none",
         "line": {
          "color": "gray",
          "width": 0.5
         },
         "mode": "lines",
         "x": [
          -0.010138566464068752,
          0.800923492337344,
          null
         ],
         "y": [
          0.012782384528852511,
          0.3437281084653464,
          null
         ],
         "type": "scatter"
        },
        {
         "hoverinfo": "none",
         "line": {
          "color": "gray",
          "width": 0.5
         },
         "mode": "lines",
         "x": [
          -0.010138566464068752,
          0.508104630258242,
          null
         ],
         "y": [
          0.012782384528852511,
          -0.6347917983243325,
          null
         ],
         "type": "scatter"
        },
        {
         "hoverinfo": "none",
         "line": {
          "color": "gray",
          "width": 0.5
         },
         "mode": "lines",
         "x": [
          -0.010138566464068752,
          0.42197505330520174,
          null
         ],
         "y": [
          0.012782384528852511,
          -0.32373406230182294,
          null
         ],
         "type": "scatter"
        },
        {
         "hoverinfo": "none",
         "line": {
          "color": "gray",
          "width": 0.5
         },
         "mode": "lines",
         "x": [
          -0.010138566464068752,
          0.02509358120436749,
          null
         ],
         "y": [
          0.012782384528852511,
          0.9031419069677796,
          null
         ],
         "type": "scatter"
        },
        {
         "hoverinfo": "none",
         "line": {
          "color": "gray",
          "width": 0.5
         },
         "mode": "lines",
         "x": [
          -0.010138566464068752,
          -0.7449422143391712,
          null
         ],
         "y": [
          0.012782384528852511,
          0.41692026729325504,
          null
         ],
         "type": "scatter"
        },
        {
         "hoverinfo": "none",
         "line": {
          "color": "gray",
          "width": 0.5
         },
         "mode": "lines",
         "x": [
          -0.010138566464068752,
          -0.45645182145834995,
          null
         ],
         "y": [
          0.012782384528852511,
          0.48930296918259836,
          null
         ],
         "type": "scatter"
        },
        {
         "hoverinfo": "none",
         "line": {
          "color": "gray",
          "width": 0.5
         },
         "mode": "lines",
         "x": [
          -0.010138566464068752,
          -0.0106433713314088,
          null
         ],
         "y": [
          0.012782384528852511,
          0.012788420620898478,
          null
         ],
         "type": "scatter"
        },
        {
         "hoverinfo": "none",
         "line": {
          "color": "gray",
          "width": 0.5
         },
         "mode": "lines",
         "x": [
          -0.010138566464068752,
          -0.010138566464068752,
          null
         ],
         "y": [
          0.012782384528852511,
          0.012782384528852511,
          null
         ],
         "type": "scatter"
        },
        {
         "hoverinfo": "none",
         "line": {
          "color": "gray",
          "width": 0.5
         },
         "mode": "lines",
         "x": [
          -0.010138566464068752,
          -0.7989754527683934,
          null
         ],
         "y": [
          0.012782384528852511,
          0.4499627782742367,
          null
         ],
         "type": "scatter"
        },
        {
         "hoverinfo": "none",
         "line": {
          "color": "gray",
          "width": 0.5
         },
         "mode": "lines",
         "x": [
          -0.010138566464068752,
          -0.27648798630081134,
          null
         ],
         "y": [
          0.012782384528852511,
          -0.0016314373760925797,
          null
         ],
         "type": "scatter"
        },
        {
         "hoverinfo": "none",
         "line": {
          "color": "gray",
          "width": 0.5
         },
         "mode": "lines",
         "x": [
          -0.010138566464068752,
          -7.365924908625281E-4,
          null
         ],
         "y": [
          0.012782384528852511,
          0.016819464240799564,
          null
         ],
         "type": "scatter"
        },
        {
         "hoverinfo": "none",
         "line": {
          "color": "gray",
          "width": 0.5
         },
         "mode": "lines",
         "x": [
          -0.010138566464068752,
          0.7227267515795909,
          null
         ],
         "y": [
          0.012782384528852511,
          0.262643970888098,
          null
         ],
         "type": "scatter"
        },
        {
         "hoverinfo": "none",
         "line": {
          "color": "gray",
          "width": 0.5
         },
         "mode": "lines",
         "x": [
          -0.010138566464068752,
          -0.8044779246238529,
          null
         ],
         "y": [
          0.012782384528852511,
          -0.6664415811288525,
          null
         ],
         "type": "scatter"
        },
        {
         "hoverinfo": "none",
         "line": {
          "color": "gray",
          "width": 0.5
         },
         "mode": "lines",
         "x": [
          -0.010138566464068752,
          -0.08300853375796356,
          null
         ],
         "y": [
          0.012782384528852511,
          0.3491797407960298,
          null
         ],
         "type": "scatter"
        },
        {
         "hoverinfo": "none",
         "line": {
          "color": "gray",
          "width": 0.5
         },
         "mode": "lines",
         "x": [
          -0.010138566464068752,
          -8.719217031381115E-4,
          null
         ],
         "y": [
          0.012782384528852511,
          0.012323617459362309,
          null
         ],
         "type": "scatter"
        },
        {
         "hoverinfo": "none",
         "line": {
          "color": "gray",
          "width": 0.5
         },
         "mode": "lines",
         "x": [
          -0.010138566464068752,
          -0.7460257693515042,
          null
         ],
         "y": [
          0.012782384528852511,
          -0.5853524939925449,
          null
         ],
         "type": "scatter"
        },
        {
         "hoverinfo": "none",
         "line": {
          "color": "gray",
          "width": 0.5
         },
         "mode": "lines",
         "x": [
          -0.010138566464068752,
          0.4470309176654962,
          null
         ],
         "y": [
          0.012782384528852511,
          -0.5054184405987411,
          null
         ],
         "type": "scatter"
        },
        {
         "hoverinfo": "none",
         "line": {
          "color": "gray",
          "width": 0.5
         },
         "mode": "lines",
         "x": [
          -0.010138566464068752,
          0.42492879984431475,
          null
         ],
         "y": [
          0.012782384528852511,
          -0.7194288506554286,
          null
         ],
         "type": "scatter"
        },
        {
         "hoverinfo": "none",
         "line": {
          "color": "gray",
          "width": 0.5
         },
         "mode": "lines",
         "x": [
          -0.010138566464068752,
          -0.014366222279644045,
          null
         ],
         "y": [
          0.012782384528852511,
          0.013114796151533015,
          null
         ],
         "type": "scatter"
        },
        {
         "hoverinfo": "none",
         "line": {
          "color": "gray",
          "width": 0.5
         },
         "mode": "lines",
         "x": [
          -0.010138566464068752,
          -0.5941615395499891,
          null
         ],
         "y": [
          0.012782384528852511,
          -0.19910645564696883,
          null
         ],
         "type": "scatter"
        },
        {
         "hoverinfo": "none",
         "line": {
          "color": "gray",
          "width": 0.5
         },
         "mode": "lines",
         "x": [
          -0.010138566464068752,
          -0.025882235572098684,
          null
         ],
         "y": [
          0.012782384528852511,
          0.22659703573090742,
          null
         ],
         "type": "scatter"
        },
        {
         "hoverinfo": "none",
         "line": {
          "color": "gray",
          "width": 0.5
         },
         "mode": "lines",
         "x": [
          -0.010138566464068752,
          0.160734919321682,
          null
         ],
         "y": [
          0.012782384528852511,
          0.02963419019400786,
          null
         ],
         "type": "scatter"
        },
        {
         "hoverinfo": "none",
         "line": {
          "color": "gray",
          "width": 0.5
         },
         "mode": "lines",
         "x": [
          -0.010138566464068752,
          -9.167032781656398E-4,
          null
         ],
         "y": [
          0.012782384528852511,
          0.011979047832210583,
          null
         ],
         "type": "scatter"
        },
        {
         "hoverinfo": "none",
         "line": {
          "color": "gray",
          "width": 0.5
         },
         "mode": "lines",
         "x": [
          -0.010138566464068752,
          -0.26800142691415246,
          null
         ],
         "y": [
          0.012782384528852511,
          0.26976939678904877,
          null
         ],
         "type": "scatter"
        },
        {
         "hoverinfo": "none",
         "line": {
          "color": "gray",
          "width": 0.5
         },
         "mode": "lines",
         "x": [
          -0.010138566464068752,
          -0.8267066139459578,
          null
         ],
         "y": [
          0.012782384528852511,
          -0.25442043013075577,
          null
         ],
         "type": "scatter"
        },
        {
         "hoverinfo": "none",
         "line": {
          "color": "gray",
          "width": 0.5
         },
         "mode": "lines",
         "x": [
          -0.010138566464068752,
          0.6942355459746198,
          null
         ],
         "y": [
          0.012782384528852511,
          -0.29137075139533913,
          null
         ],
         "type": "scatter"
        },
        {
         "hoverinfo": "none",
         "line": {
          "color": "gray",
          "width": 0.5
         },
         "mode": "lines",
         "x": [
          -0.010138566464068752,
          0.10160804331696707,
          null
         ],
         "y": [
          0.012782384528852511,
          0.05007085251175682,
          null
         ],
         "type": "scatter"
        },
        {
         "hoverinfo": "none",
         "line": {
          "color": "gray",
          "width": 0.5
         },
         "mode": "lines",
         "x": [
          -0.010138566464068752,
          -0.25598265575871265,
          null
         ],
         "y": [
          0.012782384528852511,
          0.958157955298663,
          null
         ],
         "type": "scatter"
        },
        {
         "hoverinfo": "none",
         "line": {
          "color": "gray",
          "width": 0.5
         },
         "mode": "lines",
         "x": [
          -0.010138566464068752,
          0.729158854497814,
          null
         ],
         "y": [
          0.012782384528852511,
          0.6345672859948295,
          null
         ],
         "type": "scatter"
        },
        {
         "hoverinfo": "none",
         "line": {
          "color": "gray",
          "width": 0.5
         },
         "mode": "lines",
         "x": [
          -0.010138566464068752,
          -0.23479225782226149,
          null
         ],
         "y": [
          0.012782384528852511,
          -0.11097467845580569,
          null
         ],
         "type": "scatter"
        },
        {
         "hoverinfo": "none",
         "line": {
          "color": "gray",
          "width": 0.5
         },
         "mode": "lines",
         "x": [
          -0.010138566464068752,
          0.08760687425870466,
          null
         ],
         "y": [
          0.012782384528852511,
          -0.3775264395222279,
          null
         ],
         "type": "scatter"
        },
        {
         "hoverinfo": "none",
         "line": {
          "color": "gray",
          "width": 0.5
         },
         "mode": "lines",
         "x": [
          -0.010138566464068752,
          -0.007606940038846505,
          null
         ],
         "y": [
          0.012782384528852511,
          0.012648284305537843,
          null
         ],
         "type": "scatter"
        },
        {
         "hoverinfo": "none",
         "line": {
          "color": "gray",
          "width": 0.5
         },
         "mode": "lines",
         "x": [
          -0.010138566464068752,
          -0.33531439952899894,
          null
         ],
         "y": [
          0.012782384528852511,
          -0.5810870651642696,
          null
         ],
         "type": "scatter"
        },
        {
         "hoverinfo": "none",
         "line": {
          "color": "gray",
          "width": 0.5
         },
         "mode": "lines",
         "x": [
          -0.010138566464068752,
          -0.0070081968363999644,
          null
         ],
         "y": [
          0.012782384528852511,
          0.01263453500352975,
          null
         ],
         "type": "scatter"
        },
        {
         "hoverinfo": "none",
         "line": {
          "color": "gray",
          "width": 0.5
         },
         "mode": "lines",
         "x": [
          -0.010138566464068752,
          -7.669063770016706E-4,
          null
         ],
         "y": [
          0.012782384528852511,
          0.20381517850783007,
          null
         ],
         "type": "scatter"
        },
        {
         "hoverinfo": "none",
         "line": {
          "color": "gray",
          "width": 0.5
         },
         "mode": "lines",
         "x": [
          -0.010138566464068752,
          0.4745755291525532,
          null
         ],
         "y": [
          0.012782384528852511,
          0.4570729978325492,
          null
         ],
         "type": "scatter"
        },
        {
         "hoverinfo": "none",
         "line": {
          "color": "gray",
          "width": 0.5
         },
         "mode": "lines",
         "x": [
          -0.010138566464068752,
          -0.8589208749787081,
          null
         ],
         "y": [
          0.012782384528852511,
          -0.39289451138432363,
          null
         ],
         "type": "scatter"
        },
        {
         "hoverinfo": "none",
         "line": {
          "color": "gray",
          "width": 0.5
         },
         "mode": "lines",
         "x": [
          -0.010138566464068752,
          0.860852182269131,
          null
         ],
         "y": [
          0.012782384528852511,
          -0.1829294462735668,
          null
         ],
         "type": "scatter"
        },
        {
         "hoverinfo": "none",
         "line": {
          "color": "gray",
          "width": 0.5
         },
         "mode": "lines",
         "x": [
          -0.010138566464068752,
          -0.5012809892220467,
          null
         ],
         "y": [
          0.012782384528852511,
          0.8986892056675824,
          null
         ],
         "type": "scatter"
        },
        {
         "hoverinfo": "none",
         "line": {
          "color": "gray",
          "width": 0.5
         },
         "mode": "lines",
         "x": [
          -0.010138566464068752,
          0.08074062714572627,
          null
         ],
         "y": [
          0.012782384528852511,
          0.04030980357201788,
          null
         ],
         "type": "scatter"
        },
        {
         "hoverinfo": "none",
         "line": {
          "color": "gray",
          "width": 0.5
         },
         "mode": "lines",
         "x": [
          -0.010138566464068752,
          -0.1446278147335393,
          null
         ],
         "y": [
          0.012782384528852511,
          -0.13383319560641355,
          null
         ],
         "type": "scatter"
        },
        {
         "hoverinfo": "none",
         "line": {
          "color": "gray",
          "width": 0.5
         },
         "mode": "lines",
         "x": [
          -0.010138566464068752,
          0.39308388446674264,
          null
         ],
         "y": [
          0.012782384528852511,
          -0.07288545204127538,
          null
         ],
         "type": "scatter"
        },
        {
         "hoverinfo": "none",
         "line": {
          "color": "gray",
          "width": 0.5
         },
         "mode": "lines",
         "x": [
          -0.010138566464068752,
          -0.027118503118252965,
          null
         ],
         "y": [
          0.012782384528852511,
          -0.31358522339731704,
          null
         ],
         "type": "scatter"
        },
        {
         "hoverinfo": "none",
         "line": {
          "color": "gray",
          "width": 0.5
         },
         "mode": "lines",
         "x": [
          -0.010138566464068752,
          0.2986056105567168,
          null
         ],
         "y": [
          0.012782384528852511,
          0.2414179656365153,
          null
         ],
         "type": "scatter"
        },
        {
         "hoverinfo": "none",
         "line": {
          "color": "gray",
          "width": 0.5
         },
         "mode": "lines",
         "x": [
          -0.010138566464068752,
          -0.6248815255295816,
          null
         ],
         "y": [
          0.012782384528852511,
          -0.28428856183273626,
          null
         ],
         "type": "scatter"
        },
        {
         "hoverinfo": "none",
         "line": {
          "color": "gray",
          "width": 0.5
         },
         "mode": "lines",
         "x": [
          -0.010138566464068752,
          -0.851432454734781,
          null
         ],
         "y": [
          0.012782384528852511,
          -0.6612260564983546,
          null
         ],
         "type": "scatter"
        },
        {
         "hoverinfo": "none",
         "line": {
          "color": "gray",
          "width": 0.5
         },
         "mode": "lines",
         "x": [
          -0.010138566464068752,
          -0.1346811863487397,
          null
         ],
         "y": [
          0.012782384528852511,
          -0.3466339462542172,
          null
         ],
         "type": "scatter"
        },
        {
         "hoverinfo": "none",
         "line": {
          "color": "gray",
          "width": 0.5
         },
         "mode": "lines",
         "x": [
          -0.010138566464068752,
          0.5229867025906463,
          null
         ],
         "y": [
          0.012782384528852511,
          -0.2362771650142229,
          null
         ],
         "type": "scatter"
        },
        {
         "hoverinfo": "none",
         "line": {
          "color": "gray",
          "width": 0.5
         },
         "mode": "lines",
         "x": [
          -0.010138566464068752,
          0.8067300437075947,
          null
         ],
         "y": [
          0.012782384528852511,
          -0.13000613091195776,
          null
         ],
         "type": "scatter"
        },
        {
         "hoverinfo": "none",
         "line": {
          "color": "gray",
          "width": 0.5
         },
         "mode": "lines",
         "x": [
          -0.010138566464068752,
          -0.6670088216578772,
          null
         ],
         "y": [
          0.012782384528852511,
          0.9188337928262934,
          null
         ],
         "type": "scatter"
        },
        {
         "hoverinfo": "none",
         "line": {
          "color": "gray",
          "width": 0.5
         },
         "mode": "lines",
         "x": [
          -0.010138566464068752,
          -0.18020753709240916,
          null
         ],
         "y": [
          0.012782384528852511,
          -0.6172314407342626,
          null
         ],
         "type": "scatter"
        },
        {
         "hoverinfo": "none",
         "line": {
          "color": "gray",
          "width": 0.5
         },
         "mode": "lines",
         "x": [
          -0.010138566464068752,
          0.3607303811116419,
          null
         ],
         "y": [
          0.012782384528852511,
          -0.1358586619495931,
          null
         ],
         "type": "scatter"
        },
        {
         "hoverinfo": "none",
         "line": {
          "color": "gray",
          "width": 0.5
         },
         "mode": "lines",
         "x": [
          -0.010138566464068752,
          -0.011705693304391149,
          null
         ],
         "y": [
          0.012782384528852511,
          0.012143547541630214,
          null
         ],
         "type": "scatter"
        },
        {
         "hoverinfo": "none",
         "line": {
          "color": "gray",
          "width": 0.5
         },
         "mode": "lines",
         "x": [
          -0.010138566464068752,
          0.006977528880427595,
          null
         ],
         "y": [
          0.012782384528852511,
          -0.0954911045215052,
          null
         ],
         "type": "scatter"
        },
        {
         "hoverinfo": "none",
         "line": {
          "color": "gray",
          "width": 0.5
         },
         "mode": "lines",
         "x": [
          -0.010138566464068752,
          0.3605234849131943,
          null
         ],
         "y": [
          0.012782384528852511,
          -0.44441286530503676,
          null
         ],
         "type": "scatter"
        },
        {
         "hoverinfo": "none",
         "line": {
          "color": "gray",
          "width": 0.5
         },
         "mode": "lines",
         "x": [
          -0.010138566464068752,
          -0.7092729355545986,
          null
         ],
         "y": [
          0.012782384528852511,
          -0.22319980492838726,
          null
         ],
         "type": "scatter"
        },
        {
         "hoverinfo": "none",
         "line": {
          "color": "gray",
          "width": 0.5
         },
         "mode": "lines",
         "x": [
          -0.010138566464068752,
          0.4216935852176046,
          null
         ],
         "y": [
          0.012782384528852511,
          0.29734446907492934,
          null
         ],
         "type": "scatter"
        },
        {
         "hoverinfo": "none",
         "line": {
          "color": "gray",
          "width": 0.5
         },
         "mode": "lines",
         "x": [
          -0.010138566464068752,
          0.44898148653852243,
          null
         ],
         "y": [
          0.012782384528852511,
          -0.24453374605297967,
          null
         ],
         "type": "scatter"
        },
        {
         "hoverinfo": "none",
         "line": {
          "color": "gray",
          "width": 0.5
         },
         "mode": "lines",
         "x": [
          -0.010138566464068752,
          0.8266308264112879,
          null
         ],
         "y": [
          0.012782384528852511,
          0.11214269370190905,
          null
         ],
         "type": "scatter"
        },
        {
         "hoverinfo": "none",
         "line": {
          "color": "gray",
          "width": 0.5
         },
         "mode": "lines",
         "x": [
          -0.014598216270740198,
          -0.010138566464068752,
          null
         ],
         "y": [
          0.013030365827558225,
          0.012782384528852511,
          null
         ],
         "type": "scatter"
        },
        {
         "hoverinfo": "none",
         "line": {
          "color": "gray",
          "width": 0.5
         },
         "mode": "lines",
         "x": [
          -0.010695305579042148,
          -0.010138566464068752,
          null
         ],
         "y": [
          0.012862845612131663,
          0.012782384528852511,
          null
         ],
         "type": "scatter"
        },
        {
         "hoverinfo": "none",
         "line": {
          "color": "gray",
          "width": 0.5
         },
         "mode": "lines",
         "x": [
          -0.009579364415061518,
          -0.010138566464068752,
          null
         ],
         "y": [
          0.012712474820774908,
          0.012782384528852511,
          null
         ],
         "type": "scatter"
        },
        {
         "hoverinfo": "none",
         "line": {
          "color": "gray",
          "width": 0.5
         },
         "mode": "lines",
         "x": [
          -0.010405544095556381,
          -0.010138566464068752,
          null
         ],
         "y": [
          0.012802172432332287,
          0.012782384528852511,
          null
         ],
         "type": "scatter"
        },
        {
         "hoverinfo": "none",
         "line": {
          "color": "gray",
          "width": 0.5
         },
         "mode": "lines",
         "x": [
          -0.00518959670049113,
          -0.010138566464068752,
          null
         ],
         "y": [
          0.012520210685495897,
          0.012782384528852511,
          null
         ],
         "type": "scatter"
        },
        {
         "hoverinfo": "none",
         "line": {
          "color": "gray",
          "width": 0.5
         },
         "mode": "lines",
         "x": [
          -0.011685247432064928,
          -0.010138566464068752,
          null
         ],
         "y": [
          0.01285258491211779,
          0.012782384528852511,
          null
         ],
         "type": "scatter"
        },
        {
         "hoverinfo": "none",
         "line": {
          "color": "gray",
          "width": 0.5
         },
         "mode": "lines",
         "x": [
          -0.010942482037662923,
          -0.010138566464068752,
          null
         ],
         "y": [
          0.012814057791648162,
          0.012782384528852511,
          null
         ],
         "type": "scatter"
        },
        {
         "hoverinfo": "none",
         "line": {
          "color": "gray",
          "width": 0.5
         },
         "mode": "lines",
         "x": [
          -0.0085905708650851,
          -0.010138566464068752,
          null
         ],
         "y": [
          0.012732708621839658,
          0.012782384528852511,
          null
         ],
         "type": "scatter"
        },
        {
         "hoverinfo": "none",
         "line": {
          "color": "gray",
          "width": 0.5
         },
         "mode": "lines",
         "x": [
          -0.005348924052806334,
          -0.010138566464068752,
          null
         ],
         "y": [
          0.012498986612805196,
          0.012782384528852511,
          null
         ],
         "type": "scatter"
        },
        {
         "hoverinfo": "none",
         "line": {
          "color": "gray",
          "width": 0.5
         },
         "mode": "lines",
         "x": [
          -0.00940875677979596,
          -0.010138566464068752,
          null
         ],
         "y": [
          0.012746231512022276,
          0.012782384528852511,
          null
         ],
         "type": "scatter"
        },
        {
         "hoverinfo": "none",
         "line": {
          "color": "gray",
          "width": 0.5
         },
         "mode": "lines",
         "x": [
          -0.020995759270430164,
          -0.010138566464068752,
          null
         ],
         "y": [
          0.011012091314426896,
          0.012782384528852511,
          null
         ],
         "type": "scatter"
        },
        {
         "hoverinfo": "none",
         "line": {
          "color": "gray",
          "width": 0.5
         },
         "mode": "lines",
         "x": [
          -0.013417798091428722,
          -0.010138566464068752,
          null
         ],
         "y": [
          0.013041774392242491,
          0.012782384528852511,
          null
         ],
         "type": "scatter"
        },
        {
         "hoverinfo": "none",
         "line": {
          "color": "gray",
          "width": 0.5
         },
         "mode": "lines",
         "x": [
          -0.003795835267209724,
          -0.010138566464068752,
          null
         ],
         "y": [
          0.01245049415142244,
          0.012782384528852511,
          null
         ],
         "type": "scatter"
        },
        {
         "hoverinfo": "none",
         "line": {
          "color": "gray",
          "width": 0.5
         },
         "mode": "lines",
         "x": [
          0.001157091523951997,
          -0.010138566464068752,
          null
         ],
         "y": [
          0.012239938564653972,
          0.012782384528852511,
          null
         ],
         "type": "scatter"
        },
        {
         "hoverinfo": "none",
         "line": {
          "color": "gray",
          "width": 0.5
         },
         "mode": "lines",
         "x": [
          7.778357380636263E-4,
          -0.010138566464068752,
          null
         ],
         "y": [
          0.012262714361308286,
          0.012782384528852511,
          null
         ],
         "type": "scatter"
        },
        {
         "hoverinfo": "none",
         "line": {
          "color": "gray",
          "width": 0.5
         },
         "mode": "lines",
         "x": [
          -0.012174916564760066,
          -0.010138566464068752,
          null
         ],
         "y": [
          0.012958191941706996,
          0.012782384528852511,
          null
         ],
         "type": "scatter"
        },
        {
         "hoverinfo": "none",
         "line": {
          "color": "gray",
          "width": 0.5
         },
         "mode": "lines",
         "x": [
          -7.365924908625281E-4,
          -0.010138566464068752,
          null
         ],
         "y": [
          0.016819464240799564,
          0.012782384528852511,
          null
         ],
         "type": "scatter"
        },
        {
         "hoverinfo": "none",
         "line": {
          "color": "gray",
          "width": 0.5
         },
         "mode": "lines",
         "x": [
          -0.007606940038846505,
          -0.010138566464068752,
          null
         ],
         "y": [
          0.012648284305537843,
          0.012782384528852511,
          null
         ],
         "type": "scatter"
        },
        {
         "hoverinfo": "none",
         "line": {
          "color": "gray",
          "width": 0.5
         },
         "mode": "lines",
         "x": [
          -0.00970630212487595,
          -0.010138566464068752,
          null
         ],
         "y": [
          0.012795888589184665,
          0.012782384528852511,
          null
         ],
         "type": "scatter"
        },
        {
         "hoverinfo": "none",
         "line": {
          "color": "gray",
          "width": 0.5
         },
         "mode": "lines",
         "x": [
          -0.015342271322390608,
          -0.010138566464068752,
          null
         ],
         "y": [
          0.01320920202941833,
          0.012782384528852511,
          null
         ],
         "type": "scatter"
        },
        {
         "hoverinfo": "none",
         "line": {
          "color": "gray",
          "width": 0.5
         },
         "mode": "lines",
         "x": [
          -0.009162876420149797,
          -0.010138566464068752,
          null
         ],
         "y": [
          0.012733432652470279,
          0.012782384528852511,
          null
         ],
         "type": "scatter"
        },
        {
         "hoverinfo": "none",
         "line": {
          "color": "gray",
          "width": 0.5
         },
         "mode": "lines",
         "x": [
          -0.0106433713314088,
          -0.010138566464068752,
          null
         ],
         "y": [
          0.012788420620898478,
          0.012782384528852511,
          null
         ],
         "type": "scatter"
        },
        {
         "hoverinfo": "none",
         "line": {
          "color": "gray",
          "width": 0.5
         },
         "mode": "lines",
         "x": [
          -0.013393030625590878,
          -0.010138566464068752,
          null
         ],
         "y": [
          0.012966683859652786,
          0.012782384528852511,
          null
         ],
         "type": "scatter"
        },
        {
         "hoverinfo": "none",
         "line": {
          "color": "gray",
          "width": 0.5
         },
         "mode": "lines",
         "x": [
          -0.013892545636789601,
          -0.010138566464068752,
          null
         ],
         "y": [
          0.01199952706949936,
          0.012782384528852511,
          null
         ],
         "type": "scatter"
        },
        {
         "hoverinfo": "none",
         "line": {
          "color": "gray",
          "width": 0.5
         },
         "mode": "lines",
         "x": [
          -0.0035867087093142142,
          -0.010138566464068752,
          null
         ],
         "y": [
          0.01244041987087125,
          0.012782384528852511,
          null
         ],
         "type": "scatter"
        },
        {
         "hoverinfo": "none",
         "line": {
          "color": "gray",
          "width": 0.5
         },
         "mode": "lines",
         "x": [
          -0.010882233026271153,
          -0.010138566464068752,
          null
         ],
         "y": [
          0.012757826940696021,
          0.012782384528852511,
          null
         ],
         "type": "scatter"
        },
        {
         "hoverinfo": "none",
         "line": {
          "color": "gray",
          "width": 0.5
         },
         "mode": "lines",
         "x": [
          -0.008223815817232501,
          -0.010138566464068752,
          null
         ],
         "y": [
          0.01268187081244342,
          0.012782384528852511,
          null
         ],
         "type": "scatter"
        },
        {
         "hoverinfo": "none",
         "line": {
          "color": "gray",
          "width": 0.5
         },
         "mode": "lines",
         "x": [
          -9.167032781656398E-4,
          -0.010138566464068752,
          null
         ],
         "y": [
          0.011979047832210583,
          0.012782384528852511,
          null
         ],
         "type": "scatter"
        },
        {
         "hoverinfo": "none",
         "line": {
          "color": "gray",
          "width": 0.5
         },
         "mode": "lines",
         "x": [
          -0.008548328861971329,
          -0.010138566464068752,
          null
         ],
         "y": [
          0.012699637464462964,
          0.012782384528852511,
          null
         ],
         "type": "scatter"
        },
        {
         "hoverinfo": "none",
         "line": {
          "color": "gray",
          "width": 0.5
         },
         "mode": "lines",
         "x": [
          -0.016592952621545445,
          -0.010138566464068752,
          null
         ],
         "y": [
          0.013619503060099373,
          0.012782384528852511,
          null
         ],
         "type": "scatter"
        },
        {
         "hoverinfo": "none",
         "line": {
          "color": "gray",
          "width": 0.5
         },
         "mode": "lines",
         "x": [
          0.002310003346722397,
          -0.010138566464068752,
          null
         ],
         "y": [
          0.011942262714860614,
          0.012782384528852511,
          null
         ],
         "type": "scatter"
        },
        {
         "hoverinfo": "none",
         "line": {
          "color": "gray",
          "width": 0.5
         },
         "mode": "lines",
         "x": [
          -8.719217031381115E-4,
          -0.010138566464068752,
          null
         ],
         "y": [
          0.012323617459362309,
          0.012782384528852511,
          null
         ],
         "type": "scatter"
        },
        {
         "hoverinfo": "none",
         "line": {
          "color": "gray",
          "width": 0.5
         },
         "mode": "lines",
         "x": [
          -0.0018896357315177695,
          -0.010138566464068752,
          null
         ],
         "y": [
          0.0159574041240502,
          0.012782384528852511,
          null
         ],
         "type": "scatter"
        },
        {
         "hoverinfo": "none",
         "line": {
          "color": "gray",
          "width": 0.5
         },
         "mode": "lines",
         "x": [
          -0.01210091906198164,
          -0.010138566464068752,
          null
         ],
         "y": [
          0.012928249146088752,
          0.012782384528852511,
          null
         ],
         "type": "scatter"
        },
        {
         "hoverinfo": "none",
         "line": {
          "color": "gray",
          "width": 0.5
         },
         "mode": "lines",
         "x": [
          -0.002315797053447595,
          -0.010138566464068752,
          null
         ],
         "y": [
          0.01163000015019608,
          0.012782384528852511,
          null
         ],
         "type": "scatter"
        },
        {
         "hoverinfo": "none",
         "line": {
          "color": "gray",
          "width": 0.5
         },
         "mode": "lines",
         "x": [
          -9.678552657748284E-4,
          -0.010138566464068752,
          null
         ],
         "y": [
          0.013492821653823298,
          0.012782384528852511,
          null
         ],
         "type": "scatter"
        },
        {
         "hoverinfo": "none",
         "line": {
          "color": "gray",
          "width": 0.5
         },
         "mode": "lines",
         "x": [
          -0.014366222279644045,
          -0.010138566464068752,
          null
         ],
         "y": [
          0.013114796151533015,
          0.012782384528852511,
          null
         ],
         "type": "scatter"
        },
        {
         "hoverinfo": "none",
         "line": {
          "color": "gray",
          "width": 0.5
         },
         "mode": "lines",
         "x": [
          -0.003915846498555649,
          -0.010138566464068752,
          null
         ],
         "y": [
          0.01249975508192244,
          0.012782384528852511,
          null
         ],
         "type": "scatter"
        },
        {
         "hoverinfo": "none",
         "line": {
          "color": "gray",
          "width": 0.5
         },
         "mode": "lines",
         "x": [
          0.001241555023901678,
          -0.010138566464068752,
          null
         ],
         "y": [
          0.012236812918270803,
          0.012782384528852511,
          null
         ],
         "type": "scatter"
        },
        {
         "hoverinfo": "none",
         "line": {
          "color": "gray",
          "width": 0.5
         },
         "mode": "lines",
         "x": [
          -0.012526993880146926,
          -0.010138566464068752,
          null
         ],
         "y": [
          0.012919504257374263,
          0.012782384528852511,
          null
         ],
         "type": "scatter"
        },
        {
         "hoverinfo": "none",
         "line": {
          "color": "gray",
          "width": 0.5
         },
         "mode": "lines",
         "x": [
          -0.011010913178249551,
          -0.010138566464068752,
          null
         ],
         "y": [
          0.013535687210624902,
          0.012782384528852511,
          null
         ],
         "type": "scatter"
        },
        {
         "hoverinfo": "none",
         "line": {
          "color": "gray",
          "width": 0.5
         },
         "mode": "lines",
         "x": [
          -0.0030443355334276536,
          -0.010138566464068752,
          null
         ],
         "y": [
          0.012414875233485978,
          0.012782384528852511,
          null
         ],
         "type": "scatter"
        },
        {
         "hoverinfo": "none",
         "line": {
          "color": "gray",
          "width": 0.5
         },
         "mode": "lines",
         "x": [
          0.0010379572994957623,
          -0.010138566464068752,
          null
         ],
         "y": [
          0.01411932935014203,
          0.012782384528852511,
          null
         ],
         "type": "scatter"
        },
        {
         "hoverinfo": "none",
         "line": {
          "color": "gray",
          "width": 0.5
         },
         "mode": "lines",
         "x": [
          -0.015386294756385446,
          -0.010138566464068752,
          null
         ],
         "y": [
          0.013069668092507546,
          0.012782384528852511,
          null
         ],
         "type": "scatter"
        },
        {
         "hoverinfo": "none",
         "line": {
          "color": "gray",
          "width": 0.5
         },
         "mode": "lines",
         "x": [
          -0.0015415685970101183,
          -0.010138566464068752,
          null
         ],
         "y": [
          0.012349580425748683,
          0.012782384528852511,
          null
         ],
         "type": "scatter"
        },
        {
         "hoverinfo": "none",
         "line": {
          "color": "gray",
          "width": 0.5
         },
         "mode": "lines",
         "x": [
          -0.013408864576555225,
          -0.010138566464068752,
          null
         ],
         "y": [
          0.013042118433373657,
          0.012782384528852511,
          null
         ],
         "type": "scatter"
        },
        {
         "hoverinfo": "none",
         "line": {
          "color": "gray",
          "width": 0.5
         },
         "mode": "lines",
         "x": [
          0.0013523375876447691,
          -0.010138566464068752,
          null
         ],
         "y": [
          0.012224228417664707,
          0.012782384528852511,
          null
         ],
         "type": "scatter"
        },
        {
         "hoverinfo": "none",
         "line": {
          "color": "gray",
          "width": 0.5
         },
         "mode": "lines",
         "x": [
          -0.0032018006177882015,
          -0.010138566464068752,
          null
         ],
         "y": [
          0.012422199467738763,
          0.012782384528852511,
          null
         ],
         "type": "scatter"
        },
        {
         "hoverinfo": "none",
         "line": {
          "color": "gray",
          "width": 0.5
         },
         "mode": "lines",
         "x": [
          -0.010421931466161853,
          -0.010138566464068752,
          null
         ],
         "y": [
          0.011883348320317315,
          0.012782384528852511,
          null
         ],
         "type": "scatter"
        },
        {
         "hoverinfo": "none",
         "line": {
          "color": "gray",
          "width": 0.5
         },
         "mode": "lines",
         "x": [
          -0.020132809737565635,
          -0.010138566464068752,
          null
         ],
         "y": [
          0.012981483319663515,
          0.012782384528852511,
          null
         ],
         "type": "scatter"
        },
        {
         "hoverinfo": "none",
         "line": {
          "color": "gray",
          "width": 0.5
         },
         "mode": "lines",
         "x": [
          -0.013064870686143527,
          -0.010138566464068752,
          null
         ],
         "y": [
          0.013032929138872775,
          0.012782384528852511,
          null
         ],
         "type": "scatter"
        },
        {
         "hoverinfo": "none",
         "line": {
          "color": "gray",
          "width": 0.5
         },
         "mode": "lines",
         "x": [
          -0.005337307089811499,
          -0.010138566464068752,
          null
         ],
         "y": [
          0.012527817996135416,
          0.012782384528852511,
          null
         ],
         "type": "scatter"
        },
        {
         "hoverinfo": "none",
         "line": {
          "color": "gray",
          "width": 0.5
         },
         "mode": "lines",
         "x": [
          -0.008938278406526588,
          -0.010138566464068752,
          null
         ],
         "y": [
          0.012732910404924604,
          0.012782384528852511,
          null
         ],
         "type": "scatter"
        },
        {
         "hoverinfo": "none",
         "line": {
          "color": "gray",
          "width": 0.5
         },
         "mode": "lines",
         "x": [
          0.0012714293179872855,
          -0.010138566464068752,
          null
         ],
         "y": [
          0.01223127944402624,
          0.012782384528852511,
          null
         ],
         "type": "scatter"
        },
        {
         "hoverinfo": "none",
         "line": {
          "color": "gray",
          "width": 0.5
         },
         "mode": "lines",
         "x": [
          -0.0017856470568846554,
          -0.010138566464068752,
          null
         ],
         "y": [
          0.01614206981231036,
          0.012782384528852511,
          null
         ],
         "type": "scatter"
        },
        {
         "hoverinfo": "none",
         "line": {
          "color": "gray",
          "width": 0.5
         },
         "mode": "lines",
         "x": [
          -0.010830743550256112,
          -0.010138566464068752,
          null
         ],
         "y": [
          0.01287147347587354,
          0.012782384528852511,
          null
         ],
         "type": "scatter"
        },
        {
         "hoverinfo": "none",
         "line": {
          "color": "gray",
          "width": 0.5
         },
         "mode": "lines",
         "x": [
          -0.011190519425618002,
          -0.010138566464068752,
          null
         ],
         "y": [
          0.013449821491123112,
          0.012782384528852511,
          null
         ],
         "type": "scatter"
        },
        {
         "hoverinfo": "none",
         "line": {
          "color": "gray",
          "width": 0.5
         },
         "mode": "lines",
         "x": [
          -0.015182050150041303,
          -0.010138566464068752,
          null
         ],
         "y": [
          0.013059737806666676,
          0.012782384528852511,
          null
         ],
         "type": "scatter"
        },
        {
         "hoverinfo": "none",
         "line": {
          "color": "gray",
          "width": 0.5
         },
         "mode": "lines",
         "x": [
          -0.008889945571683927,
          -0.010138566464068752,
          null
         ],
         "y": [
          0.01274760400375033,
          0.012782384528852511,
          null
         ],
         "type": "scatter"
        },
        {
         "hoverinfo": "none",
         "line": {
          "color": "gray",
          "width": 0.5
         },
         "mode": "lines",
         "x": [
          -0.015803382259696845,
          -0.010138566464068752,
          null
         ],
         "y": [
          0.015504158760767902,
          0.012782384528852511,
          null
         ],
         "type": "scatter"
        },
        {
         "hoverinfo": "none",
         "line": {
          "color": "gray",
          "width": 0.5
         },
         "mode": "lines",
         "x": [
          -0.01447389956917384,
          -0.010138566464068752,
          null
         ],
         "y": [
          0.013023957405790322,
          0.012782384528852511,
          null
         ],
         "type": "scatter"
        },
        {
         "hoverinfo": "none",
         "line": {
          "color": "gray",
          "width": 0.5
         },
         "mode": "lines",
         "x": [
          0.0016827660754479429,
          -0.010138566464068752,
          null
         ],
         "y": [
          0.012182974651589183,
          0.012782384528852511,
          null
         ],
         "type": "scatter"
        },
        {
         "hoverinfo": "none",
         "line": {
          "color": "gray",
          "width": 0.5
         },
         "mode": "lines",
         "x": [
          5.558865821979549E-4,
          -0.010138566464068752,
          null
         ],
         "y": [
          0.01227131412802968,
          0.012782384528852511,
          null
         ],
         "type": "scatter"
        },
        {
         "hoverinfo": "none",
         "line": {
          "color": "gray",
          "width": 0.5
         },
         "mode": "lines",
         "x": [
          -0.0070081968363999644,
          -0.010138566464068752,
          null
         ],
         "y": [
          0.01263453500352975,
          0.012782384528852511,
          null
         ],
         "type": "scatter"
        },
        {
         "hoverinfo": "none",
         "line": {
          "color": "gray",
          "width": 0.5
         },
         "mode": "lines",
         "x": [
          -0.011599442724137588,
          -0.010138566464068752,
          null
         ],
         "y": [
          0.012268778402293965,
          0.012782384528852511,
          null
         ],
         "type": "scatter"
        },
        {
         "hoverinfo": "none",
         "line": {
          "color": "gray",
          "width": 0.5
         },
         "mode": "lines",
         "x": [
          -5.274268289858373E-4,
          -0.010138566464068752,
          null
         ],
         "y": [
          0.01229550920651839,
          0.012782384528852511,
          null
         ],
         "type": "scatter"
        },
        {
         "hoverinfo": "none",
         "line": {
          "color": "gray",
          "width": 0.5
         },
         "mode": "lines",
         "x": [
          5.756671489442064E-4,
          -0.010138566464068752,
          null
         ],
         "y": [
          0.01227049595960686,
          0.012782384528852511,
          null
         ],
         "type": "scatter"
        },
        {
         "hoverinfo": "none",
         "line": {
          "color": "gray",
          "width": 0.5
         },
         "mode": "lines",
         "x": [
          -0.018868368495629048,
          -0.010138566464068752,
          null
         ],
         "y": [
          0.012810671540147355,
          0.012782384528852511,
          null
         ],
         "type": "scatter"
        },
        {
         "hoverinfo": "none",
         "line": {
          "color": "gray",
          "width": 0.5
         },
         "mode": "lines",
         "x": [
          -0.01853880762761236,
          -0.010138566464068752,
          null
         ],
         "y": [
          0.013155421779130677,
          0.012782384528852511,
          null
         ],
         "type": "scatter"
        },
        {
         "hoverinfo": "none",
         "line": {
          "color": "gray",
          "width": 0.5
         },
         "mode": "lines",
         "x": [
          -0.010127743911606871,
          -0.010138566464068752,
          null
         ],
         "y": [
          0.012604937597074458,
          0.012782384528852511,
          null
         ],
         "type": "scatter"
        },
        {
         "hoverinfo": "none",
         "line": {
          "color": "gray",
          "width": 0.5
         },
         "mode": "lines",
         "x": [
          -0.014010759753880392,
          -0.010138566464068752,
          null
         ],
         "y": [
          0.013086542102836517,
          0.012782384528852511,
          null
         ],
         "type": "scatter"
        },
        {
         "hoverinfo": "none",
         "line": {
          "color": "gray",
          "width": 0.5
         },
         "mode": "lines",
         "x": [
          -0.007019914092449729,
          -0.010138566464068752,
          null
         ],
         "y": [
          0.012618021128081804,
          0.012782384528852511,
          null
         ],
         "type": "scatter"
        },
        {
         "hoverinfo": "none",
         "line": {
          "color": "gray",
          "width": 0.5
         },
         "mode": "lines",
         "x": [
          -0.018373613161508262,
          -0.010138566464068752,
          null
         ],
         "y": [
          0.013698616924935183,
          0.012782384528852511,
          null
         ],
         "type": "scatter"
        },
        {
         "hoverinfo": "none",
         "line": {
          "color": "gray",
          "width": 0.5
         },
         "mode": "lines",
         "x": [
          -0.010604332220424367,
          -0.010138566464068752,
          null
         ],
         "y": [
          0.012857055032320038,
          0.012782384528852511,
          null
         ],
         "type": "scatter"
        },
        {
         "hoverinfo": "none",
         "line": {
          "color": "gray",
          "width": 0.5
         },
         "mode": "lines",
         "x": [
          -0.008202668962760012,
          -0.010138566464068752,
          null
         ],
         "y": [
          0.012736015611467918,
          0.012782384528852511,
          null
         ],
         "type": "scatter"
        },
        {
         "hoverinfo": "none",
         "line": {
          "color": "gray",
          "width": 0.5
         },
         "mode": "lines",
         "x": [
          -0.01230850437400525,
          -0.010138566464068752,
          null
         ],
         "y": [
          0.012907496173818528,
          0.012782384528852511,
          null
         ],
         "type": "scatter"
        },
        {
         "hoverinfo": "none",
         "line": {
          "color": "gray",
          "width": 0.5
         },
         "mode": "lines",
         "x": [
          -0.009256538843200341,
          -0.010138566464068752,
          null
         ],
         "y": [
          0.0173715799672412,
          0.012782384528852511,
          null
         ],
         "type": "scatter"
        },
        {
         "hoverinfo": "none",
         "line": {
          "color": "gray",
          "width": 0.5
         },
         "mode": "lines",
         "x": [
          -0.017573619837544897,
          -0.010138566464068752,
          null
         ],
         "y": [
          0.01410435009995155,
          0.012782384528852511,
          null
         ],
         "type": "scatter"
        },
        {
         "hoverinfo": "none",
         "line": {
          "color": "gray",
          "width": 0.5
         },
         "mode": "lines",
         "x": [
          -0.008624313793459388,
          -0.010138566464068752,
          null
         ],
         "y": [
          0.012703806061376905,
          0.012782384528852511,
          null
         ],
         "type": "scatter"
        },
        {
         "hoverinfo": "none",
         "line": {
          "color": "gray",
          "width": 0.5
         },
         "mode": "lines",
         "x": [
          -0.009991477847821496,
          -0.010138566464068752,
          null
         ],
         "y": [
          0.012791918010878056,
          0.012782384528852511,
          null
         ],
         "type": "scatter"
        },
        {
         "hoverinfo": "none",
         "line": {
          "color": "gray",
          "width": 0.5
         },
         "mode": "lines",
         "x": [
          -0.020383335908377282,
          -0.010138566464068752,
          null
         ],
         "y": [
          0.01289862447591191,
          0.012782384528852511,
          null
         ],
         "type": "scatter"
        },
        {
         "hoverinfo": "none",
         "line": {
          "color": "gray",
          "width": 0.5
         },
         "mode": "lines",
         "x": [
          -0.016421619493618436,
          -0.010138566464068752,
          null
         ],
         "y": [
          0.013467488344525163,
          0.012782384528852511,
          null
         ],
         "type": "scatter"
        },
        {
         "hoverinfo": "none",
         "line": {
          "color": "gray",
          "width": 0.5
         },
         "mode": "lines",
         "x": [
          -0.011705693304391149,
          -0.010138566464068752,
          null
         ],
         "y": [
          0.012143547541630214,
          0.012782384528852511,
          null
         ],
         "type": "scatter"
        },
        {
         "hoverinfo": "none",
         "line": {
          "color": "gray",
          "width": 0.5
         },
         "mode": "lines",
         "x": [
          -0.01673669475230668,
          -0.010138566464068752,
          null
         ],
         "y": [
          0.00972426741805261,
          0.012782384528852511,
          null
         ],
         "type": "scatter"
        },
        {
         "hoverinfo": "none",
         "line": {
          "color": "gray",
          "width": 0.5
         },
         "mode": "lines",
         "x": [
          -0.013209769473296981,
          -0.010138566464068752,
          null
         ],
         "y": [
          0.013028074149187068,
          0.012782384528852511,
          null
         ],
         "type": "scatter"
        },
        {
         "hoverinfo": "none",
         "line": {
          "color": "gray",
          "width": 0.5
         },
         "mode": "lines",
         "x": [
          0.0014637955606242703,
          -0.010138566464068752,
          null
         ],
         "y": [
          0.016090637789267722,
          0.012782384528852511,
          null
         ],
         "type": "scatter"
        },
        {
         "hoverinfo": "none",
         "line": {
          "color": "gray",
          "width": 0.5
         },
         "mode": "lines",
         "x": [
          -0.013056271275904613,
          -0.010138566464068752,
          null
         ],
         "y": [
          0.012516294361929347,
          0.012782384528852511,
          null
         ],
         "type": "scatter"
        },
        {
         "hoverinfo": "none",
         "line": {
          "color": "gray",
          "width": 0.5
         },
         "mode": "lines",
         "x": [
          -0.013730381345486006,
          -0.010138566464068752,
          null
         ],
         "y": [
          0.013065419938409104,
          0.012782384528852511,
          null
         ],
         "type": "scatter"
        },
        {
         "hoverinfo": "none",
         "line": {
          "color": "gray",
          "width": 0.5
         },
         "mode": "lines",
         "x": [
          -0.016455176930354046,
          -0.010138566464068752,
          null
         ],
         "y": [
          0.013487503740655127,
          0.012782384528852511,
          null
         ],
         "type": "scatter"
        },
        {
         "hoverinfo": "none",
         "line": {
          "color": "gray",
          "width": 0.5
         },
         "mode": "lines",
         "x": [
          -0.009218494551035487,
          -0.010138566464068752,
          null
         ],
         "y": [
          0.012748089011365465,
          0.012782384528852511,
          null
         ],
         "type": "scatter"
        },
        {
         "hoverinfo": "none",
         "line": {
          "color": "gray",
          "width": 0.5
         },
         "mode": "lines",
         "x": [
          -0.012503910082531574,
          -0.010138566464068752,
          null
         ],
         "y": [
          0.01299749416566421,
          0.012782384528852511,
          null
         ],
         "type": "scatter"
        },
        {
         "hoverinfo": "none",
         "line": {
          "color": "gray",
          "width": 0.5
         },
         "mode": "lines",
         "x": [
          -0.005340511999390703,
          -0.010138566464068752,
          null
         ],
         "y": [
          0.012685794012491305,
          0.012782384528852511,
          null
         ],
         "type": "scatter"
        },
        {
         "hoverinfo": "none",
         "line": {
          "color": "gray",
          "width": 0.5
         },
         "mode": "lines",
         "x": [
          -0.01200860572997599,
          -0.010138566464068752,
          null
         ],
         "y": [
          0.012139377149331233,
          0.012782384528852511,
          null
         ],
         "type": "scatter"
        },
        {
         "hoverinfo": "text",
         "marker": {
          "color": "lightblue",
          "size": 10
         },
         "mode": "markers+text",
         "text": [
          "ITCH",
          "EGFR",
          "EREG",
          "GRB2",
          "OSI-420",
          "JAK1/STAT1/STAT3",
          "lapatinib",
          "PI3K",
          "CUDC-101",
          "canertinib",
          "VAV2",
          "GAB1",
          "SCAMP3",
          "WZ4002",
          "CALM1",
          "CBLB",
          "PTPN2",
          "GNAI1",
          "CTNND1",
          "gefitinib",
          "neratinib",
          "tyrphostin AG 1478",
          "KCNN1",
          "sapitinib",
          "pelitinib",
          "PKN1",
          "EGF",
          "KCND3",
          "STAT5A",
          "ERBB2",
          "PIK3R1",
          "JAK2",
          "NCK1",
          "SNX9",
          "SHC1",
          "PRKG2",
          "EPN1",
          "EPS15",
          "AREG",
          "IKBKE",
          "PLCG1",
          "ZMYND8",
          "CAMK2A",
          "VCB-Cul2",
          "CALM3",
          "METTL3",
          "ERRFI1",
          "panitumumab",
          "SHC3",
          "BTC",
          "GSTP1",
          "RNF126",
          "CBL",
          "PIK3C2B",
          "SRC",
          "PTPN11",
          "SCAMP1",
          "dacomitinib",
          "XL-647",
          "HDAC6",
          "PTPN1",
          "erlotinib",
          "VARLITINIB",
          "STAT5B",
          "Gbeta",
          "COMMD5",
          "ABL1",
          "ABCA1",
          "PTPRJ",
          "SOCS5",
          "DUSP3",
          "TGFA",
          "afatinib",
          "AP2M1",
          "KRT14",
          "tyrphostin B42",
          "ANXA1",
          "AV412",
          "PTPN6",
          "RASA1",
          "CRK",
          "RGS16",
          "N-[4-[3-chloro-4-[(3-fluorophenyl)methoxy]anilino]-6-quinazolinyl]-2-propenamide",
          "TP53",
          "PTK2",
          "MAPK11",
          "BMS-599626",
          "PRKCA",
          "PKIA",
          "PCNA",
          "EZR",
          "LRIG1",
          "CDK1",
          "PTPRF",
          "USP8",
          "MAPK3",
          "KTN1",
          "STAT3",
          "HBEGF",
          "TRIP13",
          "ADAM17",
          "erlotinib hydrochloride",
          "PRKCD",
          "MAPK1",
          "vandetanib",
          "SPRED1",
          "RARA",
          "CAMK2G",
          "STAM2",
          "CCDC50",
          "LRRK1",
          "PTPRG",
          "GALNT8",
          "PTPRH",
          "PPARG",
          "EPGN",
          "HGS",
          "PTPN9",
          "PTPRS",
          "PTPRK",
          "GPER1",
          "CBLC",
          "KCNJ4",
          "MAPK14",
          "SHC2",
          "PD-153035 hydrochloride",
          "PKM",
          "SQSTM1",
          "SOX2",
          "ASAP3",
          "MUC1",
          "9-(1-Methyl-4-pyrazolyl)-1-[1-(1-oxoprop-2-enyl)-2,3-dihydroindol-6-yl]-2-benzo[h][1,6]naphthyridinone",
          "NCK2",
          "JAK1",
          "ATM",
          "NIBAN2",
          "RNF115",
          "ErbB receptor family",
          "CGRRF1",
          "EPB41",
          "CHKA",
          "LRRFIP1",
          "ESR1",
          "STAT1",
          "cetuximab",
          "PTGER2",
          "ERK1/2",
          "MYC",
          "CALM2",
          "ERBB3",
          "PLD2",
          "RIN1",
          "873837-23-1"
         ],
         "textfont": {
          "size": 7
         },
         "textposition": "top center",
         "x": [
          -0.004048946290408079,
          -0.010138566464068752,
          -0.014598216270740198,
          -0.1722147999226248,
          -0.010695305579042148,
          -0.18463612591413714,
          -0.009579364415061518,
          -0.4563663207598042,
          -0.010405544095556381,
          -0.00518959670049113,
          -0.011685247432064928,
          0.2714419726789587,
          0.13194762653169975,
          -0.010942482037662923,
          0.10570756339266364,
          -0.0085905708650851,
          -0.005348924052806334,
          0.6789072849069733,
          0.6422145687381932,
          -0.00940875677979596,
          -0.020995759270430164,
          -0.013417798091428722,
          0.800923492337344,
          -0.003795835267209724,
          0.001157091523951997,
          7.778357380636263E-4,
          -0.012174916564760066,
          0.508104630258242,
          0.42197505330520174,
          -7.365924908625281E-4,
          0.02509358120436749,
          -0.007606940038846505,
          -0.7449422143391712,
          -0.00970630212487595,
          -0.45645182145834995,
          -0.015342271322390608,
          -0.009162876420149797,
          -0.0106433713314088,
          -0.013393030625590878,
          -0.7989754527683934,
          -0.27648798630081134,
          -0.013892545636789601,
          -0.0035867087093142142,
          -0.010882233026271153,
          0.7227267515795909,
          -0.008223815817232501,
          -9.167032781656398E-4,
          -0.008548328861971329,
          -0.8044779246238529,
          -0.016592952621545445,
          -0.08300853375796356,
          0.002310003346722397,
          -8.719217031381115E-4,
          -0.7460257693515042,
          -0.0018896357315177695,
          -0.01210091906198164,
          0.4470309176654962,
          -0.002315797053447595,
          -9.678552657748284E-4,
          0.42492879984431475,
          -0.014366222279644045,
          -0.003915846498555649,
          0.001241555023901678,
          -0.5941615395499891,
          -0.012526993880146926,
          -0.011010913178249551,
          -0.0030443355334276536,
          -0.025882235572098684,
          0.0010379572994957623,
          -0.015386294756385446,
          -0.0015415685970101183,
          -0.013408864576555225,
          0.0013523375876447691,
          -0.0032018006177882015,
          0.160734919321682,
          -0.010421931466161853,
          -0.26800142691415246,
          -0.020132809737565635,
          -0.013064870686143527,
          -0.8267066139459578,
          0.6942355459746198,
          0.10160804331696707,
          -0.005337307089811499,
          -0.008938278406526588,
          -0.25598265575871265,
          0.0012714293179872855,
          -0.0017856470568846554,
          -0.010830743550256112,
          0.729158854497814,
          -0.23479225782226149,
          0.08760687425870466,
          -0.011190519425618002,
          -0.015182050150041303,
          -0.008889945571683927,
          -0.015803382259696845,
          -0.01447389956917384,
          0.0016827660754479429,
          -0.33531439952899894,
          5.558865821979549E-4,
          -0.0070081968363999644,
          -0.011599442724137588,
          -5.274268289858373E-4,
          5.756671489442064E-4,
          -0.018868368495629048,
          -0.01853880762761236,
          -7.669063770016706E-4,
          -0.010127743911606871,
          -0.014010759753880392,
          0.4745755291525532,
          -0.8589208749787081,
          0.860852182269131,
          -0.007019914092449729,
          -0.018373613161508262,
          -0.010604332220424367,
          -0.5012809892220467,
          -0.008202668962760012,
          0.08074062714572627,
          -0.01230850437400525,
          -0.009256538843200341,
          -0.017573619837544897,
          -0.008624313793459388,
          -0.009991477847821496,
          -0.1446278147335393,
          -0.020383335908377282,
          0.39308388446674264,
          -0.016421619493618436,
          -0.027118503118252965,
          0.2986056105567168,
          -0.011705693304391149,
          -0.6248815255295816,
          -0.851432454734781,
          -0.01673669475230668,
          -0.1346811863487397,
          0.5229867025906463,
          0.8067300437075947,
          -0.6670088216578772,
          -0.013209769473296981,
          -0.18020753709240916,
          0.0014637955606242703,
          0.3607303811116419,
          -0.013056271275904613,
          -0.013730381345486006,
          0.006977528880427595,
          0.3605234849131943,
          -0.016455176930354046,
          -0.009218494551035487,
          -0.012503910082531574,
          -0.7092729355545986,
          0.4216935852176046,
          0.44898148653852243,
          0.8266308264112879,
          -0.005340511999390703,
          -0.01200860572997599
         ],
         "y": [
          0.012333259671157448,
          0.012782384528852511,
          0.013030365827558225,
          1.0,
          0.012862845612131663,
          -0.16810125376847718,
          0.012712474820774908,
          -0.14172688385467597,
          0.012802172432332287,
          0.012520210685495897,
          0.01285258491211779,
          -0.3341297146472925,
          -0.12298981238481324,
          0.012814057791648162,
          -0.3407046071649324,
          0.012732708621839658,
          0.012498986612805196,
          -0.526911642300745,
          0.6202662960631036,
          0.012746231512022276,
          0.011012091314426896,
          0.013041774392242491,
          0.3437281084653464,
          0.01245049415142244,
          0.012239938564653972,
          0.012262714361308286,
          0.012958191941706996,
          -0.6347917983243325,
          -0.32373406230182294,
          0.016819464240799564,
          0.9031419069677796,
          0.012648284305537843,
          0.41692026729325504,
          0.012795888589184665,
          0.48930296918259836,
          0.01320920202941833,
          0.012733432652470279,
          0.012788420620898478,
          0.012966683859652786,
          0.4499627782742367,
          -0.0016314373760925797,
          0.01199952706949936,
          0.01244041987087125,
          0.012757826940696021,
          0.262643970888098,
          0.01268187081244342,
          0.011979047832210583,
          0.012699637464462964,
          -0.6664415811288525,
          0.013619503060099373,
          0.3491797407960298,
          0.011942262714860614,
          0.012323617459362309,
          -0.5853524939925449,
          0.0159574041240502,
          0.012928249146088752,
          -0.5054184405987411,
          0.01163000015019608,
          0.013492821653823298,
          -0.7194288506554286,
          0.013114796151533015,
          0.01249975508192244,
          0.012236812918270803,
          -0.19910645564696883,
          0.012919504257374263,
          0.013535687210624902,
          0.012414875233485978,
          0.22659703573090742,
          0.01411932935014203,
          0.013069668092507546,
          0.012349580425748683,
          0.013042118433373657,
          0.012224228417664707,
          0.012422199467738763,
          0.02963419019400786,
          0.011883348320317315,
          0.26976939678904877,
          0.012981483319663515,
          0.013032929138872775,
          -0.25442043013075577,
          -0.29137075139533913,
          0.05007085251175682,
          0.012527817996135416,
          0.012732910404924604,
          0.958157955298663,
          0.01223127944402624,
          0.01614206981231036,
          0.01287147347587354,
          0.6345672859948295,
          -0.11097467845580569,
          -0.3775264395222279,
          0.013449821491123112,
          0.013059737806666676,
          0.01274760400375033,
          0.015504158760767902,
          0.013023957405790322,
          0.012182974651589183,
          -0.5810870651642696,
          0.01227131412802968,
          0.01263453500352975,
          0.012268778402293965,
          0.01229550920651839,
          0.01227049595960686,
          0.012810671540147355,
          0.013155421779130677,
          0.20381517850783007,
          0.012604937597074458,
          0.013086542102836517,
          0.4570729978325492,
          -0.39289451138432363,
          -0.1829294462735668,
          0.012618021128081804,
          0.013698616924935183,
          0.012857055032320038,
          0.8986892056675824,
          0.012736015611467918,
          0.04030980357201788,
          0.012907496173818528,
          0.0173715799672412,
          0.01410435009995155,
          0.012703806061376905,
          0.012791918010878056,
          -0.13383319560641355,
          0.01289862447591191,
          -0.07288545204127538,
          0.013467488344525163,
          -0.31358522339731704,
          0.2414179656365153,
          0.012143547541630214,
          -0.28428856183273626,
          -0.6612260564983546,
          0.00972426741805261,
          -0.3466339462542172,
          -0.2362771650142229,
          -0.13000613091195776,
          0.9188337928262934,
          0.013028074149187068,
          -0.6172314407342626,
          0.016090637789267722,
          -0.1358586619495931,
          0.012516294361929347,
          0.013065419938409104,
          -0.0954911045215052,
          -0.44441286530503676,
          0.013487503740655127,
          0.012748089011365465,
          0.01299749416566421,
          -0.22319980492838726,
          0.29734446907492934,
          -0.24453374605297967,
          0.11214269370190905,
          0.012685794012491305,
          0.012139377149331233
         ],
         "type": "scatter"
        },
        {
         "hoverinfo": "none",
         "mode": "text",
         "text": [
          "down-regulates quantity by destabilization",
          "up-regulates activity",
          "up-regulates activity",
          "up-regulates",
          "up-regulates",
          "up-regulates",
          "up-regulates activity",
          "down-regulates",
          "up-regulates activity",
          "unknown",
          "up-regulates activity",
          "up-regulates activity",
          "up-regulates",
          "up-regulates",
          "up-regulates activity",
          "up-regulates activity",
          "up-regulates",
          "up-regulates activity",
          "up-regulates activity",
          "up-regulates",
          "up-regulates activity",
          "down-regulates",
          "up-regulates activity",
          "up-regulates",
          "up-regulates",
          "up-regulates",
          "up-regulates activity",
          "down-regulates",
          "up-regulates",
          "up-regulates",
          "down-regulates quantity by destabilization",
          "up-regulates quantity by expression",
          "up-regulates activity",
          "up-regulates",
          "unknown",
          "down-regulates activity",
          "up-regulates",
          "up-regulates",
          "up-regulates",
          "up-regulates",
          "up-regulates",
          "up-regulates activity",
          "up-regulates activity",
          "up-regulates quantity",
          "down-regulates activity",
          "unknown",
          "down-regulates activity",
          "down-regulates activity",
          "down-regulates quantity by destabilization",
          "up-regulates activity",
          "up-regulates activity",
          "up-regulates",
          "down-regulates activity",
          "down-regulates activity",
          "up-regulates activity",
          "up-regulates activity",
          "up-regulates",
          "up-regulates activity",
          "up-regulates activity",
          "up-regulates activity",
          "up-regulates",
          "down-regulates",
          "up-regulates quantity by expression",
          "up-regulates",
          "up-regulates",
          "up-regulates activity",
          "down-regulates",
          "up-regulates",
          "up-regulates activity",
          "up-regulates",
          "down-regulates",
          "down-regulates activity",
          "down-regulates activity",
          "down-regulates activity",
          "up-regulates",
          "down-regulates",
          "down-regulates activity",
          "down-regulates",
          "down-regulates",
          "down-regulates activity",
          "down-regulates",
          "down-regulates",
          "down-regulates",
          "down-regulates activity",
          "up-regulates",
          "up-regulates",
          "up-regulates activity",
          "down-regulates",
          "down-regulates activity",
          "down-regulates",
          "down-regulates activity",
          "up-regulates",
          "down-regulates quantity by repression",
          "down-regulates activity",
          "down-regulates quantity by destabilization",
          "up-regulates quantity by expression",
          "down-regulates",
          "down-regulates activity",
          "up-regulates",
          "down-regulates quantity by destabilization",
          "down-regulates quantity by destabilization",
          "up-regulates activity",
          "down-regulates activity",
          "down-regulates",
          "down-regulates",
          "down-regulates activity",
          "down-regulates activity",
          "down-regulates",
          "down-regulates",
          "up-regulates quantity",
          "up-regulates",
          "up-regulates quantity by stabilization",
          "down-regulates quantity",
          "down-regulates activity",
          "up-regulates activity",
          "down-regulates",
          "down-regulates",
          "down-regulates",
          "down-regulates",
          "down-regulates",
          "down-regulates",
          "up-regulates quantity by expression",
          "down-regulates",
          "down-regulates",
          "down-regulates activity",
          "down-regulates",
          "down-regulates",
          "down-regulates activity",
          "up-regulates quantity by stabilization",
          "down-regulates",
          "up-regulates quantity by expression",
          "up-regulates",
          "up-regulates quantity by stabilization",
          "up-regulates",
          "down-regulates",
          "down-regulates activity",
          "down-regulates activity",
          "down-regulates activity",
          "down-regulates quantity by repression",
          "down-regulates activity",
          "up-regulates activity",
          "down-regulates activity",
          "down-regulates activity",
          "up-regulates",
          "down-regulates activity",
          "down-regulates activity",
          "unknown",
          "up-regulates",
          "down-regulates quantity by destabilization",
          "down-regulates",
          "down-regulates",
          "up-regulates quantity by expression",
          "down-regulates activity",
          "down-regulates quantity by destabilization",
          "down-regulates quantity by destabilization",
          "up-regulates activity",
          "down-regulates quantity by repression",
          "down-regulates activity",
          "up-regulates",
          "down-regulates",
          "up-regulates",
          "down-regulates"
         ],
         "textfont": {
          "size": 7
         },
         "textposition": "middle center",
         "x": [
          -0.0070937563772384155,
          -0.09117668319334678,
          -0.09738734618910294,
          -0.23325244361193648,
          -0.01091190694806684,
          0.13065170310744498,
          0.0609045300338155,
          0.04778449846429744,
          0.33438435922145227,
          0.3160380011370622,
          0.3953924629366376,
          0.24898303189708665,
          0.2059182434205665,
          0.007477507370149368,
          -0.37754039040161996,
          -0.23329519396120935,
          -0.010390968897738776,
          -0.010138566464068752,
          -0.4045570096162311,
          -0.14331327638244004,
          -0.0054375794774656405,
          0.35629409255776107,
          -0.40730824554396083,
          -0.04657355011101616,
          -0.005505244083603432,
          -0.3780821679077865,
          0.21844617560071372,
          0.207395116690123,
          -0.0122523943718564,
          -0.3021500530070289,
          -0.018010401018083717,
          0.07529817642880662,
          -0.005527634871117196,
          -0.1390699966891106,
          -0.41842259020501327,
          0.3420484897552755,
          0.04573473842644916,
          -0.1330606111113907,
          0.35951014401687265,
          -0.12246541214316511,
          0.03873415389731795,
          -0.00887275325145763,
          -0.17272648299653384,
          -0.008573381650234357,
          -0.005452736420535211,
          0.23221848134424222,
          -0.4345297207213884,
          0.4253568079025311,
          -0.2557097778430577,
          0.03530103034082876,
          -0.07738319059880402,
          0.19147265900133695,
          -0.018628534791160858,
          0.14423352204632403,
          -0.3175100459968252,
          -0.4307855105994249,
          -0.07240987640640423,
          0.25642406806328877,
          0.398295738621763,
          -0.338573694060973,
          -0.09517305177823895,
          0.17529590732378658,
          -0.01092212988422995,
          -0.0015805187918205787,
          0.17519245922456278,
          -0.35970575100933366,
          0.20577750937676792,
          0.21942146003722685,
          0.4082461299736096,
          -0.012368391367404474,
          -0.01041693602155545,
          -0.009858965439565135,
          -0.010272055279812568,
          -0.007664081582279941,
          -0.01091190694806684,
          -0.010540524250865838,
          -0.009364568664576925,
          -0.007743745258437543,
          -0.009773661621932356,
          -0.015567162867249459,
          -0.011778182277748737,
          -0.006967200865639238,
          -0.0044907374700583775,
          -0.004680365363002563,
          -0.011156741514414408,
          -0.0054375794774656405,
          -0.00887275325145763,
          -0.00992243429447235,
          -0.012740418893229681,
          -0.009650721442109274,
          -0.010390968897738776,
          -0.011765798544829814,
          -0.012015556050429177,
          -0.006862637586691483,
          -0.010510399745169954,
          -0.009181191140650627,
          -0.005527634871117196,
          -0.00934344766302004,
          -0.0133657595428071,
          -0.0039142815586731775,
          -0.005505244083603432,
          -0.0060141010977932605,
          -0.011119742763025197,
          -0.0062271817587581735,
          -0.00555321086492179,
          -0.0122523943718564,
          -0.0070272064813122,
          -0.004448505720083537,
          -0.011332780172107839,
          -0.01057473982115915,
          -0.006591450998748203,
          -0.004550304582286495,
          -0.0127624306102271,
          -0.005840067530539435,
          -0.011773715520311989,
          -0.004393114438211991,
          -0.006670183540928477,
          -0.010280248965115302,
          -0.015135688100817193,
          -0.01160171857510614,
          -0.007737936776940126,
          -0.00953842243529767,
          -0.0044335685730407335,
          -0.005962106760476704,
          -0.010484655007162433,
          -0.010664542944843376,
          -0.012660308307055028,
          -0.00951425601787634,
          -0.012970974361882798,
          -0.012306233016621296,
          -0.004227900194310404,
          -0.0047913399409353985,
          -0.008573381650234357,
          -0.010869004594103171,
          -0.005332996646527295,
          -0.004781449657562273,
          -0.0145034674798489,
          -0.014338687045840556,
          -0.010133155187837813,
          -0.012074663108974572,
          -0.00857924027825924,
          -0.014256089812788506,
          -0.010371449342246559,
          -0.009170617713414382,
          -0.011223535419037001,
          -0.009697552653634547,
          -0.013856093150806825,
          -0.00938144012876407,
          -0.010065022155945125,
          -0.015260951186223018,
          -0.013280092978843593,
          -0.01092212988422995,
          -0.013437630608187714,
          -0.011674167968682866,
          -0.004337385451722241,
          -0.011597418869986682,
          -0.011934473904777379,
          -0.013296871697211398,
          -0.00967853050755212,
          -0.011321238273300163,
          -0.0077395392317297276,
          -0.011073586097022371
         ],
         "y": [
          -0.0070937563772384155,
          -0.09117668319334678,
          -0.09738734618910294,
          -0.23325244361193648,
          -0.01091190694806684,
          0.13065170310744498,
          0.0609045300338155,
          0.04778449846429744,
          0.33438435922145227,
          0.3160380011370622,
          0.3953924629366376,
          0.24898303189708665,
          0.2059182434205665,
          0.007477507370149368,
          -0.37754039040161996,
          -0.23329519396120935,
          -0.010390968897738776,
          -0.010138566464068752,
          -0.4045570096162311,
          -0.14331327638244004,
          -0.0054375794774656405,
          0.35629409255776107,
          -0.40730824554396083,
          -0.04657355011101616,
          -0.005505244083603432,
          -0.3780821679077865,
          0.21844617560071372,
          0.207395116690123,
          -0.0122523943718564,
          -0.3021500530070289,
          -0.018010401018083717,
          0.07529817642880662,
          -0.005527634871117196,
          -0.1390699966891106,
          -0.41842259020501327,
          0.3420484897552755,
          0.04573473842644916,
          -0.1330606111113907,
          0.35951014401687265,
          -0.12246541214316511,
          0.03873415389731795,
          -0.00887275325145763,
          -0.17272648299653384,
          -0.008573381650234357,
          -0.005452736420535211,
          0.23221848134424222,
          -0.4345297207213884,
          0.4253568079025311,
          -0.2557097778430577,
          0.03530103034082876,
          -0.07738319059880402,
          0.19147265900133695,
          -0.018628534791160858,
          0.14423352204632403,
          -0.3175100459968252,
          -0.4307855105994249,
          -0.07240987640640423,
          0.25642406806328877,
          0.398295738621763,
          -0.338573694060973,
          -0.09517305177823895,
          0.17529590732378658,
          -0.01092212988422995,
          -0.0015805187918205787,
          0.17519245922456278,
          -0.35970575100933366,
          0.20577750937676792,
          0.21942146003722685,
          0.4082461299736096,
          -0.012368391367404474,
          -0.01041693602155545,
          -0.009858965439565135,
          -0.010272055279812568,
          -0.007664081582279941,
          -0.01091190694806684,
          -0.010540524250865838,
          -0.009364568664576925,
          -0.007743745258437543,
          -0.009773661621932356,
          -0.015567162867249459,
          -0.011778182277748737,
          -0.006967200865639238,
          -0.0044907374700583775,
          -0.004680365363002563,
          -0.011156741514414408,
          -0.0054375794774656405,
          -0.00887275325145763,
          -0.00992243429447235,
          -0.012740418893229681,
          -0.009650721442109274,
          -0.010390968897738776,
          -0.011765798544829814,
          -0.012015556050429177,
          -0.006862637586691483,
          -0.010510399745169954,
          -0.009181191140650627,
          -0.005527634871117196,
          -0.00934344766302004,
          -0.0133657595428071,
          -0.0039142815586731775,
          -0.005505244083603432,
          -0.0060141010977932605,
          -0.011119742763025197,
          -0.0062271817587581735,
          -0.00555321086492179,
          -0.0122523943718564,
          -0.0070272064813122,
          -0.004448505720083537,
          -0.011332780172107839,
          -0.01057473982115915,
          -0.006591450998748203,
          -0.004550304582286495,
          -0.0127624306102271,
          -0.005840067530539435,
          -0.011773715520311989,
          -0.004393114438211991,
          -0.006670183540928477,
          -0.010280248965115302,
          -0.015135688100817193,
          -0.01160171857510614,
          -0.007737936776940126,
          -0.00953842243529767,
          -0.0044335685730407335,
          -0.005962106760476704,
          -0.010484655007162433,
          -0.010664542944843376,
          -0.012660308307055028,
          -0.00951425601787634,
          -0.012970974361882798,
          -0.012306233016621296,
          -0.004227900194310404,
          -0.0047913399409353985,
          -0.008573381650234357,
          -0.010869004594103171,
          -0.005332996646527295,
          -0.004781449657562273,
          -0.0145034674798489,
          -0.014338687045840556,
          -0.010133155187837813,
          -0.012074663108974572,
          -0.00857924027825924,
          -0.014256089812788506,
          -0.010371449342246559,
          -0.009170617713414382,
          -0.011223535419037001,
          -0.009697552653634547,
          -0.013856093150806825,
          -0.00938144012876407,
          -0.010065022155945125,
          -0.015260951186223018,
          -0.013280092978843593,
          -0.01092212988422995,
          -0.013437630608187714,
          -0.011674167968682866,
          -0.004337385451722241,
          -0.011597418869986682,
          -0.011934473904777379,
          -0.013296871697211398,
          -0.00967853050755212,
          -0.011321238273300163,
          -0.0077395392317297276,
          -0.011073586097022371
         ],
         "type": "scatter"
        }
       ],
       "layout": {
        "hovermode": "closest",
        "margin": {
         "b": 20,
         "l": 5,
         "r": 5,
         "t": 40
        },
        "showlegend": false,
        "title": {
         "font": {
          "size": 16
         },
         "text": "Knowledge Graph",
         "x": 0.5
        },
        "xaxis": {
         "visible": false
        },
        "yaxis": {
         "visible": false
        },
        "template": {
         "data": {
          "histogram2dcontour": [
           {
            "type": "histogram2dcontour",
            "colorbar": {
             "outlinewidth": 0,
             "ticks": ""
            },
            "colorscale": [
             [
              0.0,
              "#0d0887"
             ],
             [
              0.1111111111111111,
              "#46039f"
             ],
             [
              0.2222222222222222,
              "#7201a8"
             ],
             [
              0.3333333333333333,
              "#9c179e"
             ],
             [
              0.4444444444444444,
              "#bd3786"
             ],
             [
              0.5555555555555556,
              "#d8576b"
             ],
             [
              0.6666666666666666,
              "#ed7953"
             ],
             [
              0.7777777777777778,
              "#fb9f3a"
             ],
             [
              0.8888888888888888,
              "#fdca26"
             ],
             [
              1.0,
              "#f0f921"
             ]
            ]
           }
          ],
          "choropleth": [
           {
            "type": "choropleth",
            "colorbar": {
             "outlinewidth": 0,
             "ticks": ""
            }
           }
          ],
          "histogram2d": [
           {
            "type": "histogram2d",
            "colorbar": {
             "outlinewidth": 0,
             "ticks": ""
            },
            "colorscale": [
             [
              0.0,
              "#0d0887"
             ],
             [
              0.1111111111111111,
              "#46039f"
             ],
             [
              0.2222222222222222,
              "#7201a8"
             ],
             [
              0.3333333333333333,
              "#9c179e"
             ],
             [
              0.4444444444444444,
              "#bd3786"
             ],
             [
              0.5555555555555556,
              "#d8576b"
             ],
             [
              0.6666666666666666,
              "#ed7953"
             ],
             [
              0.7777777777777778,
              "#fb9f3a"
             ],
             [
              0.8888888888888888,
              "#fdca26"
             ],
             [
              1.0,
              "#f0f921"
             ]
            ]
           }
          ],
          "heatmap": [
           {
            "type": "heatmap",
            "colorbar": {
             "outlinewidth": 0,
             "ticks": ""
            },
            "colorscale": [
             [
              0.0,
              "#0d0887"
             ],
             [
              0.1111111111111111,
              "#46039f"
             ],
             [
              0.2222222222222222,
              "#7201a8"
             ],
             [
              0.3333333333333333,
              "#9c179e"
             ],
             [
              0.4444444444444444,
              "#bd3786"
             ],
             [
              0.5555555555555556,
              "#d8576b"
             ],
             [
              0.6666666666666666,
              "#ed7953"
             ],
             [
              0.7777777777777778,
              "#fb9f3a"
             ],
             [
              0.8888888888888888,
              "#fdca26"
             ],
             [
              1.0,
              "#f0f921"
             ]
            ]
           }
          ],
          "heatmapgl": [
           {
            "type": "heatmapgl",
            "colorbar": {
             "outlinewidth": 0,
             "ticks": ""
            },
            "colorscale": [
             [
              0.0,
              "#0d0887"
             ],
             [
              0.1111111111111111,
              "#46039f"
             ],
             [
              0.2222222222222222,
              "#7201a8"
             ],
             [
              0.3333333333333333,
              "#9c179e"
             ],
             [
              0.4444444444444444,
              "#bd3786"
             ],
             [
              0.5555555555555556,
              "#d8576b"
             ],
             [
              0.6666666666666666,
              "#ed7953"
             ],
             [
              0.7777777777777778,
              "#fb9f3a"
             ],
             [
              0.8888888888888888,
              "#fdca26"
             ],
             [
              1.0,
              "#f0f921"
             ]
            ]
           }
          ],
          "contourcarpet": [
           {
            "type": "contourcarpet",
            "colorbar": {
             "outlinewidth": 0,
             "ticks": ""
            }
           }
          ],
          "contour": [
           {
            "type": "contour",
            "colorbar": {
             "outlinewidth": 0,
             "ticks": ""
            },
            "colorscale": [
             [
              0.0,
              "#0d0887"
             ],
             [
              0.1111111111111111,
              "#46039f"
             ],
             [
              0.2222222222222222,
              "#7201a8"
             ],
             [
              0.3333333333333333,
              "#9c179e"
             ],
             [
              0.4444444444444444,
              "#bd3786"
             ],
             [
              0.5555555555555556,
              "#d8576b"
             ],
             [
              0.6666666666666666,
              "#ed7953"
             ],
             [
              0.7777777777777778,
              "#fb9f3a"
             ],
             [
              0.8888888888888888,
              "#fdca26"
             ],
             [
              1.0,
              "#f0f921"
             ]
            ]
           }
          ],
          "surface": [
           {
            "type": "surface",
            "colorbar": {
             "outlinewidth": 0,
             "ticks": ""
            },
            "colorscale": [
             [
              0.0,
              "#0d0887"
             ],
             [
              0.1111111111111111,
              "#46039f"
             ],
             [
              0.2222222222222222,
              "#7201a8"
             ],
             [
              0.3333333333333333,
              "#9c179e"
             ],
             [
              0.4444444444444444,
              "#bd3786"
             ],
             [
              0.5555555555555556,
              "#d8576b"
             ],
             [
              0.6666666666666666,
              "#ed7953"
             ],
             [
              0.7777777777777778,
              "#fb9f3a"
             ],
             [
              0.8888888888888888,
              "#fdca26"
             ],
             [
              1.0,
              "#f0f921"
             ]
            ]
           }
          ],
          "mesh3d": [
           {
            "type": "mesh3d",
            "colorbar": {
             "outlinewidth": 0,
             "ticks": ""
            }
           }
          ],
          "scatter": [
           {
            "fillpattern": {
             "fillmode": "overlay",
             "size": 10,
             "solidity": 0.2
            },
            "type": "scatter"
           }
          ],
          "parcoords": [
           {
            "type": "parcoords",
            "line": {
             "colorbar": {
              "outlinewidth": 0,
              "ticks": ""
             }
            }
           }
          ],
          "scatterpolargl": [
           {
            "type": "scatterpolargl",
            "marker": {
             "colorbar": {
              "outlinewidth": 0,
              "ticks": ""
             }
            }
           }
          ],
          "bar": [
           {
            "error_x": {
             "color": "#2a3f5f"
            },
            "error_y": {
             "color": "#2a3f5f"
            },
            "marker": {
             "line": {
              "color": "#E5ECF6",
              "width": 0.5
             },
             "pattern": {
              "fillmode": "overlay",
              "size": 10,
              "solidity": 0.2
             }
            },
            "type": "bar"
           }
          ],
          "scattergeo": [
           {
            "type": "scattergeo",
            "marker": {
             "colorbar": {
              "outlinewidth": 0,
              "ticks": ""
             }
            }
           }
          ],
          "scatterpolar": [
           {
            "type": "scatterpolar",
            "marker": {
             "colorbar": {
              "outlinewidth": 0,
              "ticks": ""
             }
            }
           }
          ],
          "histogram": [
           {
            "marker": {
             "pattern": {
              "fillmode": "overlay",
              "size": 10,
              "solidity": 0.2
             }
            },
            "type": "histogram"
           }
          ],
          "scattergl": [
           {
            "type": "scattergl",
            "marker": {
             "colorbar": {
              "outlinewidth": 0,
              "ticks": ""
             }
            }
           }
          ],
          "scatter3d": [
           {
            "type": "scatter3d",
            "line": {
             "colorbar": {
              "outlinewidth": 0,
              "ticks": ""
             }
            },
            "marker": {
             "colorbar": {
              "outlinewidth": 0,
              "ticks": ""
             }
            }
           }
          ],
          "scattermapbox": [
           {
            "type": "scattermapbox",
            "marker": {
             "colorbar": {
              "outlinewidth": 0,
              "ticks": ""
             }
            }
           }
          ],
          "scatterternary": [
           {
            "type": "scatterternary",
            "marker": {
             "colorbar": {
              "outlinewidth": 0,
              "ticks": ""
             }
            }
           }
          ],
          "scattercarpet": [
           {
            "type": "scattercarpet",
            "marker": {
             "colorbar": {
              "outlinewidth": 0,
              "ticks": ""
             }
            }
           }
          ],
          "carpet": [
           {
            "aaxis": {
             "endlinecolor": "#2a3f5f",
             "gridcolor": "white",
             "linecolor": "white",
             "minorgridcolor": "white",
             "startlinecolor": "#2a3f5f"
            },
            "baxis": {
             "endlinecolor": "#2a3f5f",
             "gridcolor": "white",
             "linecolor": "white",
             "minorgridcolor": "white",
             "startlinecolor": "#2a3f5f"
            },
            "type": "carpet"
           }
          ],
          "table": [
           {
            "cells": {
             "fill": {
              "color": "#EBF0F8"
             },
             "line": {
              "color": "white"
             }
            },
            "header": {
             "fill": {
              "color": "#C8D4E3"
             },
             "line": {
              "color": "white"
             }
            },
            "type": "table"
           }
          ],
          "barpolar": [
           {
            "marker": {
             "line": {
              "color": "#E5ECF6",
              "width": 0.5
             },
             "pattern": {
              "fillmode": "overlay",
              "size": 10,
              "solidity": 0.2
             }
            },
            "type": "barpolar"
           }
          ],
          "pie": [
           {
            "automargin": true,
            "type": "pie"
           }
          ]
         },
         "layout": {
          "autotypenumbers": "strict",
          "colorway": [
           "#636efa",
           "#EF553B",
           "#00cc96",
           "#ab63fa",
           "#FFA15A",
           "#19d3f3",
           "#FF6692",
           "#B6E880",
           "#FF97FF",
           "#FECB52"
          ],
          "font": {
           "color": "#2a3f5f"
          },
          "hovermode": "closest",
          "hoverlabel": {
           "align": "left"
          },
          "paper_bgcolor": "white",
          "plot_bgcolor": "#E5ECF6",
          "polar": {
           "bgcolor": "#E5ECF6",
           "angularaxis": {
            "gridcolor": "white",
            "linecolor": "white",
            "ticks": ""
           },
           "radialaxis": {
            "gridcolor": "white",
            "linecolor": "white",
            "ticks": ""
           }
          },
          "ternary": {
           "bgcolor": "#E5ECF6",
           "aaxis": {
            "gridcolor": "white",
            "linecolor": "white",
            "ticks": ""
           },
           "baxis": {
            "gridcolor": "white",
            "linecolor": "white",
            "ticks": ""
           },
           "caxis": {
            "gridcolor": "white",
            "linecolor": "white",
            "ticks": ""
           }
          },
          "coloraxis": {
           "colorbar": {
            "outlinewidth": 0,
            "ticks": ""
           }
          },
          "colorscale": {
           "sequential": [
            [
             0.0,
             "#0d0887"
            ],
            [
             0.1111111111111111,
             "#46039f"
            ],
            [
             0.2222222222222222,
             "#7201a8"
            ],
            [
             0.3333333333333333,
             "#9c179e"
            ],
            [
             0.4444444444444444,
             "#bd3786"
            ],
            [
             0.5555555555555556,
             "#d8576b"
            ],
            [
             0.6666666666666666,
             "#ed7953"
            ],
            [
             0.7777777777777778,
             "#fb9f3a"
            ],
            [
             0.8888888888888888,
             "#fdca26"
            ],
            [
             1.0,
             "#f0f921"
            ]
           ],
           "sequentialminus": [
            [
             0.0,
             "#0d0887"
            ],
            [
             0.1111111111111111,
             "#46039f"
            ],
            [
             0.2222222222222222,
             "#7201a8"
            ],
            [
             0.3333333333333333,
             "#9c179e"
            ],
            [
             0.4444444444444444,
             "#bd3786"
            ],
            [
             0.5555555555555556,
             "#d8576b"
            ],
            [
             0.6666666666666666,
             "#ed7953"
            ],
            [
             0.7777777777777778,
             "#fb9f3a"
            ],
            [
             0.8888888888888888,
             "#fdca26"
            ],
            [
             1.0,
             "#f0f921"
            ]
           ],
           "diverging": [
            [
             0,
             "#8e0152"
            ],
            [
             0.1,
             "#c51b7d"
            ],
            [
             0.2,
             "#de77ae"
            ],
            [
             0.3,
             "#f1b6da"
            ],
            [
             0.4,
             "#fde0ef"
            ],
            [
             0.5,
             "#f7f7f7"
            ],
            [
             0.6,
             "#e6f5d0"
            ],
            [
             0.7,
             "#b8e186"
            ],
            [
             0.8,
             "#7fbc41"
            ],
            [
             0.9,
             "#4d9221"
            ],
            [
             1,
             "#276419"
            ]
           ]
          },
          "xaxis": {
           "gridcolor": "white",
           "linecolor": "white",
           "ticks": "",
           "title": {
            "standoff": 15
           },
           "zerolinecolor": "white",
           "automargin": true,
           "zerolinewidth": 2
          },
          "yaxis": {
           "gridcolor": "white",
           "linecolor": "white",
           "ticks": "",
           "title": {
            "standoff": 15
           },
           "zerolinecolor": "white",
           "automargin": true,
           "zerolinewidth": 2
          },
          "scene": {
           "xaxis": {
            "backgroundcolor": "#E5ECF6",
            "gridcolor": "white",
            "linecolor": "white",
            "showbackground": true,
            "ticks": "",
            "zerolinecolor": "white",
            "gridwidth": 2
           },
           "yaxis": {
            "backgroundcolor": "#E5ECF6",
            "gridcolor": "white",
            "linecolor": "white",
            "showbackground": true,
            "ticks": "",
            "zerolinecolor": "white",
            "gridwidth": 2
           },
           "zaxis": {
            "backgroundcolor": "#E5ECF6",
            "gridcolor": "white",
            "linecolor": "white",
            "showbackground": true,
            "ticks": "",
            "zerolinecolor": "white",
            "gridwidth": 2
           }
          },
          "shapedefaults": {
           "line": {
            "color": "#2a3f5f"
           }
          },
          "annotationdefaults": {
           "arrowcolor": "#2a3f5f",
           "arrowhead": 0,
           "arrowwidth": 1
          },
          "geo": {
           "bgcolor": "white",
           "landcolor": "#E5ECF6",
           "subunitcolor": "white",
           "showland": true,
           "showlakes": true,
           "lakecolor": "white"
          },
          "title": {
           "x": 0.05
          },
          "mapbox": {
           "style": "light"
          }
         }
        }
       },
       "config": {
        "plotlyServerURL": "https://plot.ly"
       }
      },
      "text/html": [
       "<div>                            <div id=\"a940ceda-2835-4b2f-a5ea-cbe58fefb80f\" class=\"plotly-graph-div\" style=\"height:525px; width:100%;\"></div>            <script type=\"text/javascript\">                require([\"plotly\"], function(Plotly) {                    window.PLOTLYENV=window.PLOTLYENV || {};                                    if (document.getElementById(\"a940ceda-2835-4b2f-a5ea-cbe58fefb80f\")) {                    Plotly.newPlot(                        \"a940ceda-2835-4b2f-a5ea-cbe58fefb80f\",                        [{\"hoverinfo\":\"none\",\"line\":{\"color\":\"gray\",\"width\":0.5},\"mode\":\"lines\",\"x\":[-0.004048946290408079,-0.010138566464068752,null],\"y\":[0.012333259671157448,0.012782384528852511,null],\"type\":\"scatter\"},{\"hoverinfo\":\"none\",\"line\":{\"color\":\"gray\",\"width\":0.5},\"mode\":\"lines\",\"x\":[-0.010138566464068752,-0.1722147999226248,null],\"y\":[0.012782384528852511,1.0,null],\"type\":\"scatter\"},{\"hoverinfo\":\"none\",\"line\":{\"color\":\"gray\",\"width\":0.5},\"mode\":\"lines\",\"x\":[-0.010138566464068752,-0.18463612591413714,null],\"y\":[0.012782384528852511,-0.16810125376847718,null],\"type\":\"scatter\"},{\"hoverinfo\":\"none\",\"line\":{\"color\":\"gray\",\"width\":0.5},\"mode\":\"lines\",\"x\":[-0.010138566464068752,-0.4563663207598042,null],\"y\":[0.012782384528852511,-0.14172688385467597,null],\"type\":\"scatter\"},{\"hoverinfo\":\"none\",\"line\":{\"color\":\"gray\",\"width\":0.5},\"mode\":\"lines\",\"x\":[-0.010138566464068752,-0.011685247432064928,null],\"y\":[0.012782384528852511,0.01285258491211779,null],\"type\":\"scatter\"},{\"hoverinfo\":\"none\",\"line\":{\"color\":\"gray\",\"width\":0.5},\"mode\":\"lines\",\"x\":[-0.010138566464068752,0.2714419726789587,null],\"y\":[0.012782384528852511,-0.3341297146472925,null],\"type\":\"scatter\"},{\"hoverinfo\":\"none\",\"line\":{\"color\":\"gray\",\"width\":0.5},\"mode\":\"lines\",\"x\":[-0.010138566464068752,0.13194762653169975,null],\"y\":[0.012782384528852511,-0.12298981238481324,null],\"type\":\"scatter\"},{\"hoverinfo\":\"none\",\"line\":{\"color\":\"gray\",\"width\":0.5},\"mode\":\"lines\",\"x\":[-0.010138566464068752,0.10570756339266364,null],\"y\":[0.012782384528852511,-0.3407046071649324,null],\"type\":\"scatter\"},{\"hoverinfo\":\"none\",\"line\":{\"color\":\"gray\",\"width\":0.5},\"mode\":\"lines\",\"x\":[-0.010138566464068752,0.6789072849069733,null],\"y\":[0.012782384528852511,-0.526911642300745,null],\"type\":\"scatter\"},{\"hoverinfo\":\"none\",\"line\":{\"color\":\"gray\",\"width\":0.5},\"mode\":\"lines\",\"x\":[-0.010138566464068752,0.6422145687381932,null],\"y\":[0.012782384528852511,0.6202662960631036,null],\"type\":\"scatter\"},{\"hoverinfo\":\"none\",\"line\":{\"color\":\"gray\",\"width\":0.5},\"mode\":\"lines\",\"x\":[-0.010138566464068752,0.800923492337344,null],\"y\":[0.012782384528852511,0.3437281084653464,null],\"type\":\"scatter\"},{\"hoverinfo\":\"none\",\"line\":{\"color\":\"gray\",\"width\":0.5},\"mode\":\"lines\",\"x\":[-0.010138566464068752,0.508104630258242,null],\"y\":[0.012782384528852511,-0.6347917983243325,null],\"type\":\"scatter\"},{\"hoverinfo\":\"none\",\"line\":{\"color\":\"gray\",\"width\":0.5},\"mode\":\"lines\",\"x\":[-0.010138566464068752,0.42197505330520174,null],\"y\":[0.012782384528852511,-0.32373406230182294,null],\"type\":\"scatter\"},{\"hoverinfo\":\"none\",\"line\":{\"color\":\"gray\",\"width\":0.5},\"mode\":\"lines\",\"x\":[-0.010138566464068752,0.02509358120436749,null],\"y\":[0.012782384528852511,0.9031419069677796,null],\"type\":\"scatter\"},{\"hoverinfo\":\"none\",\"line\":{\"color\":\"gray\",\"width\":0.5},\"mode\":\"lines\",\"x\":[-0.010138566464068752,-0.7449422143391712,null],\"y\":[0.012782384528852511,0.41692026729325504,null],\"type\":\"scatter\"},{\"hoverinfo\":\"none\",\"line\":{\"color\":\"gray\",\"width\":0.5},\"mode\":\"lines\",\"x\":[-0.010138566464068752,-0.45645182145834995,null],\"y\":[0.012782384528852511,0.48930296918259836,null],\"type\":\"scatter\"},{\"hoverinfo\":\"none\",\"line\":{\"color\":\"gray\",\"width\":0.5},\"mode\":\"lines\",\"x\":[-0.010138566464068752,-0.0106433713314088,null],\"y\":[0.012782384528852511,0.012788420620898478,null],\"type\":\"scatter\"},{\"hoverinfo\":\"none\",\"line\":{\"color\":\"gray\",\"width\":0.5},\"mode\":\"lines\",\"x\":[-0.010138566464068752,-0.010138566464068752,null],\"y\":[0.012782384528852511,0.012782384528852511,null],\"type\":\"scatter\"},{\"hoverinfo\":\"none\",\"line\":{\"color\":\"gray\",\"width\":0.5},\"mode\":\"lines\",\"x\":[-0.010138566464068752,-0.7989754527683934,null],\"y\":[0.012782384528852511,0.4499627782742367,null],\"type\":\"scatter\"},{\"hoverinfo\":\"none\",\"line\":{\"color\":\"gray\",\"width\":0.5},\"mode\":\"lines\",\"x\":[-0.010138566464068752,-0.27648798630081134,null],\"y\":[0.012782384528852511,-0.0016314373760925797,null],\"type\":\"scatter\"},{\"hoverinfo\":\"none\",\"line\":{\"color\":\"gray\",\"width\":0.5},\"mode\":\"lines\",\"x\":[-0.010138566464068752,-0.0007365924908625281,null],\"y\":[0.012782384528852511,0.016819464240799564,null],\"type\":\"scatter\"},{\"hoverinfo\":\"none\",\"line\":{\"color\":\"gray\",\"width\":0.5},\"mode\":\"lines\",\"x\":[-0.010138566464068752,0.7227267515795909,null],\"y\":[0.012782384528852511,0.262643970888098,null],\"type\":\"scatter\"},{\"hoverinfo\":\"none\",\"line\":{\"color\":\"gray\",\"width\":0.5},\"mode\":\"lines\",\"x\":[-0.010138566464068752,-0.8044779246238529,null],\"y\":[0.012782384528852511,-0.6664415811288525,null],\"type\":\"scatter\"},{\"hoverinfo\":\"none\",\"line\":{\"color\":\"gray\",\"width\":0.5},\"mode\":\"lines\",\"x\":[-0.010138566464068752,-0.08300853375796356,null],\"y\":[0.012782384528852511,0.3491797407960298,null],\"type\":\"scatter\"},{\"hoverinfo\":\"none\",\"line\":{\"color\":\"gray\",\"width\":0.5},\"mode\":\"lines\",\"x\":[-0.010138566464068752,-0.0008719217031381115,null],\"y\":[0.012782384528852511,0.012323617459362309,null],\"type\":\"scatter\"},{\"hoverinfo\":\"none\",\"line\":{\"color\":\"gray\",\"width\":0.5},\"mode\":\"lines\",\"x\":[-0.010138566464068752,-0.7460257693515042,null],\"y\":[0.012782384528852511,-0.5853524939925449,null],\"type\":\"scatter\"},{\"hoverinfo\":\"none\",\"line\":{\"color\":\"gray\",\"width\":0.5},\"mode\":\"lines\",\"x\":[-0.010138566464068752,0.4470309176654962,null],\"y\":[0.012782384528852511,-0.5054184405987411,null],\"type\":\"scatter\"},{\"hoverinfo\":\"none\",\"line\":{\"color\":\"gray\",\"width\":0.5},\"mode\":\"lines\",\"x\":[-0.010138566464068752,0.42492879984431475,null],\"y\":[0.012782384528852511,-0.7194288506554286,null],\"type\":\"scatter\"},{\"hoverinfo\":\"none\",\"line\":{\"color\":\"gray\",\"width\":0.5},\"mode\":\"lines\",\"x\":[-0.010138566464068752,-0.014366222279644045,null],\"y\":[0.012782384528852511,0.013114796151533015,null],\"type\":\"scatter\"},{\"hoverinfo\":\"none\",\"line\":{\"color\":\"gray\",\"width\":0.5},\"mode\":\"lines\",\"x\":[-0.010138566464068752,-0.5941615395499891,null],\"y\":[0.012782384528852511,-0.19910645564696883,null],\"type\":\"scatter\"},{\"hoverinfo\":\"none\",\"line\":{\"color\":\"gray\",\"width\":0.5},\"mode\":\"lines\",\"x\":[-0.010138566464068752,-0.025882235572098684,null],\"y\":[0.012782384528852511,0.22659703573090742,null],\"type\":\"scatter\"},{\"hoverinfo\":\"none\",\"line\":{\"color\":\"gray\",\"width\":0.5},\"mode\":\"lines\",\"x\":[-0.010138566464068752,0.160734919321682,null],\"y\":[0.012782384528852511,0.02963419019400786,null],\"type\":\"scatter\"},{\"hoverinfo\":\"none\",\"line\":{\"color\":\"gray\",\"width\":0.5},\"mode\":\"lines\",\"x\":[-0.010138566464068752,-0.0009167032781656398,null],\"y\":[0.012782384528852511,0.011979047832210583,null],\"type\":\"scatter\"},{\"hoverinfo\":\"none\",\"line\":{\"color\":\"gray\",\"width\":0.5},\"mode\":\"lines\",\"x\":[-0.010138566464068752,-0.26800142691415246,null],\"y\":[0.012782384528852511,0.26976939678904877,null],\"type\":\"scatter\"},{\"hoverinfo\":\"none\",\"line\":{\"color\":\"gray\",\"width\":0.5},\"mode\":\"lines\",\"x\":[-0.010138566464068752,-0.8267066139459578,null],\"y\":[0.012782384528852511,-0.25442043013075577,null],\"type\":\"scatter\"},{\"hoverinfo\":\"none\",\"line\":{\"color\":\"gray\",\"width\":0.5},\"mode\":\"lines\",\"x\":[-0.010138566464068752,0.6942355459746198,null],\"y\":[0.012782384528852511,-0.29137075139533913,null],\"type\":\"scatter\"},{\"hoverinfo\":\"none\",\"line\":{\"color\":\"gray\",\"width\":0.5},\"mode\":\"lines\",\"x\":[-0.010138566464068752,0.10160804331696707,null],\"y\":[0.012782384528852511,0.05007085251175682,null],\"type\":\"scatter\"},{\"hoverinfo\":\"none\",\"line\":{\"color\":\"gray\",\"width\":0.5},\"mode\":\"lines\",\"x\":[-0.010138566464068752,-0.25598265575871265,null],\"y\":[0.012782384528852511,0.958157955298663,null],\"type\":\"scatter\"},{\"hoverinfo\":\"none\",\"line\":{\"color\":\"gray\",\"width\":0.5},\"mode\":\"lines\",\"x\":[-0.010138566464068752,0.729158854497814,null],\"y\":[0.012782384528852511,0.6345672859948295,null],\"type\":\"scatter\"},{\"hoverinfo\":\"none\",\"line\":{\"color\":\"gray\",\"width\":0.5},\"mode\":\"lines\",\"x\":[-0.010138566464068752,-0.23479225782226149,null],\"y\":[0.012782384528852511,-0.11097467845580569,null],\"type\":\"scatter\"},{\"hoverinfo\":\"none\",\"line\":{\"color\":\"gray\",\"width\":0.5},\"mode\":\"lines\",\"x\":[-0.010138566464068752,0.08760687425870466,null],\"y\":[0.012782384528852511,-0.3775264395222279,null],\"type\":\"scatter\"},{\"hoverinfo\":\"none\",\"line\":{\"color\":\"gray\",\"width\":0.5},\"mode\":\"lines\",\"x\":[-0.010138566464068752,-0.007606940038846505,null],\"y\":[0.012782384528852511,0.012648284305537843,null],\"type\":\"scatter\"},{\"hoverinfo\":\"none\",\"line\":{\"color\":\"gray\",\"width\":0.5},\"mode\":\"lines\",\"x\":[-0.010138566464068752,-0.33531439952899894,null],\"y\":[0.012782384528852511,-0.5810870651642696,null],\"type\":\"scatter\"},{\"hoverinfo\":\"none\",\"line\":{\"color\":\"gray\",\"width\":0.5},\"mode\":\"lines\",\"x\":[-0.010138566464068752,-0.0070081968363999644,null],\"y\":[0.012782384528852511,0.01263453500352975,null],\"type\":\"scatter\"},{\"hoverinfo\":\"none\",\"line\":{\"color\":\"gray\",\"width\":0.5},\"mode\":\"lines\",\"x\":[-0.010138566464068752,-0.0007669063770016706,null],\"y\":[0.012782384528852511,0.20381517850783007,null],\"type\":\"scatter\"},{\"hoverinfo\":\"none\",\"line\":{\"color\":\"gray\",\"width\":0.5},\"mode\":\"lines\",\"x\":[-0.010138566464068752,0.4745755291525532,null],\"y\":[0.012782384528852511,0.4570729978325492,null],\"type\":\"scatter\"},{\"hoverinfo\":\"none\",\"line\":{\"color\":\"gray\",\"width\":0.5},\"mode\":\"lines\",\"x\":[-0.010138566464068752,-0.8589208749787081,null],\"y\":[0.012782384528852511,-0.39289451138432363,null],\"type\":\"scatter\"},{\"hoverinfo\":\"none\",\"line\":{\"color\":\"gray\",\"width\":0.5},\"mode\":\"lines\",\"x\":[-0.010138566464068752,0.860852182269131,null],\"y\":[0.012782384528852511,-0.1829294462735668,null],\"type\":\"scatter\"},{\"hoverinfo\":\"none\",\"line\":{\"color\":\"gray\",\"width\":0.5},\"mode\":\"lines\",\"x\":[-0.010138566464068752,-0.5012809892220467,null],\"y\":[0.012782384528852511,0.8986892056675824,null],\"type\":\"scatter\"},{\"hoverinfo\":\"none\",\"line\":{\"color\":\"gray\",\"width\":0.5},\"mode\":\"lines\",\"x\":[-0.010138566464068752,0.08074062714572627,null],\"y\":[0.012782384528852511,0.04030980357201788,null],\"type\":\"scatter\"},{\"hoverinfo\":\"none\",\"line\":{\"color\":\"gray\",\"width\":0.5},\"mode\":\"lines\",\"x\":[-0.010138566464068752,-0.1446278147335393,null],\"y\":[0.012782384528852511,-0.13383319560641355,null],\"type\":\"scatter\"},{\"hoverinfo\":\"none\",\"line\":{\"color\":\"gray\",\"width\":0.5},\"mode\":\"lines\",\"x\":[-0.010138566464068752,0.39308388446674264,null],\"y\":[0.012782384528852511,-0.07288545204127538,null],\"type\":\"scatter\"},{\"hoverinfo\":\"none\",\"line\":{\"color\":\"gray\",\"width\":0.5},\"mode\":\"lines\",\"x\":[-0.010138566464068752,-0.027118503118252965,null],\"y\":[0.012782384528852511,-0.31358522339731704,null],\"type\":\"scatter\"},{\"hoverinfo\":\"none\",\"line\":{\"color\":\"gray\",\"width\":0.5},\"mode\":\"lines\",\"x\":[-0.010138566464068752,0.2986056105567168,null],\"y\":[0.012782384528852511,0.2414179656365153,null],\"type\":\"scatter\"},{\"hoverinfo\":\"none\",\"line\":{\"color\":\"gray\",\"width\":0.5},\"mode\":\"lines\",\"x\":[-0.010138566464068752,-0.6248815255295816,null],\"y\":[0.012782384528852511,-0.28428856183273626,null],\"type\":\"scatter\"},{\"hoverinfo\":\"none\",\"line\":{\"color\":\"gray\",\"width\":0.5},\"mode\":\"lines\",\"x\":[-0.010138566464068752,-0.851432454734781,null],\"y\":[0.012782384528852511,-0.6612260564983546,null],\"type\":\"scatter\"},{\"hoverinfo\":\"none\",\"line\":{\"color\":\"gray\",\"width\":0.5},\"mode\":\"lines\",\"x\":[-0.010138566464068752,-0.1346811863487397,null],\"y\":[0.012782384528852511,-0.3466339462542172,null],\"type\":\"scatter\"},{\"hoverinfo\":\"none\",\"line\":{\"color\":\"gray\",\"width\":0.5},\"mode\":\"lines\",\"x\":[-0.010138566464068752,0.5229867025906463,null],\"y\":[0.012782384528852511,-0.2362771650142229,null],\"type\":\"scatter\"},{\"hoverinfo\":\"none\",\"line\":{\"color\":\"gray\",\"width\":0.5},\"mode\":\"lines\",\"x\":[-0.010138566464068752,0.8067300437075947,null],\"y\":[0.012782384528852511,-0.13000613091195776,null],\"type\":\"scatter\"},{\"hoverinfo\":\"none\",\"line\":{\"color\":\"gray\",\"width\":0.5},\"mode\":\"lines\",\"x\":[-0.010138566464068752,-0.6670088216578772,null],\"y\":[0.012782384528852511,0.9188337928262934,null],\"type\":\"scatter\"},{\"hoverinfo\":\"none\",\"line\":{\"color\":\"gray\",\"width\":0.5},\"mode\":\"lines\",\"x\":[-0.010138566464068752,-0.18020753709240916,null],\"y\":[0.012782384528852511,-0.6172314407342626,null],\"type\":\"scatter\"},{\"hoverinfo\":\"none\",\"line\":{\"color\":\"gray\",\"width\":0.5},\"mode\":\"lines\",\"x\":[-0.010138566464068752,0.3607303811116419,null],\"y\":[0.012782384528852511,-0.1358586619495931,null],\"type\":\"scatter\"},{\"hoverinfo\":\"none\",\"line\":{\"color\":\"gray\",\"width\":0.5},\"mode\":\"lines\",\"x\":[-0.010138566464068752,-0.011705693304391149,null],\"y\":[0.012782384528852511,0.012143547541630214,null],\"type\":\"scatter\"},{\"hoverinfo\":\"none\",\"line\":{\"color\":\"gray\",\"width\":0.5},\"mode\":\"lines\",\"x\":[-0.010138566464068752,0.006977528880427595,null],\"y\":[0.012782384528852511,-0.0954911045215052,null],\"type\":\"scatter\"},{\"hoverinfo\":\"none\",\"line\":{\"color\":\"gray\",\"width\":0.5},\"mode\":\"lines\",\"x\":[-0.010138566464068752,0.3605234849131943,null],\"y\":[0.012782384528852511,-0.44441286530503676,null],\"type\":\"scatter\"},{\"hoverinfo\":\"none\",\"line\":{\"color\":\"gray\",\"width\":0.5},\"mode\":\"lines\",\"x\":[-0.010138566464068752,-0.7092729355545986,null],\"y\":[0.012782384528852511,-0.22319980492838726,null],\"type\":\"scatter\"},{\"hoverinfo\":\"none\",\"line\":{\"color\":\"gray\",\"width\":0.5},\"mode\":\"lines\",\"x\":[-0.010138566464068752,0.4216935852176046,null],\"y\":[0.012782384528852511,0.29734446907492934,null],\"type\":\"scatter\"},{\"hoverinfo\":\"none\",\"line\":{\"color\":\"gray\",\"width\":0.5},\"mode\":\"lines\",\"x\":[-0.010138566464068752,0.44898148653852243,null],\"y\":[0.012782384528852511,-0.24453374605297967,null],\"type\":\"scatter\"},{\"hoverinfo\":\"none\",\"line\":{\"color\":\"gray\",\"width\":0.5},\"mode\":\"lines\",\"x\":[-0.010138566464068752,0.8266308264112879,null],\"y\":[0.012782384528852511,0.11214269370190905,null],\"type\":\"scatter\"},{\"hoverinfo\":\"none\",\"line\":{\"color\":\"gray\",\"width\":0.5},\"mode\":\"lines\",\"x\":[-0.014598216270740198,-0.010138566464068752,null],\"y\":[0.013030365827558225,0.012782384528852511,null],\"type\":\"scatter\"},{\"hoverinfo\":\"none\",\"line\":{\"color\":\"gray\",\"width\":0.5},\"mode\":\"lines\",\"x\":[-0.010695305579042148,-0.010138566464068752,null],\"y\":[0.012862845612131663,0.012782384528852511,null],\"type\":\"scatter\"},{\"hoverinfo\":\"none\",\"line\":{\"color\":\"gray\",\"width\":0.5},\"mode\":\"lines\",\"x\":[-0.009579364415061518,-0.010138566464068752,null],\"y\":[0.012712474820774908,0.012782384528852511,null],\"type\":\"scatter\"},{\"hoverinfo\":\"none\",\"line\":{\"color\":\"gray\",\"width\":0.5},\"mode\":\"lines\",\"x\":[-0.010405544095556381,-0.010138566464068752,null],\"y\":[0.012802172432332287,0.012782384528852511,null],\"type\":\"scatter\"},{\"hoverinfo\":\"none\",\"line\":{\"color\":\"gray\",\"width\":0.5},\"mode\":\"lines\",\"x\":[-0.00518959670049113,-0.010138566464068752,null],\"y\":[0.012520210685495897,0.012782384528852511,null],\"type\":\"scatter\"},{\"hoverinfo\":\"none\",\"line\":{\"color\":\"gray\",\"width\":0.5},\"mode\":\"lines\",\"x\":[-0.011685247432064928,-0.010138566464068752,null],\"y\":[0.01285258491211779,0.012782384528852511,null],\"type\":\"scatter\"},{\"hoverinfo\":\"none\",\"line\":{\"color\":\"gray\",\"width\":0.5},\"mode\":\"lines\",\"x\":[-0.010942482037662923,-0.010138566464068752,null],\"y\":[0.012814057791648162,0.012782384528852511,null],\"type\":\"scatter\"},{\"hoverinfo\":\"none\",\"line\":{\"color\":\"gray\",\"width\":0.5},\"mode\":\"lines\",\"x\":[-0.0085905708650851,-0.010138566464068752,null],\"y\":[0.012732708621839658,0.012782384528852511,null],\"type\":\"scatter\"},{\"hoverinfo\":\"none\",\"line\":{\"color\":\"gray\",\"width\":0.5},\"mode\":\"lines\",\"x\":[-0.005348924052806334,-0.010138566464068752,null],\"y\":[0.012498986612805196,0.012782384528852511,null],\"type\":\"scatter\"},{\"hoverinfo\":\"none\",\"line\":{\"color\":\"gray\",\"width\":0.5},\"mode\":\"lines\",\"x\":[-0.00940875677979596,-0.010138566464068752,null],\"y\":[0.012746231512022276,0.012782384528852511,null],\"type\":\"scatter\"},{\"hoverinfo\":\"none\",\"line\":{\"color\":\"gray\",\"width\":0.5},\"mode\":\"lines\",\"x\":[-0.020995759270430164,-0.010138566464068752,null],\"y\":[0.011012091314426896,0.012782384528852511,null],\"type\":\"scatter\"},{\"hoverinfo\":\"none\",\"line\":{\"color\":\"gray\",\"width\":0.5},\"mode\":\"lines\",\"x\":[-0.013417798091428722,-0.010138566464068752,null],\"y\":[0.013041774392242491,0.012782384528852511,null],\"type\":\"scatter\"},{\"hoverinfo\":\"none\",\"line\":{\"color\":\"gray\",\"width\":0.5},\"mode\":\"lines\",\"x\":[-0.003795835267209724,-0.010138566464068752,null],\"y\":[0.01245049415142244,0.012782384528852511,null],\"type\":\"scatter\"},{\"hoverinfo\":\"none\",\"line\":{\"color\":\"gray\",\"width\":0.5},\"mode\":\"lines\",\"x\":[0.001157091523951997,-0.010138566464068752,null],\"y\":[0.012239938564653972,0.012782384528852511,null],\"type\":\"scatter\"},{\"hoverinfo\":\"none\",\"line\":{\"color\":\"gray\",\"width\":0.5},\"mode\":\"lines\",\"x\":[0.0007778357380636263,-0.010138566464068752,null],\"y\":[0.012262714361308286,0.012782384528852511,null],\"type\":\"scatter\"},{\"hoverinfo\":\"none\",\"line\":{\"color\":\"gray\",\"width\":0.5},\"mode\":\"lines\",\"x\":[-0.012174916564760066,-0.010138566464068752,null],\"y\":[0.012958191941706996,0.012782384528852511,null],\"type\":\"scatter\"},{\"hoverinfo\":\"none\",\"line\":{\"color\":\"gray\",\"width\":0.5},\"mode\":\"lines\",\"x\":[-0.0007365924908625281,-0.010138566464068752,null],\"y\":[0.016819464240799564,0.012782384528852511,null],\"type\":\"scatter\"},{\"hoverinfo\":\"none\",\"line\":{\"color\":\"gray\",\"width\":0.5},\"mode\":\"lines\",\"x\":[-0.007606940038846505,-0.010138566464068752,null],\"y\":[0.012648284305537843,0.012782384528852511,null],\"type\":\"scatter\"},{\"hoverinfo\":\"none\",\"line\":{\"color\":\"gray\",\"width\":0.5},\"mode\":\"lines\",\"x\":[-0.00970630212487595,-0.010138566464068752,null],\"y\":[0.012795888589184665,0.012782384528852511,null],\"type\":\"scatter\"},{\"hoverinfo\":\"none\",\"line\":{\"color\":\"gray\",\"width\":0.5},\"mode\":\"lines\",\"x\":[-0.015342271322390608,-0.010138566464068752,null],\"y\":[0.01320920202941833,0.012782384528852511,null],\"type\":\"scatter\"},{\"hoverinfo\":\"none\",\"line\":{\"color\":\"gray\",\"width\":0.5},\"mode\":\"lines\",\"x\":[-0.009162876420149797,-0.010138566464068752,null],\"y\":[0.012733432652470279,0.012782384528852511,null],\"type\":\"scatter\"},{\"hoverinfo\":\"none\",\"line\":{\"color\":\"gray\",\"width\":0.5},\"mode\":\"lines\",\"x\":[-0.0106433713314088,-0.010138566464068752,null],\"y\":[0.012788420620898478,0.012782384528852511,null],\"type\":\"scatter\"},{\"hoverinfo\":\"none\",\"line\":{\"color\":\"gray\",\"width\":0.5},\"mode\":\"lines\",\"x\":[-0.013393030625590878,-0.010138566464068752,null],\"y\":[0.012966683859652786,0.012782384528852511,null],\"type\":\"scatter\"},{\"hoverinfo\":\"none\",\"line\":{\"color\":\"gray\",\"width\":0.5},\"mode\":\"lines\",\"x\":[-0.013892545636789601,-0.010138566464068752,null],\"y\":[0.01199952706949936,0.012782384528852511,null],\"type\":\"scatter\"},{\"hoverinfo\":\"none\",\"line\":{\"color\":\"gray\",\"width\":0.5},\"mode\":\"lines\",\"x\":[-0.0035867087093142142,-0.010138566464068752,null],\"y\":[0.01244041987087125,0.012782384528852511,null],\"type\":\"scatter\"},{\"hoverinfo\":\"none\",\"line\":{\"color\":\"gray\",\"width\":0.5},\"mode\":\"lines\",\"x\":[-0.010882233026271153,-0.010138566464068752,null],\"y\":[0.012757826940696021,0.012782384528852511,null],\"type\":\"scatter\"},{\"hoverinfo\":\"none\",\"line\":{\"color\":\"gray\",\"width\":0.5},\"mode\":\"lines\",\"x\":[-0.008223815817232501,-0.010138566464068752,null],\"y\":[0.01268187081244342,0.012782384528852511,null],\"type\":\"scatter\"},{\"hoverinfo\":\"none\",\"line\":{\"color\":\"gray\",\"width\":0.5},\"mode\":\"lines\",\"x\":[-0.0009167032781656398,-0.010138566464068752,null],\"y\":[0.011979047832210583,0.012782384528852511,null],\"type\":\"scatter\"},{\"hoverinfo\":\"none\",\"line\":{\"color\":\"gray\",\"width\":0.5},\"mode\":\"lines\",\"x\":[-0.008548328861971329,-0.010138566464068752,null],\"y\":[0.012699637464462964,0.012782384528852511,null],\"type\":\"scatter\"},{\"hoverinfo\":\"none\",\"line\":{\"color\":\"gray\",\"width\":0.5},\"mode\":\"lines\",\"x\":[-0.016592952621545445,-0.010138566464068752,null],\"y\":[0.013619503060099373,0.012782384528852511,null],\"type\":\"scatter\"},{\"hoverinfo\":\"none\",\"line\":{\"color\":\"gray\",\"width\":0.5},\"mode\":\"lines\",\"x\":[0.002310003346722397,-0.010138566464068752,null],\"y\":[0.011942262714860614,0.012782384528852511,null],\"type\":\"scatter\"},{\"hoverinfo\":\"none\",\"line\":{\"color\":\"gray\",\"width\":0.5},\"mode\":\"lines\",\"x\":[-0.0008719217031381115,-0.010138566464068752,null],\"y\":[0.012323617459362309,0.012782384528852511,null],\"type\":\"scatter\"},{\"hoverinfo\":\"none\",\"line\":{\"color\":\"gray\",\"width\":0.5},\"mode\":\"lines\",\"x\":[-0.0018896357315177695,-0.010138566464068752,null],\"y\":[0.0159574041240502,0.012782384528852511,null],\"type\":\"scatter\"},{\"hoverinfo\":\"none\",\"line\":{\"color\":\"gray\",\"width\":0.5},\"mode\":\"lines\",\"x\":[-0.01210091906198164,-0.010138566464068752,null],\"y\":[0.012928249146088752,0.012782384528852511,null],\"type\":\"scatter\"},{\"hoverinfo\":\"none\",\"line\":{\"color\":\"gray\",\"width\":0.5},\"mode\":\"lines\",\"x\":[-0.002315797053447595,-0.010138566464068752,null],\"y\":[0.01163000015019608,0.012782384528852511,null],\"type\":\"scatter\"},{\"hoverinfo\":\"none\",\"line\":{\"color\":\"gray\",\"width\":0.5},\"mode\":\"lines\",\"x\":[-0.0009678552657748284,-0.010138566464068752,null],\"y\":[0.013492821653823298,0.012782384528852511,null],\"type\":\"scatter\"},{\"hoverinfo\":\"none\",\"line\":{\"color\":\"gray\",\"width\":0.5},\"mode\":\"lines\",\"x\":[-0.014366222279644045,-0.010138566464068752,null],\"y\":[0.013114796151533015,0.012782384528852511,null],\"type\":\"scatter\"},{\"hoverinfo\":\"none\",\"line\":{\"color\":\"gray\",\"width\":0.5},\"mode\":\"lines\",\"x\":[-0.003915846498555649,-0.010138566464068752,null],\"y\":[0.01249975508192244,0.012782384528852511,null],\"type\":\"scatter\"},{\"hoverinfo\":\"none\",\"line\":{\"color\":\"gray\",\"width\":0.5},\"mode\":\"lines\",\"x\":[0.001241555023901678,-0.010138566464068752,null],\"y\":[0.012236812918270803,0.012782384528852511,null],\"type\":\"scatter\"},{\"hoverinfo\":\"none\",\"line\":{\"color\":\"gray\",\"width\":0.5},\"mode\":\"lines\",\"x\":[-0.012526993880146926,-0.010138566464068752,null],\"y\":[0.012919504257374263,0.012782384528852511,null],\"type\":\"scatter\"},{\"hoverinfo\":\"none\",\"line\":{\"color\":\"gray\",\"width\":0.5},\"mode\":\"lines\",\"x\":[-0.011010913178249551,-0.010138566464068752,null],\"y\":[0.013535687210624902,0.012782384528852511,null],\"type\":\"scatter\"},{\"hoverinfo\":\"none\",\"line\":{\"color\":\"gray\",\"width\":0.5},\"mode\":\"lines\",\"x\":[-0.0030443355334276536,-0.010138566464068752,null],\"y\":[0.012414875233485978,0.012782384528852511,null],\"type\":\"scatter\"},{\"hoverinfo\":\"none\",\"line\":{\"color\":\"gray\",\"width\":0.5},\"mode\":\"lines\",\"x\":[0.0010379572994957623,-0.010138566464068752,null],\"y\":[0.01411932935014203,0.012782384528852511,null],\"type\":\"scatter\"},{\"hoverinfo\":\"none\",\"line\":{\"color\":\"gray\",\"width\":0.5},\"mode\":\"lines\",\"x\":[-0.015386294756385446,-0.010138566464068752,null],\"y\":[0.013069668092507546,0.012782384528852511,null],\"type\":\"scatter\"},{\"hoverinfo\":\"none\",\"line\":{\"color\":\"gray\",\"width\":0.5},\"mode\":\"lines\",\"x\":[-0.0015415685970101183,-0.010138566464068752,null],\"y\":[0.012349580425748683,0.012782384528852511,null],\"type\":\"scatter\"},{\"hoverinfo\":\"none\",\"line\":{\"color\":\"gray\",\"width\":0.5},\"mode\":\"lines\",\"x\":[-0.013408864576555225,-0.010138566464068752,null],\"y\":[0.013042118433373657,0.012782384528852511,null],\"type\":\"scatter\"},{\"hoverinfo\":\"none\",\"line\":{\"color\":\"gray\",\"width\":0.5},\"mode\":\"lines\",\"x\":[0.0013523375876447691,-0.010138566464068752,null],\"y\":[0.012224228417664707,0.012782384528852511,null],\"type\":\"scatter\"},{\"hoverinfo\":\"none\",\"line\":{\"color\":\"gray\",\"width\":0.5},\"mode\":\"lines\",\"x\":[-0.0032018006177882015,-0.010138566464068752,null],\"y\":[0.012422199467738763,0.012782384528852511,null],\"type\":\"scatter\"},{\"hoverinfo\":\"none\",\"line\":{\"color\":\"gray\",\"width\":0.5},\"mode\":\"lines\",\"x\":[-0.010421931466161853,-0.010138566464068752,null],\"y\":[0.011883348320317315,0.012782384528852511,null],\"type\":\"scatter\"},{\"hoverinfo\":\"none\",\"line\":{\"color\":\"gray\",\"width\":0.5},\"mode\":\"lines\",\"x\":[-0.020132809737565635,-0.010138566464068752,null],\"y\":[0.012981483319663515,0.012782384528852511,null],\"type\":\"scatter\"},{\"hoverinfo\":\"none\",\"line\":{\"color\":\"gray\",\"width\":0.5},\"mode\":\"lines\",\"x\":[-0.013064870686143527,-0.010138566464068752,null],\"y\":[0.013032929138872775,0.012782384528852511,null],\"type\":\"scatter\"},{\"hoverinfo\":\"none\",\"line\":{\"color\":\"gray\",\"width\":0.5},\"mode\":\"lines\",\"x\":[-0.005337307089811499,-0.010138566464068752,null],\"y\":[0.012527817996135416,0.012782384528852511,null],\"type\":\"scatter\"},{\"hoverinfo\":\"none\",\"line\":{\"color\":\"gray\",\"width\":0.5},\"mode\":\"lines\",\"x\":[-0.008938278406526588,-0.010138566464068752,null],\"y\":[0.012732910404924604,0.012782384528852511,null],\"type\":\"scatter\"},{\"hoverinfo\":\"none\",\"line\":{\"color\":\"gray\",\"width\":0.5},\"mode\":\"lines\",\"x\":[0.0012714293179872855,-0.010138566464068752,null],\"y\":[0.01223127944402624,0.012782384528852511,null],\"type\":\"scatter\"},{\"hoverinfo\":\"none\",\"line\":{\"color\":\"gray\",\"width\":0.5},\"mode\":\"lines\",\"x\":[-0.0017856470568846554,-0.010138566464068752,null],\"y\":[0.01614206981231036,0.012782384528852511,null],\"type\":\"scatter\"},{\"hoverinfo\":\"none\",\"line\":{\"color\":\"gray\",\"width\":0.5},\"mode\":\"lines\",\"x\":[-0.010830743550256112,-0.010138566464068752,null],\"y\":[0.01287147347587354,0.012782384528852511,null],\"type\":\"scatter\"},{\"hoverinfo\":\"none\",\"line\":{\"color\":\"gray\",\"width\":0.5},\"mode\":\"lines\",\"x\":[-0.011190519425618002,-0.010138566464068752,null],\"y\":[0.013449821491123112,0.012782384528852511,null],\"type\":\"scatter\"},{\"hoverinfo\":\"none\",\"line\":{\"color\":\"gray\",\"width\":0.5},\"mode\":\"lines\",\"x\":[-0.015182050150041303,-0.010138566464068752,null],\"y\":[0.013059737806666676,0.012782384528852511,null],\"type\":\"scatter\"},{\"hoverinfo\":\"none\",\"line\":{\"color\":\"gray\",\"width\":0.5},\"mode\":\"lines\",\"x\":[-0.008889945571683927,-0.010138566464068752,null],\"y\":[0.01274760400375033,0.012782384528852511,null],\"type\":\"scatter\"},{\"hoverinfo\":\"none\",\"line\":{\"color\":\"gray\",\"width\":0.5},\"mode\":\"lines\",\"x\":[-0.015803382259696845,-0.010138566464068752,null],\"y\":[0.015504158760767902,0.012782384528852511,null],\"type\":\"scatter\"},{\"hoverinfo\":\"none\",\"line\":{\"color\":\"gray\",\"width\":0.5},\"mode\":\"lines\",\"x\":[-0.01447389956917384,-0.010138566464068752,null],\"y\":[0.013023957405790322,0.012782384528852511,null],\"type\":\"scatter\"},{\"hoverinfo\":\"none\",\"line\":{\"color\":\"gray\",\"width\":0.5},\"mode\":\"lines\",\"x\":[0.0016827660754479429,-0.010138566464068752,null],\"y\":[0.012182974651589183,0.012782384528852511,null],\"type\":\"scatter\"},{\"hoverinfo\":\"none\",\"line\":{\"color\":\"gray\",\"width\":0.5},\"mode\":\"lines\",\"x\":[0.0005558865821979549,-0.010138566464068752,null],\"y\":[0.01227131412802968,0.012782384528852511,null],\"type\":\"scatter\"},{\"hoverinfo\":\"none\",\"line\":{\"color\":\"gray\",\"width\":0.5},\"mode\":\"lines\",\"x\":[-0.0070081968363999644,-0.010138566464068752,null],\"y\":[0.01263453500352975,0.012782384528852511,null],\"type\":\"scatter\"},{\"hoverinfo\":\"none\",\"line\":{\"color\":\"gray\",\"width\":0.5},\"mode\":\"lines\",\"x\":[-0.011599442724137588,-0.010138566464068752,null],\"y\":[0.012268778402293965,0.012782384528852511,null],\"type\":\"scatter\"},{\"hoverinfo\":\"none\",\"line\":{\"color\":\"gray\",\"width\":0.5},\"mode\":\"lines\",\"x\":[-0.0005274268289858373,-0.010138566464068752,null],\"y\":[0.01229550920651839,0.012782384528852511,null],\"type\":\"scatter\"},{\"hoverinfo\":\"none\",\"line\":{\"color\":\"gray\",\"width\":0.5},\"mode\":\"lines\",\"x\":[0.0005756671489442064,-0.010138566464068752,null],\"y\":[0.01227049595960686,0.012782384528852511,null],\"type\":\"scatter\"},{\"hoverinfo\":\"none\",\"line\":{\"color\":\"gray\",\"width\":0.5},\"mode\":\"lines\",\"x\":[-0.018868368495629048,-0.010138566464068752,null],\"y\":[0.012810671540147355,0.012782384528852511,null],\"type\":\"scatter\"},{\"hoverinfo\":\"none\",\"line\":{\"color\":\"gray\",\"width\":0.5},\"mode\":\"lines\",\"x\":[-0.01853880762761236,-0.010138566464068752,null],\"y\":[0.013155421779130677,0.012782384528852511,null],\"type\":\"scatter\"},{\"hoverinfo\":\"none\",\"line\":{\"color\":\"gray\",\"width\":0.5},\"mode\":\"lines\",\"x\":[-0.010127743911606871,-0.010138566464068752,null],\"y\":[0.012604937597074458,0.012782384528852511,null],\"type\":\"scatter\"},{\"hoverinfo\":\"none\",\"line\":{\"color\":\"gray\",\"width\":0.5},\"mode\":\"lines\",\"x\":[-0.014010759753880392,-0.010138566464068752,null],\"y\":[0.013086542102836517,0.012782384528852511,null],\"type\":\"scatter\"},{\"hoverinfo\":\"none\",\"line\":{\"color\":\"gray\",\"width\":0.5},\"mode\":\"lines\",\"x\":[-0.007019914092449729,-0.010138566464068752,null],\"y\":[0.012618021128081804,0.012782384528852511,null],\"type\":\"scatter\"},{\"hoverinfo\":\"none\",\"line\":{\"color\":\"gray\",\"width\":0.5},\"mode\":\"lines\",\"x\":[-0.018373613161508262,-0.010138566464068752,null],\"y\":[0.013698616924935183,0.012782384528852511,null],\"type\":\"scatter\"},{\"hoverinfo\":\"none\",\"line\":{\"color\":\"gray\",\"width\":0.5},\"mode\":\"lines\",\"x\":[-0.010604332220424367,-0.010138566464068752,null],\"y\":[0.012857055032320038,0.012782384528852511,null],\"type\":\"scatter\"},{\"hoverinfo\":\"none\",\"line\":{\"color\":\"gray\",\"width\":0.5},\"mode\":\"lines\",\"x\":[-0.008202668962760012,-0.010138566464068752,null],\"y\":[0.012736015611467918,0.012782384528852511,null],\"type\":\"scatter\"},{\"hoverinfo\":\"none\",\"line\":{\"color\":\"gray\",\"width\":0.5},\"mode\":\"lines\",\"x\":[-0.01230850437400525,-0.010138566464068752,null],\"y\":[0.012907496173818528,0.012782384528852511,null],\"type\":\"scatter\"},{\"hoverinfo\":\"none\",\"line\":{\"color\":\"gray\",\"width\":0.5},\"mode\":\"lines\",\"x\":[-0.009256538843200341,-0.010138566464068752,null],\"y\":[0.0173715799672412,0.012782384528852511,null],\"type\":\"scatter\"},{\"hoverinfo\":\"none\",\"line\":{\"color\":\"gray\",\"width\":0.5},\"mode\":\"lines\",\"x\":[-0.017573619837544897,-0.010138566464068752,null],\"y\":[0.01410435009995155,0.012782384528852511,null],\"type\":\"scatter\"},{\"hoverinfo\":\"none\",\"line\":{\"color\":\"gray\",\"width\":0.5},\"mode\":\"lines\",\"x\":[-0.008624313793459388,-0.010138566464068752,null],\"y\":[0.012703806061376905,0.012782384528852511,null],\"type\":\"scatter\"},{\"hoverinfo\":\"none\",\"line\":{\"color\":\"gray\",\"width\":0.5},\"mode\":\"lines\",\"x\":[-0.009991477847821496,-0.010138566464068752,null],\"y\":[0.012791918010878056,0.012782384528852511,null],\"type\":\"scatter\"},{\"hoverinfo\":\"none\",\"line\":{\"color\":\"gray\",\"width\":0.5},\"mode\":\"lines\",\"x\":[-0.020383335908377282,-0.010138566464068752,null],\"y\":[0.01289862447591191,0.012782384528852511,null],\"type\":\"scatter\"},{\"hoverinfo\":\"none\",\"line\":{\"color\":\"gray\",\"width\":0.5},\"mode\":\"lines\",\"x\":[-0.016421619493618436,-0.010138566464068752,null],\"y\":[0.013467488344525163,0.012782384528852511,null],\"type\":\"scatter\"},{\"hoverinfo\":\"none\",\"line\":{\"color\":\"gray\",\"width\":0.5},\"mode\":\"lines\",\"x\":[-0.011705693304391149,-0.010138566464068752,null],\"y\":[0.012143547541630214,0.012782384528852511,null],\"type\":\"scatter\"},{\"hoverinfo\":\"none\",\"line\":{\"color\":\"gray\",\"width\":0.5},\"mode\":\"lines\",\"x\":[-0.01673669475230668,-0.010138566464068752,null],\"y\":[0.00972426741805261,0.012782384528852511,null],\"type\":\"scatter\"},{\"hoverinfo\":\"none\",\"line\":{\"color\":\"gray\",\"width\":0.5},\"mode\":\"lines\",\"x\":[-0.013209769473296981,-0.010138566464068752,null],\"y\":[0.013028074149187068,0.012782384528852511,null],\"type\":\"scatter\"},{\"hoverinfo\":\"none\",\"line\":{\"color\":\"gray\",\"width\":0.5},\"mode\":\"lines\",\"x\":[0.0014637955606242703,-0.010138566464068752,null],\"y\":[0.016090637789267722,0.012782384528852511,null],\"type\":\"scatter\"},{\"hoverinfo\":\"none\",\"line\":{\"color\":\"gray\",\"width\":0.5},\"mode\":\"lines\",\"x\":[-0.013056271275904613,-0.010138566464068752,null],\"y\":[0.012516294361929347,0.012782384528852511,null],\"type\":\"scatter\"},{\"hoverinfo\":\"none\",\"line\":{\"color\":\"gray\",\"width\":0.5},\"mode\":\"lines\",\"x\":[-0.013730381345486006,-0.010138566464068752,null],\"y\":[0.013065419938409104,0.012782384528852511,null],\"type\":\"scatter\"},{\"hoverinfo\":\"none\",\"line\":{\"color\":\"gray\",\"width\":0.5},\"mode\":\"lines\",\"x\":[-0.016455176930354046,-0.010138566464068752,null],\"y\":[0.013487503740655127,0.012782384528852511,null],\"type\":\"scatter\"},{\"hoverinfo\":\"none\",\"line\":{\"color\":\"gray\",\"width\":0.5},\"mode\":\"lines\",\"x\":[-0.009218494551035487,-0.010138566464068752,null],\"y\":[0.012748089011365465,0.012782384528852511,null],\"type\":\"scatter\"},{\"hoverinfo\":\"none\",\"line\":{\"color\":\"gray\",\"width\":0.5},\"mode\":\"lines\",\"x\":[-0.012503910082531574,-0.010138566464068752,null],\"y\":[0.01299749416566421,0.012782384528852511,null],\"type\":\"scatter\"},{\"hoverinfo\":\"none\",\"line\":{\"color\":\"gray\",\"width\":0.5},\"mode\":\"lines\",\"x\":[-0.005340511999390703,-0.010138566464068752,null],\"y\":[0.012685794012491305,0.012782384528852511,null],\"type\":\"scatter\"},{\"hoverinfo\":\"none\",\"line\":{\"color\":\"gray\",\"width\":0.5},\"mode\":\"lines\",\"x\":[-0.01200860572997599,-0.010138566464068752,null],\"y\":[0.012139377149331233,0.012782384528852511,null],\"type\":\"scatter\"},{\"hoverinfo\":\"text\",\"marker\":{\"color\":\"lightblue\",\"size\":10},\"mode\":\"markers+text\",\"text\":[\"ITCH\",\"EGFR\",\"EREG\",\"GRB2\",\"OSI-420\",\"JAK1\\u002fSTAT1\\u002fSTAT3\",\"lapatinib\",\"PI3K\",\"CUDC-101\",\"canertinib\",\"VAV2\",\"GAB1\",\"SCAMP3\",\"WZ4002\",\"CALM1\",\"CBLB\",\"PTPN2\",\"GNAI1\",\"CTNND1\",\"gefitinib\",\"neratinib\",\"tyrphostin AG 1478\",\"KCNN1\",\"sapitinib\",\"pelitinib\",\"PKN1\",\"EGF\",\"KCND3\",\"STAT5A\",\"ERBB2\",\"PIK3R1\",\"JAK2\",\"NCK1\",\"SNX9\",\"SHC1\",\"PRKG2\",\"EPN1\",\"EPS15\",\"AREG\",\"IKBKE\",\"PLCG1\",\"ZMYND8\",\"CAMK2A\",\"VCB-Cul2\",\"CALM3\",\"METTL3\",\"ERRFI1\",\"panitumumab\",\"SHC3\",\"BTC\",\"GSTP1\",\"RNF126\",\"CBL\",\"PIK3C2B\",\"SRC\",\"PTPN11\",\"SCAMP1\",\"dacomitinib\",\"XL-647\",\"HDAC6\",\"PTPN1\",\"erlotinib\",\"VARLITINIB\",\"STAT5B\",\"Gbeta\",\"COMMD5\",\"ABL1\",\"ABCA1\",\"PTPRJ\",\"SOCS5\",\"DUSP3\",\"TGFA\",\"afatinib\",\"AP2M1\",\"KRT14\",\"tyrphostin B42\",\"ANXA1\",\"AV412\",\"PTPN6\",\"RASA1\",\"CRK\",\"RGS16\",\"N-[4-[3-chloro-4-[(3-fluorophenyl)methoxy]anilino]-6-quinazolinyl]-2-propenamide\",\"TP53\",\"PTK2\",\"MAPK11\",\"BMS-599626\",\"PRKCA\",\"PKIA\",\"PCNA\",\"EZR\",\"LRIG1\",\"CDK1\",\"PTPRF\",\"USP8\",\"MAPK3\",\"KTN1\",\"STAT3\",\"HBEGF\",\"TRIP13\",\"ADAM17\",\"erlotinib hydrochloride\",\"PRKCD\",\"MAPK1\",\"vandetanib\",\"SPRED1\",\"RARA\",\"CAMK2G\",\"STAM2\",\"CCDC50\",\"LRRK1\",\"PTPRG\",\"GALNT8\",\"PTPRH\",\"PPARG\",\"EPGN\",\"HGS\",\"PTPN9\",\"PTPRS\",\"PTPRK\",\"GPER1\",\"CBLC\",\"KCNJ4\",\"MAPK14\",\"SHC2\",\"PD-153035 hydrochloride\",\"PKM\",\"SQSTM1\",\"SOX2\",\"ASAP3\",\"MUC1\",\"9-(1-Methyl-4-pyrazolyl)-1-[1-(1-oxoprop-2-enyl)-2,3-dihydroindol-6-yl]-2-benzo[h][1,6]naphthyridinone\",\"NCK2\",\"JAK1\",\"ATM\",\"NIBAN2\",\"RNF115\",\"ErbB receptor family\",\"CGRRF1\",\"EPB41\",\"CHKA\",\"LRRFIP1\",\"ESR1\",\"STAT1\",\"cetuximab\",\"PTGER2\",\"ERK1\\u002f2\",\"MYC\",\"CALM2\",\"ERBB3\",\"PLD2\",\"RIN1\",\"873837-23-1\"],\"textfont\":{\"size\":7},\"textposition\":\"top center\",\"x\":[-0.004048946290408079,-0.010138566464068752,-0.014598216270740198,-0.1722147999226248,-0.010695305579042148,-0.18463612591413714,-0.009579364415061518,-0.4563663207598042,-0.010405544095556381,-0.00518959670049113,-0.011685247432064928,0.2714419726789587,0.13194762653169975,-0.010942482037662923,0.10570756339266364,-0.0085905708650851,-0.005348924052806334,0.6789072849069733,0.6422145687381932,-0.00940875677979596,-0.020995759270430164,-0.013417798091428722,0.800923492337344,-0.003795835267209724,0.001157091523951997,0.0007778357380636263,-0.012174916564760066,0.508104630258242,0.42197505330520174,-0.0007365924908625281,0.02509358120436749,-0.007606940038846505,-0.7449422143391712,-0.00970630212487595,-0.45645182145834995,-0.015342271322390608,-0.009162876420149797,-0.0106433713314088,-0.013393030625590878,-0.7989754527683934,-0.27648798630081134,-0.013892545636789601,-0.0035867087093142142,-0.010882233026271153,0.7227267515795909,-0.008223815817232501,-0.0009167032781656398,-0.008548328861971329,-0.8044779246238529,-0.016592952621545445,-0.08300853375796356,0.002310003346722397,-0.0008719217031381115,-0.7460257693515042,-0.0018896357315177695,-0.01210091906198164,0.4470309176654962,-0.002315797053447595,-0.0009678552657748284,0.42492879984431475,-0.014366222279644045,-0.003915846498555649,0.001241555023901678,-0.5941615395499891,-0.012526993880146926,-0.011010913178249551,-0.0030443355334276536,-0.025882235572098684,0.0010379572994957623,-0.015386294756385446,-0.0015415685970101183,-0.013408864576555225,0.0013523375876447691,-0.0032018006177882015,0.160734919321682,-0.010421931466161853,-0.26800142691415246,-0.020132809737565635,-0.013064870686143527,-0.8267066139459578,0.6942355459746198,0.10160804331696707,-0.005337307089811499,-0.008938278406526588,-0.25598265575871265,0.0012714293179872855,-0.0017856470568846554,-0.010830743550256112,0.729158854497814,-0.23479225782226149,0.08760687425870466,-0.011190519425618002,-0.015182050150041303,-0.008889945571683927,-0.015803382259696845,-0.01447389956917384,0.0016827660754479429,-0.33531439952899894,0.0005558865821979549,-0.0070081968363999644,-0.011599442724137588,-0.0005274268289858373,0.0005756671489442064,-0.018868368495629048,-0.01853880762761236,-0.0007669063770016706,-0.010127743911606871,-0.014010759753880392,0.4745755291525532,-0.8589208749787081,0.860852182269131,-0.007019914092449729,-0.018373613161508262,-0.010604332220424367,-0.5012809892220467,-0.008202668962760012,0.08074062714572627,-0.01230850437400525,-0.009256538843200341,-0.017573619837544897,-0.008624313793459388,-0.009991477847821496,-0.1446278147335393,-0.020383335908377282,0.39308388446674264,-0.016421619493618436,-0.027118503118252965,0.2986056105567168,-0.011705693304391149,-0.6248815255295816,-0.851432454734781,-0.01673669475230668,-0.1346811863487397,0.5229867025906463,0.8067300437075947,-0.6670088216578772,-0.013209769473296981,-0.18020753709240916,0.0014637955606242703,0.3607303811116419,-0.013056271275904613,-0.013730381345486006,0.006977528880427595,0.3605234849131943,-0.016455176930354046,-0.009218494551035487,-0.012503910082531574,-0.7092729355545986,0.4216935852176046,0.44898148653852243,0.8266308264112879,-0.005340511999390703,-0.01200860572997599],\"y\":[0.012333259671157448,0.012782384528852511,0.013030365827558225,1.0,0.012862845612131663,-0.16810125376847718,0.012712474820774908,-0.14172688385467597,0.012802172432332287,0.012520210685495897,0.01285258491211779,-0.3341297146472925,-0.12298981238481324,0.012814057791648162,-0.3407046071649324,0.012732708621839658,0.012498986612805196,-0.526911642300745,0.6202662960631036,0.012746231512022276,0.011012091314426896,0.013041774392242491,0.3437281084653464,0.01245049415142244,0.012239938564653972,0.012262714361308286,0.012958191941706996,-0.6347917983243325,-0.32373406230182294,0.016819464240799564,0.9031419069677796,0.012648284305537843,0.41692026729325504,0.012795888589184665,0.48930296918259836,0.01320920202941833,0.012733432652470279,0.012788420620898478,0.012966683859652786,0.4499627782742367,-0.0016314373760925797,0.01199952706949936,0.01244041987087125,0.012757826940696021,0.262643970888098,0.01268187081244342,0.011979047832210583,0.012699637464462964,-0.6664415811288525,0.013619503060099373,0.3491797407960298,0.011942262714860614,0.012323617459362309,-0.5853524939925449,0.0159574041240502,0.012928249146088752,-0.5054184405987411,0.01163000015019608,0.013492821653823298,-0.7194288506554286,0.013114796151533015,0.01249975508192244,0.012236812918270803,-0.19910645564696883,0.012919504257374263,0.013535687210624902,0.012414875233485978,0.22659703573090742,0.01411932935014203,0.013069668092507546,0.012349580425748683,0.013042118433373657,0.012224228417664707,0.012422199467738763,0.02963419019400786,0.011883348320317315,0.26976939678904877,0.012981483319663515,0.013032929138872775,-0.25442043013075577,-0.29137075139533913,0.05007085251175682,0.012527817996135416,0.012732910404924604,0.958157955298663,0.01223127944402624,0.01614206981231036,0.01287147347587354,0.6345672859948295,-0.11097467845580569,-0.3775264395222279,0.013449821491123112,0.013059737806666676,0.01274760400375033,0.015504158760767902,0.013023957405790322,0.012182974651589183,-0.5810870651642696,0.01227131412802968,0.01263453500352975,0.012268778402293965,0.01229550920651839,0.01227049595960686,0.012810671540147355,0.013155421779130677,0.20381517850783007,0.012604937597074458,0.013086542102836517,0.4570729978325492,-0.39289451138432363,-0.1829294462735668,0.012618021128081804,0.013698616924935183,0.012857055032320038,0.8986892056675824,0.012736015611467918,0.04030980357201788,0.012907496173818528,0.0173715799672412,0.01410435009995155,0.012703806061376905,0.012791918010878056,-0.13383319560641355,0.01289862447591191,-0.07288545204127538,0.013467488344525163,-0.31358522339731704,0.2414179656365153,0.012143547541630214,-0.28428856183273626,-0.6612260564983546,0.00972426741805261,-0.3466339462542172,-0.2362771650142229,-0.13000613091195776,0.9188337928262934,0.013028074149187068,-0.6172314407342626,0.016090637789267722,-0.1358586619495931,0.012516294361929347,0.013065419938409104,-0.0954911045215052,-0.44441286530503676,0.013487503740655127,0.012748089011365465,0.01299749416566421,-0.22319980492838726,0.29734446907492934,-0.24453374605297967,0.11214269370190905,0.012685794012491305,0.012139377149331233],\"type\":\"scatter\"},{\"hoverinfo\":\"none\",\"mode\":\"text\",\"text\":[\"down-regulates quantity by destabilization\",\"up-regulates activity\",\"up-regulates activity\",\"up-regulates\",\"up-regulates\",\"up-regulates\",\"up-regulates activity\",\"down-regulates\",\"up-regulates activity\",\"unknown\",\"up-regulates activity\",\"up-regulates activity\",\"up-regulates\",\"up-regulates\",\"up-regulates activity\",\"up-regulates activity\",\"up-regulates\",\"up-regulates activity\",\"up-regulates activity\",\"up-regulates\",\"up-regulates activity\",\"down-regulates\",\"up-regulates activity\",\"up-regulates\",\"up-regulates\",\"up-regulates\",\"up-regulates activity\",\"down-regulates\",\"up-regulates\",\"up-regulates\",\"down-regulates quantity by destabilization\",\"up-regulates quantity by expression\",\"up-regulates activity\",\"up-regulates\",\"unknown\",\"down-regulates activity\",\"up-regulates\",\"up-regulates\",\"up-regulates\",\"up-regulates\",\"up-regulates\",\"up-regulates activity\",\"up-regulates activity\",\"up-regulates quantity\",\"down-regulates activity\",\"unknown\",\"down-regulates activity\",\"down-regulates activity\",\"down-regulates quantity by destabilization\",\"up-regulates activity\",\"up-regulates activity\",\"up-regulates\",\"down-regulates activity\",\"down-regulates activity\",\"up-regulates activity\",\"up-regulates activity\",\"up-regulates\",\"up-regulates activity\",\"up-regulates activity\",\"up-regulates activity\",\"up-regulates\",\"down-regulates\",\"up-regulates quantity by expression\",\"up-regulates\",\"up-regulates\",\"up-regulates activity\",\"down-regulates\",\"up-regulates\",\"up-regulates activity\",\"up-regulates\",\"down-regulates\",\"down-regulates activity\",\"down-regulates activity\",\"down-regulates activity\",\"up-regulates\",\"down-regulates\",\"down-regulates activity\",\"down-regulates\",\"down-regulates\",\"down-regulates activity\",\"down-regulates\",\"down-regulates\",\"down-regulates\",\"down-regulates activity\",\"up-regulates\",\"up-regulates\",\"up-regulates activity\",\"down-regulates\",\"down-regulates activity\",\"down-regulates\",\"down-regulates activity\",\"up-regulates\",\"down-regulates quantity by repression\",\"down-regulates activity\",\"down-regulates quantity by destabilization\",\"up-regulates quantity by expression\",\"down-regulates\",\"down-regulates activity\",\"up-regulates\",\"down-regulates quantity by destabilization\",\"down-regulates quantity by destabilization\",\"up-regulates activity\",\"down-regulates activity\",\"down-regulates\",\"down-regulates\",\"down-regulates activity\",\"down-regulates activity\",\"down-regulates\",\"down-regulates\",\"up-regulates quantity\",\"up-regulates\",\"up-regulates quantity by stabilization\",\"down-regulates quantity\",\"down-regulates activity\",\"up-regulates activity\",\"down-regulates\",\"down-regulates\",\"down-regulates\",\"down-regulates\",\"down-regulates\",\"down-regulates\",\"up-regulates quantity by expression\",\"down-regulates\",\"down-regulates\",\"down-regulates activity\",\"down-regulates\",\"down-regulates\",\"down-regulates activity\",\"up-regulates quantity by stabilization\",\"down-regulates\",\"up-regulates quantity by expression\",\"up-regulates\",\"up-regulates quantity by stabilization\",\"up-regulates\",\"down-regulates\",\"down-regulates activity\",\"down-regulates activity\",\"down-regulates activity\",\"down-regulates quantity by repression\",\"down-regulates activity\",\"up-regulates activity\",\"down-regulates activity\",\"down-regulates activity\",\"up-regulates\",\"down-regulates activity\",\"down-regulates activity\",\"unknown\",\"up-regulates\",\"down-regulates quantity by destabilization\",\"down-regulates\",\"down-regulates\",\"up-regulates quantity by expression\",\"down-regulates activity\",\"down-regulates quantity by destabilization\",\"down-regulates quantity by destabilization\",\"up-regulates activity\",\"down-regulates quantity by repression\",\"down-regulates activity\",\"up-regulates\",\"down-regulates\",\"up-regulates\",\"down-regulates\"],\"textfont\":{\"size\":7},\"textposition\":\"middle center\",\"x\":[-0.0070937563772384155,-0.09117668319334678,-0.09738734618910294,-0.23325244361193648,-0.01091190694806684,0.13065170310744498,0.0609045300338155,0.04778449846429744,0.33438435922145227,0.3160380011370622,0.3953924629366376,0.24898303189708665,0.2059182434205665,0.007477507370149368,-0.37754039040161996,-0.23329519396120935,-0.010390968897738776,-0.010138566464068752,-0.4045570096162311,-0.14331327638244004,-0.0054375794774656405,0.35629409255776107,-0.40730824554396083,-0.04657355011101616,-0.005505244083603432,-0.3780821679077865,0.21844617560071372,0.207395116690123,-0.0122523943718564,-0.3021500530070289,-0.018010401018083717,0.07529817642880662,-0.005527634871117196,-0.1390699966891106,-0.41842259020501327,0.3420484897552755,0.04573473842644916,-0.1330606111113907,0.35951014401687265,-0.12246541214316511,0.03873415389731795,-0.00887275325145763,-0.17272648299653384,-0.008573381650234357,-0.005452736420535211,0.23221848134424222,-0.4345297207213884,0.4253568079025311,-0.2557097778430577,0.03530103034082876,-0.07738319059880402,0.19147265900133695,-0.018628534791160858,0.14423352204632403,-0.3175100459968252,-0.4307855105994249,-0.07240987640640423,0.25642406806328877,0.398295738621763,-0.338573694060973,-0.09517305177823895,0.17529590732378658,-0.01092212988422995,-0.0015805187918205787,0.17519245922456278,-0.35970575100933366,0.20577750937676792,0.21942146003722685,0.4082461299736096,-0.012368391367404474,-0.01041693602155545,-0.009858965439565135,-0.010272055279812568,-0.007664081582279941,-0.01091190694806684,-0.010540524250865838,-0.009364568664576925,-0.007743745258437543,-0.009773661621932356,-0.015567162867249459,-0.011778182277748737,-0.006967200865639238,-0.0044907374700583775,-0.004680365363002563,-0.011156741514414408,-0.0054375794774656405,-0.00887275325145763,-0.00992243429447235,-0.012740418893229681,-0.009650721442109274,-0.010390968897738776,-0.011765798544829814,-0.012015556050429177,-0.006862637586691483,-0.010510399745169954,-0.009181191140650627,-0.005527634871117196,-0.00934344766302004,-0.0133657595428071,-0.0039142815586731775,-0.005505244083603432,-0.0060141010977932605,-0.011119742763025197,-0.0062271817587581735,-0.00555321086492179,-0.0122523943718564,-0.0070272064813122,-0.004448505720083537,-0.011332780172107839,-0.01057473982115915,-0.006591450998748203,-0.004550304582286495,-0.0127624306102271,-0.005840067530539435,-0.011773715520311989,-0.004393114438211991,-0.006670183540928477,-0.010280248965115302,-0.015135688100817193,-0.01160171857510614,-0.007737936776940126,-0.00953842243529767,-0.0044335685730407335,-0.005962106760476704,-0.010484655007162433,-0.010664542944843376,-0.012660308307055028,-0.00951425601787634,-0.012970974361882798,-0.012306233016621296,-0.004227900194310404,-0.0047913399409353985,-0.008573381650234357,-0.010869004594103171,-0.005332996646527295,-0.004781449657562273,-0.0145034674798489,-0.014338687045840556,-0.010133155187837813,-0.012074663108974572,-0.00857924027825924,-0.014256089812788506,-0.010371449342246559,-0.009170617713414382,-0.011223535419037001,-0.009697552653634547,-0.013856093150806825,-0.00938144012876407,-0.010065022155945125,-0.015260951186223018,-0.013280092978843593,-0.01092212988422995,-0.013437630608187714,-0.011674167968682866,-0.004337385451722241,-0.011597418869986682,-0.011934473904777379,-0.013296871697211398,-0.00967853050755212,-0.011321238273300163,-0.0077395392317297276,-0.011073586097022371],\"y\":[-0.0070937563772384155,-0.09117668319334678,-0.09738734618910294,-0.23325244361193648,-0.01091190694806684,0.13065170310744498,0.0609045300338155,0.04778449846429744,0.33438435922145227,0.3160380011370622,0.3953924629366376,0.24898303189708665,0.2059182434205665,0.007477507370149368,-0.37754039040161996,-0.23329519396120935,-0.010390968897738776,-0.010138566464068752,-0.4045570096162311,-0.14331327638244004,-0.0054375794774656405,0.35629409255776107,-0.40730824554396083,-0.04657355011101616,-0.005505244083603432,-0.3780821679077865,0.21844617560071372,0.207395116690123,-0.0122523943718564,-0.3021500530070289,-0.018010401018083717,0.07529817642880662,-0.005527634871117196,-0.1390699966891106,-0.41842259020501327,0.3420484897552755,0.04573473842644916,-0.1330606111113907,0.35951014401687265,-0.12246541214316511,0.03873415389731795,-0.00887275325145763,-0.17272648299653384,-0.008573381650234357,-0.005452736420535211,0.23221848134424222,-0.4345297207213884,0.4253568079025311,-0.2557097778430577,0.03530103034082876,-0.07738319059880402,0.19147265900133695,-0.018628534791160858,0.14423352204632403,-0.3175100459968252,-0.4307855105994249,-0.07240987640640423,0.25642406806328877,0.398295738621763,-0.338573694060973,-0.09517305177823895,0.17529590732378658,-0.01092212988422995,-0.0015805187918205787,0.17519245922456278,-0.35970575100933366,0.20577750937676792,0.21942146003722685,0.4082461299736096,-0.012368391367404474,-0.01041693602155545,-0.009858965439565135,-0.010272055279812568,-0.007664081582279941,-0.01091190694806684,-0.010540524250865838,-0.009364568664576925,-0.007743745258437543,-0.009773661621932356,-0.015567162867249459,-0.011778182277748737,-0.006967200865639238,-0.0044907374700583775,-0.004680365363002563,-0.011156741514414408,-0.0054375794774656405,-0.00887275325145763,-0.00992243429447235,-0.012740418893229681,-0.009650721442109274,-0.010390968897738776,-0.011765798544829814,-0.012015556050429177,-0.006862637586691483,-0.010510399745169954,-0.009181191140650627,-0.005527634871117196,-0.00934344766302004,-0.0133657595428071,-0.0039142815586731775,-0.005505244083603432,-0.0060141010977932605,-0.011119742763025197,-0.0062271817587581735,-0.00555321086492179,-0.0122523943718564,-0.0070272064813122,-0.004448505720083537,-0.011332780172107839,-0.01057473982115915,-0.006591450998748203,-0.004550304582286495,-0.0127624306102271,-0.005840067530539435,-0.011773715520311989,-0.004393114438211991,-0.006670183540928477,-0.010280248965115302,-0.015135688100817193,-0.01160171857510614,-0.007737936776940126,-0.00953842243529767,-0.0044335685730407335,-0.005962106760476704,-0.010484655007162433,-0.010664542944843376,-0.012660308307055028,-0.00951425601787634,-0.012970974361882798,-0.012306233016621296,-0.004227900194310404,-0.0047913399409353985,-0.008573381650234357,-0.010869004594103171,-0.005332996646527295,-0.004781449657562273,-0.0145034674798489,-0.014338687045840556,-0.010133155187837813,-0.012074663108974572,-0.00857924027825924,-0.014256089812788506,-0.010371449342246559,-0.009170617713414382,-0.011223535419037001,-0.009697552653634547,-0.013856093150806825,-0.00938144012876407,-0.010065022155945125,-0.015260951186223018,-0.013280092978843593,-0.01092212988422995,-0.013437630608187714,-0.011674167968682866,-0.004337385451722241,-0.011597418869986682,-0.011934473904777379,-0.013296871697211398,-0.00967853050755212,-0.011321238273300163,-0.0077395392317297276,-0.011073586097022371],\"type\":\"scatter\"}],                        {\"hovermode\":\"closest\",\"margin\":{\"b\":20,\"l\":5,\"r\":5,\"t\":40},\"showlegend\":false,\"title\":{\"font\":{\"size\":16},\"text\":\"Knowledge Graph\",\"x\":0.5},\"xaxis\":{\"visible\":false},\"yaxis\":{\"visible\":false},\"template\":{\"data\":{\"histogram2dcontour\":[{\"type\":\"histogram2dcontour\",\"colorbar\":{\"outlinewidth\":0,\"ticks\":\"\"},\"colorscale\":[[0.0,\"#0d0887\"],[0.1111111111111111,\"#46039f\"],[0.2222222222222222,\"#7201a8\"],[0.3333333333333333,\"#9c179e\"],[0.4444444444444444,\"#bd3786\"],[0.5555555555555556,\"#d8576b\"],[0.6666666666666666,\"#ed7953\"],[0.7777777777777778,\"#fb9f3a\"],[0.8888888888888888,\"#fdca26\"],[1.0,\"#f0f921\"]]}],\"choropleth\":[{\"type\":\"choropleth\",\"colorbar\":{\"outlinewidth\":0,\"ticks\":\"\"}}],\"histogram2d\":[{\"type\":\"histogram2d\",\"colorbar\":{\"outlinewidth\":0,\"ticks\":\"\"},\"colorscale\":[[0.0,\"#0d0887\"],[0.1111111111111111,\"#46039f\"],[0.2222222222222222,\"#7201a8\"],[0.3333333333333333,\"#9c179e\"],[0.4444444444444444,\"#bd3786\"],[0.5555555555555556,\"#d8576b\"],[0.6666666666666666,\"#ed7953\"],[0.7777777777777778,\"#fb9f3a\"],[0.8888888888888888,\"#fdca26\"],[1.0,\"#f0f921\"]]}],\"heatmap\":[{\"type\":\"heatmap\",\"colorbar\":{\"outlinewidth\":0,\"ticks\":\"\"},\"colorscale\":[[0.0,\"#0d0887\"],[0.1111111111111111,\"#46039f\"],[0.2222222222222222,\"#7201a8\"],[0.3333333333333333,\"#9c179e\"],[0.4444444444444444,\"#bd3786\"],[0.5555555555555556,\"#d8576b\"],[0.6666666666666666,\"#ed7953\"],[0.7777777777777778,\"#fb9f3a\"],[0.8888888888888888,\"#fdca26\"],[1.0,\"#f0f921\"]]}],\"heatmapgl\":[{\"type\":\"heatmapgl\",\"colorbar\":{\"outlinewidth\":0,\"ticks\":\"\"},\"colorscale\":[[0.0,\"#0d0887\"],[0.1111111111111111,\"#46039f\"],[0.2222222222222222,\"#7201a8\"],[0.3333333333333333,\"#9c179e\"],[0.4444444444444444,\"#bd3786\"],[0.5555555555555556,\"#d8576b\"],[0.6666666666666666,\"#ed7953\"],[0.7777777777777778,\"#fb9f3a\"],[0.8888888888888888,\"#fdca26\"],[1.0,\"#f0f921\"]]}],\"contourcarpet\":[{\"type\":\"contourcarpet\",\"colorbar\":{\"outlinewidth\":0,\"ticks\":\"\"}}],\"contour\":[{\"type\":\"contour\",\"colorbar\":{\"outlinewidth\":0,\"ticks\":\"\"},\"colorscale\":[[0.0,\"#0d0887\"],[0.1111111111111111,\"#46039f\"],[0.2222222222222222,\"#7201a8\"],[0.3333333333333333,\"#9c179e\"],[0.4444444444444444,\"#bd3786\"],[0.5555555555555556,\"#d8576b\"],[0.6666666666666666,\"#ed7953\"],[0.7777777777777778,\"#fb9f3a\"],[0.8888888888888888,\"#fdca26\"],[1.0,\"#f0f921\"]]}],\"surface\":[{\"type\":\"surface\",\"colorbar\":{\"outlinewidth\":0,\"ticks\":\"\"},\"colorscale\":[[0.0,\"#0d0887\"],[0.1111111111111111,\"#46039f\"],[0.2222222222222222,\"#7201a8\"],[0.3333333333333333,\"#9c179e\"],[0.4444444444444444,\"#bd3786\"],[0.5555555555555556,\"#d8576b\"],[0.6666666666666666,\"#ed7953\"],[0.7777777777777778,\"#fb9f3a\"],[0.8888888888888888,\"#fdca26\"],[1.0,\"#f0f921\"]]}],\"mesh3d\":[{\"type\":\"mesh3d\",\"colorbar\":{\"outlinewidth\":0,\"ticks\":\"\"}}],\"scatter\":[{\"fillpattern\":{\"fillmode\":\"overlay\",\"size\":10,\"solidity\":0.2},\"type\":\"scatter\"}],\"parcoords\":[{\"type\":\"parcoords\",\"line\":{\"colorbar\":{\"outlinewidth\":0,\"ticks\":\"\"}}}],\"scatterpolargl\":[{\"type\":\"scatterpolargl\",\"marker\":{\"colorbar\":{\"outlinewidth\":0,\"ticks\":\"\"}}}],\"bar\":[{\"error_x\":{\"color\":\"#2a3f5f\"},\"error_y\":{\"color\":\"#2a3f5f\"},\"marker\":{\"line\":{\"color\":\"#E5ECF6\",\"width\":0.5},\"pattern\":{\"fillmode\":\"overlay\",\"size\":10,\"solidity\":0.2}},\"type\":\"bar\"}],\"scattergeo\":[{\"type\":\"scattergeo\",\"marker\":{\"colorbar\":{\"outlinewidth\":0,\"ticks\":\"\"}}}],\"scatterpolar\":[{\"type\":\"scatterpolar\",\"marker\":{\"colorbar\":{\"outlinewidth\":0,\"ticks\":\"\"}}}],\"histogram\":[{\"marker\":{\"pattern\":{\"fillmode\":\"overlay\",\"size\":10,\"solidity\":0.2}},\"type\":\"histogram\"}],\"scattergl\":[{\"type\":\"scattergl\",\"marker\":{\"colorbar\":{\"outlinewidth\":0,\"ticks\":\"\"}}}],\"scatter3d\":[{\"type\":\"scatter3d\",\"line\":{\"colorbar\":{\"outlinewidth\":0,\"ticks\":\"\"}},\"marker\":{\"colorbar\":{\"outlinewidth\":0,\"ticks\":\"\"}}}],\"scattermapbox\":[{\"type\":\"scattermapbox\",\"marker\":{\"colorbar\":{\"outlinewidth\":0,\"ticks\":\"\"}}}],\"scatterternary\":[{\"type\":\"scatterternary\",\"marker\":{\"colorbar\":{\"outlinewidth\":0,\"ticks\":\"\"}}}],\"scattercarpet\":[{\"type\":\"scattercarpet\",\"marker\":{\"colorbar\":{\"outlinewidth\":0,\"ticks\":\"\"}}}],\"carpet\":[{\"aaxis\":{\"endlinecolor\":\"#2a3f5f\",\"gridcolor\":\"white\",\"linecolor\":\"white\",\"minorgridcolor\":\"white\",\"startlinecolor\":\"#2a3f5f\"},\"baxis\":{\"endlinecolor\":\"#2a3f5f\",\"gridcolor\":\"white\",\"linecolor\":\"white\",\"minorgridcolor\":\"white\",\"startlinecolor\":\"#2a3f5f\"},\"type\":\"carpet\"}],\"table\":[{\"cells\":{\"fill\":{\"color\":\"#EBF0F8\"},\"line\":{\"color\":\"white\"}},\"header\":{\"fill\":{\"color\":\"#C8D4E3\"},\"line\":{\"color\":\"white\"}},\"type\":\"table\"}],\"barpolar\":[{\"marker\":{\"line\":{\"color\":\"#E5ECF6\",\"width\":0.5},\"pattern\":{\"fillmode\":\"overlay\",\"size\":10,\"solidity\":0.2}},\"type\":\"barpolar\"}],\"pie\":[{\"automargin\":true,\"type\":\"pie\"}]},\"layout\":{\"autotypenumbers\":\"strict\",\"colorway\":[\"#636efa\",\"#EF553B\",\"#00cc96\",\"#ab63fa\",\"#FFA15A\",\"#19d3f3\",\"#FF6692\",\"#B6E880\",\"#FF97FF\",\"#FECB52\"],\"font\":{\"color\":\"#2a3f5f\"},\"hovermode\":\"closest\",\"hoverlabel\":{\"align\":\"left\"},\"paper_bgcolor\":\"white\",\"plot_bgcolor\":\"#E5ECF6\",\"polar\":{\"bgcolor\":\"#E5ECF6\",\"angularaxis\":{\"gridcolor\":\"white\",\"linecolor\":\"white\",\"ticks\":\"\"},\"radialaxis\":{\"gridcolor\":\"white\",\"linecolor\":\"white\",\"ticks\":\"\"}},\"ternary\":{\"bgcolor\":\"#E5ECF6\",\"aaxis\":{\"gridcolor\":\"white\",\"linecolor\":\"white\",\"ticks\":\"\"},\"baxis\":{\"gridcolor\":\"white\",\"linecolor\":\"white\",\"ticks\":\"\"},\"caxis\":{\"gridcolor\":\"white\",\"linecolor\":\"white\",\"ticks\":\"\"}},\"coloraxis\":{\"colorbar\":{\"outlinewidth\":0,\"ticks\":\"\"}},\"colorscale\":{\"sequential\":[[0.0,\"#0d0887\"],[0.1111111111111111,\"#46039f\"],[0.2222222222222222,\"#7201a8\"],[0.3333333333333333,\"#9c179e\"],[0.4444444444444444,\"#bd3786\"],[0.5555555555555556,\"#d8576b\"],[0.6666666666666666,\"#ed7953\"],[0.7777777777777778,\"#fb9f3a\"],[0.8888888888888888,\"#fdca26\"],[1.0,\"#f0f921\"]],\"sequentialminus\":[[0.0,\"#0d0887\"],[0.1111111111111111,\"#46039f\"],[0.2222222222222222,\"#7201a8\"],[0.3333333333333333,\"#9c179e\"],[0.4444444444444444,\"#bd3786\"],[0.5555555555555556,\"#d8576b\"],[0.6666666666666666,\"#ed7953\"],[0.7777777777777778,\"#fb9f3a\"],[0.8888888888888888,\"#fdca26\"],[1.0,\"#f0f921\"]],\"diverging\":[[0,\"#8e0152\"],[0.1,\"#c51b7d\"],[0.2,\"#de77ae\"],[0.3,\"#f1b6da\"],[0.4,\"#fde0ef\"],[0.5,\"#f7f7f7\"],[0.6,\"#e6f5d0\"],[0.7,\"#b8e186\"],[0.8,\"#7fbc41\"],[0.9,\"#4d9221\"],[1,\"#276419\"]]},\"xaxis\":{\"gridcolor\":\"white\",\"linecolor\":\"white\",\"ticks\":\"\",\"title\":{\"standoff\":15},\"zerolinecolor\":\"white\",\"automargin\":true,\"zerolinewidth\":2},\"yaxis\":{\"gridcolor\":\"white\",\"linecolor\":\"white\",\"ticks\":\"\",\"title\":{\"standoff\":15},\"zerolinecolor\":\"white\",\"automargin\":true,\"zerolinewidth\":2},\"scene\":{\"xaxis\":{\"backgroundcolor\":\"#E5ECF6\",\"gridcolor\":\"white\",\"linecolor\":\"white\",\"showbackground\":true,\"ticks\":\"\",\"zerolinecolor\":\"white\",\"gridwidth\":2},\"yaxis\":{\"backgroundcolor\":\"#E5ECF6\",\"gridcolor\":\"white\",\"linecolor\":\"white\",\"showbackground\":true,\"ticks\":\"\",\"zerolinecolor\":\"white\",\"gridwidth\":2},\"zaxis\":{\"backgroundcolor\":\"#E5ECF6\",\"gridcolor\":\"white\",\"linecolor\":\"white\",\"showbackground\":true,\"ticks\":\"\",\"zerolinecolor\":\"white\",\"gridwidth\":2}},\"shapedefaults\":{\"line\":{\"color\":\"#2a3f5f\"}},\"annotationdefaults\":{\"arrowcolor\":\"#2a3f5f\",\"arrowhead\":0,\"arrowwidth\":1},\"geo\":{\"bgcolor\":\"white\",\"landcolor\":\"#E5ECF6\",\"subunitcolor\":\"white\",\"showland\":true,\"showlakes\":true,\"lakecolor\":\"white\"},\"title\":{\"x\":0.05},\"mapbox\":{\"style\":\"light\"}}}},                        {\"responsive\": true}                    ).then(function(){\n",
       "                            \n",
       "var gd = document.getElementById('a940ceda-2835-4b2f-a5ea-cbe58fefb80f');\n",
       "var x = new MutationObserver(function (mutations, observer) {{\n",
       "        var display = window.getComputedStyle(gd).display;\n",
       "        if (!display || display === 'none') {{\n",
       "            console.log([gd, 'removed!']);\n",
       "            Plotly.purge(gd);\n",
       "            observer.disconnect();\n",
       "        }}\n",
       "}});\n",
       "\n",
       "// Listen for the removal of the full notebook cells\n",
       "var notebookContainer = gd.closest('#notebook-container');\n",
       "if (notebookContainer) {{\n",
       "    x.observe(notebookContainer, {childList: true});\n",
       "}}\n",
       "\n",
       "// Listen for the clearing of the current output cell\n",
       "var outputEl = gd.closest('.output');\n",
       "if (outputEl) {{\n",
       "    x.observe(outputEl, {childList: true});\n",
       "}}\n",
       "\n",
       "                        })                };                });            </script>        </div>"
      ]
     },
     "metadata": {},
     "output_type": "display_data"
    }
   ],
   "execution_count": 18
  },
  {
   "metadata": {},
   "cell_type": "code",
   "outputs": [],
   "execution_count": null,
   "source": "",
   "id": "8e7e97e8d2d3c404"
  }
 ],
 "metadata": {
  "kernelspec": {
   "display_name": "Python 3",
   "language": "python",
   "name": "python3"
  },
  "language_info": {
   "codemirror_mode": {
    "name": "ipython",
    "version": 2
   },
   "file_extension": ".py",
   "mimetype": "text/x-python",
   "name": "python",
   "nbconvert_exporter": "python",
   "pygments_lexer": "ipython2",
   "version": "2.7.6"
  }
 },
 "nbformat": 4,
 "nbformat_minor": 5
}
